{
 "cells": [
  {
   "cell_type": "code",
   "execution_count": 1,
   "metadata": {},
   "outputs": [],
   "source": [
    "from src.DataFolder import DataFolder\n",
    "from src.NeuralSignal import NeuralSignal\n",
    "from src.runtime_logger import logger_setup\n",
    "\n",
    "import yaml\n",
    "import numpy as np\n",
    "import pandas as pd\n",
    "import matplotlib.pyplot as plt\n",
    "\n",
    "data_path = \"/home/miranjo/phasic_tonic/data/processed\"\n",
    "config_path = \"/home/miranjo/phasic_tonic/configs/test.yaml\""
   ]
  },
  {
   "cell_type": "markdown",
   "metadata": {},
   "source": [
    "## Setup"
   ]
  },
  {
   "cell_type": "markdown",
   "metadata": {},
   "source": [
    "### Load the config file"
   ]
  },
  {
   "cell_type": "code",
   "execution_count": 2,
   "metadata": {},
   "outputs": [
    {
     "data": {
      "text/plain": [
       "<Logger runtime (DEBUG)>"
      ]
     },
     "execution_count": 2,
     "metadata": {},
     "output_type": "execute_result"
    }
   ],
   "source": [
    "with open(config_path, 'r') as f:\n",
    "    args = yaml.safe_load(f)\n",
    "\n",
    "fs                  = args.pop(\"fs\")\n",
    "f_theta             = (args.pop(\"f_theta_lower\"), args.pop(\"f_theta_upper\"))\n",
    "f_lowpass           = args.pop(\"f_lowpass\")\n",
    "lowpass_length      = args.pop(\"lowpass_length\")\n",
    "bandpass_length     = args.pop(\"bandpass_length\")\n",
    "threshold_bycycle   = args.pop(\"threshold_bycycle\")\n",
    "threshold_episode   = args.pop(\"threshold_episode\")\n",
    "\n",
    "# Start logger\n",
    "logger_setup()"
   ]
  },
  {
   "cell_type": "markdown",
   "metadata": {},
   "source": [
    "### Load the dataset"
   ]
  },
  {
   "cell_type": "code",
   "execution_count": 3,
   "metadata": {},
   "outputs": [],
   "source": [
    "remFolder = DataFolder(data_path)"
   ]
  },
  {
   "cell_type": "markdown",
   "metadata": {},
   "source": [
    "### Utilities"
   ]
  },
  {
   "cell_type": "code",
   "execution_count": 4,
   "metadata": {},
   "outputs": [],
   "source": [
    "def get_duration(episode):\n",
    "    return episode[1] - episode[0]"
   ]
  },
  {
   "cell_type": "markdown",
   "metadata": {},
   "source": [
    "# Analysis"
   ]
  },
  {
   "cell_type": "markdown",
   "metadata": {},
   "source": [
    "## Dataset"
   ]
  },
  {
   "cell_type": "code",
   "execution_count": 5,
   "metadata": {},
   "outputs": [],
   "source": [
    "phasic_HC = []\n",
    "phasic_OC = []\n",
    "tonic_HC = []\n",
    "tonic_OC = []\n",
    "\n",
    "for sample in remFolder:\n",
    "    lfpREMs = sample[\"data\"]\n",
    "    metadata = sample[\"metadata\"]\n",
    "    \n",
    "    #if (metadata[\"treatment\"] == \"TreatmentPositive\"): # Skip CBD treatment records\n",
    "    #    continue\n",
    "\n",
    "    if metadata[\"condition\"] == \"HC\":\n",
    "        homecage = True\n",
    "    else:\n",
    "        homecage = False\n",
    "    \n",
    "    for lfpREM in lfpREMs:\n",
    "        if(len(lfpREM) < 2500):\n",
    "            break #Skip when the duration is less than a second\n",
    "         \n",
    "        theta = NeuralSignal(lfpREM, fs)\n",
    "        theta.filter('lowpass', f_range=f_lowpass, n_seconds=lowpass_length)\n",
    "        theta.segment(f_range=f_theta, threshold_episode=threshold_episode, threshold_bycycle=threshold_bycycle)\n",
    "\n",
    "        for phasic in theta.phasic:\n",
    "            if homecage:\n",
    "                phasic_HC.append(get_duration(phasic))\n",
    "            else:\n",
    "                phasic_OC.append(get_duration(phasic))\n",
    "\n",
    "        for tonic in theta.tonic:\n",
    "            if homecage:\n",
    "                tonic_HC.append(get_duration(tonic))\n",
    "            else:\n",
    "                tonic_OC.append(get_duration(tonic))"
   ]
  },
  {
   "cell_type": "code",
   "execution_count": 6,
   "metadata": {},
   "outputs": [],
   "source": [
    "phasic = pd.concat([\n",
    "    pd.DataFrame(data={\"Duration (s)\" : np.array(phasic_HC)/2500, \"Homecage\" : np.ones(len(phasic_HC), dtype=np.int8)}),\n",
    "    pd.DataFrame(data={\"Duration (s)\" : np.array(phasic_OC)/2500, \"Homecage\" : np.zeros(len(phasic_OC), dtype=np.int8)})],\n",
    "    axis=0)\n",
    "\n",
    "tonic = pd.concat([\n",
    "    pd.DataFrame(data={\"Duration (s)\" : np.array(tonic_HC)/2500, \"Homecage\" : np.ones(len(tonic_HC), dtype=np.int8)}),\n",
    "    pd.DataFrame(data={\"Duration (s)\" : np.array(tonic_OC)/2500, \"Homecage\" : np.zeros(len(tonic_OC), dtype=np.int8)})],\n",
    "    axis=0)"
   ]
  },
  {
   "cell_type": "code",
   "execution_count": 12,
   "metadata": {},
   "outputs": [
    {
     "data": {
      "text/plain": [
       "Text(0, 0.5, 'Duration (s)')"
      ]
     },
     "execution_count": 12,
     "metadata": {},
     "output_type": "execute_result"
    },
    {
     "data": {
      "image/png": "[encoded data removed]",
      "text/plain": [
       "<Figure size 432x432 with 1 Axes>"
      ]
     },
     "metadata": {
      "needs_background": "light"
     },
     "output_type": "display_data"
    }
   ],
   "source": [
    "plt.figure(figsize=(6,6))\n",
    "plt.boxplot([phasic[phasic[\"Homecage\"] == 0][\"Duration (s)\"],\n",
    "             phasic[phasic[\"Homecage\"] == 1][\"Duration (s)\"]],\n",
    "             labels=[\"Object Space\", \"Homecage\"])\n",
    "plt.title(\"Phasic episodes duration\", fontsize=16)\n",
    "plt.ylabel(\"Duration (s)\", fontsize=14)"
   ]
  },
  {
   "cell_type": "code",
   "execution_count": 13,
   "metadata": {},
   "outputs": [
    {
     "data": {
      "text/plain": [
       "Text(0, 0.5, 'Duration (s)')"
      ]
     },
     "execution_count": 13,
     "metadata": {},
     "output_type": "execute_result"
    },
    {
     "data": {
      "image/png": "[encoded data removed]",
      "text/plain": [
       "<Figure size 432x432 with 1 Axes>"
      ]
     },
     "metadata": {
      "needs_background": "light"
     },
     "output_type": "display_data"
    }
   ],
   "source": [
    "plt.figure(figsize=(6,6))\n",
    "plt.boxplot([tonic[tonic[\"Homecage\"] == 0][\"Duration (s)\"],\n",
    "             tonic[tonic[\"Homecage\"] == 1][\"Duration (s)\"]],\n",
    "             labels=[\"Object Space\", \"Homecage\"])\n",
    "plt.title(\"Tonic episodes duration\", fontsize=16)\n",
    "plt.ylabel(\"Duration (s)\", fontsize=14)"
   ]
  },
  {
   "cell_type": "code",
   "execution_count": 16,
   "metadata": {},
   "outputs": [
    {
     "data": {
      "text/plain": [
       "Text(0, 0.5, 'Duration (s)')"
      ]
     },
     "execution_count": 16,
     "metadata": {},
     "output_type": "execute_result"
    },
    {
     "data": {
      "image/png": "[encoded data removed]",
      "text/plain": [
       "<Figure size 432x432 with 1 Axes>"
      ]
     },
     "metadata": {
      "needs_background": "light"
     },
     "output_type": "display_data"
    }
   ],
   "source": [
    "tonic_r = tonic[tonic[\"Duration (s)\"] < 500.0]\n",
    "plt.figure(figsize=(6,6))\n",
    "\n",
    "plt.boxplot([tonic_r[tonic_r[\"Homecage\"] == 0][\"Duration (s)\"],\n",
    "             tonic_r[tonic_r[\"Homecage\"] == 1][\"Duration (s)\"]],\n",
    "             labels=[\"Object Space\", \"Homecage\"])\n",
    "\n",
    "plt.title(\"Tonic episodes duration\", fontsize=16)\n",
    "plt.ylabel(\"Duration (s)\", fontsize=14)"
   ]
  },
  {
   "cell_type": "code",
   "execution_count": 20,
   "metadata": {},
   "outputs": [],
   "source": [
    "phasic.to_excel(\"phasic_episodic_duration.xlsx\")\n",
    "tonic.to_excel(\"tonic_episodic_duration.xlsx\")"
   ]
  }
 ],
 "metadata": {
  "kernelspec": {
   "display_name": "Python 3",
   "language": "python",
   "name": "python3"
  },
  "language_info": {
   "codemirror_mode": {
    "name": "ipython",
    "version": 3
   },
   "file_extension": ".py",
   "mimetype": "text/x-python",
   "name": "python",
   "nbconvert_exporter": "python",
   "pygments_lexer": "ipython3",
   "version": "3.10.12"
  }
 },
 "nbformat": 4,
 "nbformat_minor": 2
}
