{
 "cells": [
  {
   "cell_type": "code",
   "execution_count": 18,
   "metadata": {},
   "outputs": [],
   "source": [
    "import os\n",
    "from pathlib import Path\n",
    "BASE_DIR = \"/home/miranjo/phasic_tonic/data/raw/OSbasic\""
   ]
  },
  {
   "cell_type": "code",
   "execution_count": 25,
   "metadata": {},
   "outputs": [],
   "source": [
    "def rename_files(directory_path, new_filenames):\n",
    "   \"\"\"Sorts the files inside a directory and renames them based on a list of new filenames.\"\"\"\n",
    "\n",
    "   # Get the list of files in the directory\n",
    "   \n",
    "   files = [\n",
    "      str(file) for file in Path(directory_path).iterdir() if not file.name.startswith(\".\")\n",
    "      ]\n",
    "\n",
    "   # Sort the files\n",
    "   files.sort()\n",
    "  \n",
    "   #Check if the number of new filenames is the same\n",
    "   if len(new_filenames) != len(files):\n",
    "      raise ValueError(\"Number of filenames doesn't match.\")\n",
    "   \n",
    "   #Rename the files\n",
    "   for i, filename in enumerate(files):\n",
    "      new_filename = new_filenames[i]\n",
    "      print(filename + \" changed to: \" + new_filename)\n",
    "      old_filepath = os.path.join(directory_path, filename)\n",
    "      new_filepath = os.path.join(directory_path, new_filename)\n",
    "      os.rename(old_filepath, new_filepath)\n",
    "\n",
    "fnames = {\n",
    "      '1':['Rat-OS-Ephys_Rat1_SD4_CON_28-09-2017',\n",
    "              'Rat-OS-Ephys_Rat1_SD3_HC_27-09-2017',\n",
    "              'Rat-OS-Ephys_Rat1_SD1_OD_21-09-2017',\n",
    "              'Rat-OS-Ephys_Rat1_SD2_OR_25-09-2017',\n",
    "              'Rat-OS-Ephys_Rat1_SD5_OR-N_03-10-2017'],\n",
    "\n",
    "        '11':['Rat-OS-Ephys_Rat11_SD1_CON_29-10-2018',\n",
    "              'Rat-OS-Ephys_Rat11_SD3_HC_02-11-2018',\n",
    "              'Rat-OS-Ephys_Rat11_SD2_OD_32-10-2018',\n",
    "              'Rat-OS-Ephys_Rat11_SD4_OR_03-11-2018'],\n",
    "\n",
    "        '13':['Rat-OS-Ephys_Rat13_SD1_CON_13-05-2019',\n",
    "              'Rat-OS-Ephys_Rat13_SD11_OR-N_06-06-2019',\n",
    "              'Rat-OS-Ephys_Rat13_SD12_OR_10-06-2019',\n",
    "              'Rat-OS-Ephys_Rat13_SD13_OR-N_13-06-2019',\n",
    "              'Rat-OS-Ephys_Rat13_SD2_HC_15-05-2019',\n",
    "              'Rat-OS-Ephys_Rat13_SD3_OR_16-05-2019',\n",
    "              'Rat-OS-Ephys_Rat13_SD4_OD_21-05-2019'],\n",
    "\n",
    "        '3':['Rat-OS-Ephys_Rat3_SD2_CON_13-11-2017',\n",
    "           'Rat-OS-Ephys_Rat3_SD4_OD_16-11-2017',\n",
    "           'Rat-OS-Ephys_Rat3_SD1_OR_08-11-2017',\n",
    "           'Rat-OS-Ephys_Rat3_SD3_HC_15-11-2017',\n",
    "           'Rat-OS-Ephys_Rat3_SD5_OR-N_21-11-2017',\n",
    "           'Rat-OS-Ephys_Rat3_SD6_HC_23-11-2017'],\n",
    "        \n",
    "        '4':['Rat-OS-Ephys_Rat4_SD1_CON_11-12-2017',\n",
    "             'Rat-OS-Ephys_Rat4_SD6_OD_21-12-2017',\n",
    "             'Rat-OS-Ephys_Rat4_SD2_HC_13-12-2017',\n",
    "             'Rat-OS-Ephys_Rat4_SD3_OR_11-12-2017',\n",
    "             'Rat-OS-Ephys_Rat4_SD4_OR-N_18-12-2017'],\n",
    "      \n",
    "      '6':['Rat-OS-Ephys_Rat6_SD4_CON_22-02-2018',\n",
    "           'Rat-OS-Ephys_Rat6_SD10_OD_08-03-2018', #originally OD-N \n",
    "           'Rat-OS-Ephys_Rat6_SD1_HC_16-02-2018',\n",
    "           'Rat-OS-Ephys_Rat6_SD2_OD_19-02-2018',\n",
    "           'Rat-OS-Ephys_Rat6_SD3_HC_21-02-2018',\n",
    "           'Rat-OS-Ephys_Rat6_SD5_OR_26-02-2018',\n",
    "           'Rat-OS-Ephys_Rat6_SD6_HC_28-02-2018',\n",
    "           'Rat-OS-Ephys_Rat6_SD7_OR-N_01-03-2018'],\n",
    "      \n",
    "      '9':['Rat-OS-Ephys_Rat9_SD10_OR_04-06-2018',\n",
    "           'Rat-OS-Ephys_Rat9_SD14_OR_23-05-2018',#+SD&NOV\n",
    "           'Rat-OS-Ephys_Rat9_SD15_OR_25-06-2018',#+SD\n",
    "           'Rat-OS-Ephys_Rat9_SD16_OR-N_27-06-2018',\n",
    "           'Rat-OS-Ephys_Rat9_SD2_CON_11-05-2018',\n",
    "           'Rat-OS-Ephys_Rat9_SD3_HC_13-05-2018',\n",
    "           'Rat-OS-Ephys_Rat9_SD4_OD_14-05-2018']\n",
    "      }"
   ]
  },
  {
   "cell_type": "code",
   "execution_count": null,
   "metadata": {},
   "outputs": [],
   "source": [
    "base_dirs = [\n",
    "    str(file.name) for file in Path(BASE_DIR).iterdir() if not file.name.startswith(\".\")\n",
    "]\n",
    "\n",
    "for dir in sorted(base_dirs):\n",
    "    print(dir)\n",
    "    rename_files(os.path.join(BASE_DIR, dir), fnames[dir])\n",
    "\n",
    "print(\"Finished sorting and renaming files.\")"
   ]
  },
  {
   "cell_type": "code",
   "execution_count": 23,
   "metadata": {},
   "outputs": [
    {
     "data": {
      "text/plain": [
       "[PosixPath('/home/miranjo/phasic_tonic/data/raw/OSbasic/1'),\n",
       " PosixPath('/home/miranjo/phasic_tonic/data/raw/OSbasic/13'),\n",
       " PosixPath('/home/miranjo/phasic_tonic/data/raw/OSbasic/6'),\n",
       " PosixPath('/home/miranjo/phasic_tonic/data/raw/OSbasic/11'),\n",
       " PosixPath('/home/miranjo/phasic_tonic/data/raw/OSbasic/4'),\n",
       " PosixPath('/home/miranjo/phasic_tonic/data/raw/OSbasic/9'),\n",
       " PosixPath('/home/miranjo/phasic_tonic/data/raw/OSbasic/3')]"
      ]
     },
     "execution_count": 23,
     "metadata": {},
     "output_type": "execute_result"
    }
   ],
   "source": [
    "[f for f in Path(BASE_DIR).iterdir() if not f.name.startswith(\".\")]"
   ]
  }
 ],
 "metadata": {
  "kernelspec": {
   "display_name": "Python 3",
   "language": "python",
   "name": "python3"
  },
  "language_info": {
   "codemirror_mode": {
    "name": "ipython",
    "version": 3
   },
   "file_extension": ".py",
   "mimetype": "text/x-python",
   "name": "python",
   "nbconvert_exporter": "python",
   "pygments_lexer": "ipython3",
   "version": "3.10.12"
  }
 },
 "nbformat": 4,
 "nbformat_minor": 2
}
