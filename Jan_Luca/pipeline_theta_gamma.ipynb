{
 "cells": [
  {
   "cell_type": "code",
   "execution_count": 1,
   "metadata": {
    "colab": {
     "base_uri": "https://localhost:8080/"
    },
    "id": "KJ2mewG2p5pK",
    "outputId": "f5ee1491-678a-477c-dc63-1bbe6a05f279"
   },
   "outputs": [
    {
     "name": "stdout",
     "output_type": "stream",
     "text": [
      "Collecting emd\n",
      "  Downloading emd-0.6.2-py2.py3-none-any.whl (83 kB)\n",
      "\u001b[2K     \u001b[90m━━━━━━━━━━━━━━━━━━━━━━━━━━━━━━━━━━━━━━━━\u001b[0m \u001b[32m83.5/83.5 kB\u001b[0m \u001b[31m2.6 MB/s\u001b[0m eta \u001b[36m0:00:00\u001b[0m\n",
      "\u001b[?25hRequirement already satisfied: numpy>=1.19.3 in /usr/local/lib/python3.10/dist-packages (from emd) (1.23.5)\n",
      "Requirement already satisfied: scipy in /usr/local/lib/python3.10/dist-packages (from emd) (1.11.2)\n",
      "Collecting sparse (from emd)\n",
      "  Downloading sparse-0.14.0-py2.py3-none-any.whl (80 kB)\n",
      "\u001b[2K     \u001b[90m━━━━━━━━━━━━━━━━━━━━━━━━━━━━━━━━━━━━━━━━\u001b[0m \u001b[32m81.0/81.0 kB\u001b[0m \u001b[31m8.4 MB/s\u001b[0m eta \u001b[36m0:00:00\u001b[0m\n",
      "\u001b[?25hRequirement already satisfied: matplotlib in /usr/local/lib/python3.10/dist-packages (from emd) (3.7.1)\n",
      "Requirement already satisfied: pandas in /usr/local/lib/python3.10/dist-packages (from emd) (1.5.3)\n",
      "Requirement already satisfied: pyyaml>=5.1 in /usr/local/lib/python3.10/dist-packages (from emd) (6.0.1)\n",
      "Requirement already satisfied: joblib in /usr/local/lib/python3.10/dist-packages (from emd) (1.3.2)\n",
      "Requirement already satisfied: tabulate in /usr/local/lib/python3.10/dist-packages (from emd) (0.9.0)\n",
      "Collecting dcor (from emd)\n",
      "  Downloading dcor-0.6-py3-none-any.whl (55 kB)\n",
      "\u001b[2K     \u001b[90m━━━━━━━━━━━━━━━━━━━━━━━━━━━━━━━━━━━━━━━━\u001b[0m \u001b[32m55.5/55.5 kB\u001b[0m \u001b[31m7.0 MB/s\u001b[0m eta \u001b[36m0:00:00\u001b[0m\n",
      "\u001b[?25hRequirement already satisfied: numba>=0.51 in /usr/local/lib/python3.10/dist-packages (from dcor->emd) (0.56.4)\n",
      "Requirement already satisfied: contourpy>=1.0.1 in /usr/local/lib/python3.10/dist-packages (from matplotlib->emd) (1.1.0)\n",
      "Requirement already satisfied: cycler>=0.10 in /usr/local/lib/python3.10/dist-packages (from matplotlib->emd) (0.11.0)\n",
      "Requirement already satisfied: fonttools>=4.22.0 in /usr/local/lib/python3.10/dist-packages (from matplotlib->emd) (4.42.1)\n",
      "Requirement already satisfied: kiwisolver>=1.0.1 in /usr/local/lib/python3.10/dist-packages (from matplotlib->emd) (1.4.5)\n",
      "Requirement already satisfied: packaging>=20.0 in /usr/local/lib/python3.10/dist-packages (from matplotlib->emd) (23.1)\n",
      "Requirement already satisfied: pillow>=6.2.0 in /usr/local/lib/python3.10/dist-packages (from matplotlib->emd) (9.4.0)\n",
      "Requirement already satisfied: pyparsing>=2.3.1 in /usr/local/lib/python3.10/dist-packages (from matplotlib->emd) (3.1.1)\n",
      "Requirement already satisfied: python-dateutil>=2.7 in /usr/local/lib/python3.10/dist-packages (from matplotlib->emd) (2.8.2)\n",
      "Requirement already satisfied: pytz>=2020.1 in /usr/local/lib/python3.10/dist-packages (from pandas->emd) (2023.3.post1)\n",
      "Requirement already satisfied: llvmlite<0.40,>=0.39.0dev0 in /usr/local/lib/python3.10/dist-packages (from numba>=0.51->dcor->emd) (0.39.1)\n",
      "Requirement already satisfied: setuptools in /usr/local/lib/python3.10/dist-packages (from numba>=0.51->dcor->emd) (67.7.2)\n",
      "Requirement already satisfied: six>=1.5 in /usr/local/lib/python3.10/dist-packages (from python-dateutil>=2.7->matplotlib->emd) (1.16.0)\n",
      "Installing collected packages: sparse, dcor, emd\n",
      "Successfully installed dcor-0.6 emd-0.6.2 sparse-0.14.0\n"
     ]
    }
   ],
   "source": [
    "pip install emd"
   ]
  },
  {
   "cell_type": "code",
   "execution_count": 2,
   "metadata": {
    "colab": {
     "base_uri": "https://localhost:8080/"
    },
    "id": "Bpg7OCFWp5Ut",
    "outputId": "67980ab7-a3a7-49dc-ebd0-461da766a4a5"
   },
   "outputs": [
    {
     "name": "stdout",
     "output_type": "stream",
     "text": [
      "Collecting pingouin\n",
      "  Downloading pingouin-0.5.3-py3-none-any.whl (198 kB)\n",
      "\u001b[?25l     \u001b[90m━━━━━━━━━━━━━━━━━━━━━━━━━━━━━━━━━━━━━━━━\u001b[0m \u001b[32m0.0/198.6 kB\u001b[0m \u001b[31m?\u001b[0m eta \u001b[36m-:--:--\u001b[0m\r",
      "\u001b[2K     \u001b[91m━━━━━━━━━━━━━━━━━━━━━━━━━━━━━━━━━━━━━━\u001b[0m\u001b[90m╺\u001b[0m \u001b[32m194.6/198.6 kB\u001b[0m \u001b[31m6.2 MB/s\u001b[0m eta \u001b[36m0:00:01\u001b[0m\r",
      "\u001b[2K     \u001b[90m━━━━━━━━━━━━━━━━━━━━━━━━━━━━━━━━━━━━━━━\u001b[0m \u001b[32m198.6/198.6 kB\u001b[0m \u001b[31m5.0 MB/s\u001b[0m eta \u001b[36m0:00:00\u001b[0m\n",
      "\u001b[?25hRequirement already satisfied: numpy>=1.19 in /usr/local/lib/python3.10/dist-packages (from pingouin) (1.23.5)\n",
      "Requirement already satisfied: scipy>=1.7 in /usr/local/lib/python3.10/dist-packages (from pingouin) (1.11.2)\n",
      "Requirement already satisfied: pandas>=1.0 in /usr/local/lib/python3.10/dist-packages (from pingouin) (1.5.3)\n",
      "Requirement already satisfied: matplotlib>=3.0.2 in /usr/local/lib/python3.10/dist-packages (from pingouin) (3.7.1)\n",
      "Requirement already satisfied: seaborn>=0.11 in /usr/local/lib/python3.10/dist-packages (from pingouin) (0.12.2)\n",
      "Requirement already satisfied: statsmodels>=0.13 in /usr/local/lib/python3.10/dist-packages (from pingouin) (0.14.0)\n",
      "Requirement already satisfied: scikit-learn in /usr/local/lib/python3.10/dist-packages (from pingouin) (1.2.2)\n",
      "Collecting pandas-flavor>=0.2.0 (from pingouin)\n",
      "  Downloading pandas_flavor-0.6.0-py3-none-any.whl (7.2 kB)\n",
      "Collecting outdated (from pingouin)\n",
      "  Downloading outdated-0.2.2-py2.py3-none-any.whl (7.5 kB)\n",
      "Requirement already satisfied: tabulate in /usr/local/lib/python3.10/dist-packages (from pingouin) (0.9.0)\n",
      "Requirement already satisfied: contourpy>=1.0.1 in /usr/local/lib/python3.10/dist-packages (from matplotlib>=3.0.2->pingouin) (1.1.0)\n",
      "Requirement already satisfied: cycler>=0.10 in /usr/local/lib/python3.10/dist-packages (from matplotlib>=3.0.2->pingouin) (0.11.0)\n",
      "Requirement already satisfied: fonttools>=4.22.0 in /usr/local/lib/python3.10/dist-packages (from matplotlib>=3.0.2->pingouin) (4.42.1)\n",
      "Requirement already satisfied: kiwisolver>=1.0.1 in /usr/local/lib/python3.10/dist-packages (from matplotlib>=3.0.2->pingouin) (1.4.5)\n",
      "Requirement already satisfied: packaging>=20.0 in /usr/local/lib/python3.10/dist-packages (from matplotlib>=3.0.2->pingouin) (23.1)\n",
      "Requirement already satisfied: pillow>=6.2.0 in /usr/local/lib/python3.10/dist-packages (from matplotlib>=3.0.2->pingouin) (9.4.0)\n",
      "Requirement already satisfied: pyparsing>=2.3.1 in /usr/local/lib/python3.10/dist-packages (from matplotlib>=3.0.2->pingouin) (3.1.1)\n",
      "Requirement already satisfied: python-dateutil>=2.7 in /usr/local/lib/python3.10/dist-packages (from matplotlib>=3.0.2->pingouin) (2.8.2)\n",
      "Requirement already satisfied: pytz>=2020.1 in /usr/local/lib/python3.10/dist-packages (from pandas>=1.0->pingouin) (2023.3.post1)\n",
      "Requirement already satisfied: xarray in /usr/local/lib/python3.10/dist-packages (from pandas-flavor>=0.2.0->pingouin) (2023.7.0)\n",
      "Requirement already satisfied: patsy>=0.5.2 in /usr/local/lib/python3.10/dist-packages (from statsmodels>=0.13->pingouin) (0.5.3)\n",
      "Requirement already satisfied: setuptools>=44 in /usr/local/lib/python3.10/dist-packages (from outdated->pingouin) (67.7.2)\n",
      "Collecting littleutils (from outdated->pingouin)\n",
      "  Downloading littleutils-0.2.2.tar.gz (6.6 kB)\n",
      "  Preparing metadata (setup.py) ... \u001b[?25l\u001b[?25hdone\n",
      "Requirement already satisfied: requests in /usr/local/lib/python3.10/dist-packages (from outdated->pingouin) (2.31.0)\n",
      "Requirement already satisfied: joblib>=1.1.1 in /usr/local/lib/python3.10/dist-packages (from scikit-learn->pingouin) (1.3.2)\n",
      "Requirement already satisfied: threadpoolctl>=2.0.0 in /usr/local/lib/python3.10/dist-packages (from scikit-learn->pingouin) (3.2.0)\n",
      "Requirement already satisfied: six in /usr/local/lib/python3.10/dist-packages (from patsy>=0.5.2->statsmodels>=0.13->pingouin) (1.16.0)\n",
      "Requirement already satisfied: charset-normalizer<4,>=2 in /usr/local/lib/python3.10/dist-packages (from requests->outdated->pingouin) (3.2.0)\n",
      "Requirement already satisfied: idna<4,>=2.5 in /usr/local/lib/python3.10/dist-packages (from requests->outdated->pingouin) (3.4)\n",
      "Requirement already satisfied: urllib3<3,>=1.21.1 in /usr/local/lib/python3.10/dist-packages (from requests->outdated->pingouin) (2.0.4)\n",
      "Requirement already satisfied: certifi>=2017.4.17 in /usr/local/lib/python3.10/dist-packages (from requests->outdated->pingouin) (2023.7.22)\n",
      "Building wheels for collected packages: littleutils\n",
      "  Building wheel for littleutils (setup.py) ... \u001b[?25l\u001b[?25hdone\n",
      "  Created wheel for littleutils: filename=littleutils-0.2.2-py3-none-any.whl size=7028 sha256=583d83106df4ea0b4c75abfc6864585e49d77029a47f02d19b43234aef45b3b5\n",
      "  Stored in directory: /root/.cache/pip/wheels/3d/fe/b0/27a9892da57472e538c7452a721a9cf463cc03cf7379889266\n",
      "Successfully built littleutils\n",
      "Installing collected packages: littleutils, outdated, pandas-flavor, pingouin\n",
      "Successfully installed littleutils-0.2.2 outdated-0.2.2 pandas-flavor-0.6.0 pingouin-0.5.3\n"
     ]
    }
   ],
   "source": [
    "pip install pingouin"
   ]
  },
  {
   "cell_type": "code",
   "execution_count": 4,
   "metadata": {
    "colab": {
     "base_uri": "https://localhost:8080/",
     "height": 599
    },
    "id": "rcjKkZ_gqLdl",
    "outputId": "a7faa696-c3e9-47e2-b7ef-4373d0b2edcf"
   },
   "outputs": [
    {
     "name": "stdout",
     "output_type": "stream",
     "text": [
      "Collecting sails\n",
      "  Downloading sails-1.4.0-py2.py3-none-any.whl (98 kB)\n",
      "\u001b[?25l     \u001b[90m━━━━━━━━━━━━━━━━━━━━━━━━━━━━━━━━━━━━━━━━\u001b[0m \u001b[32m0.0/98.8 kB\u001b[0m \u001b[31m?\u001b[0m eta \u001b[36m-:--:--\u001b[0m\r",
      "\u001b[2K     \u001b[91m━━━━\u001b[0m\u001b[90m╺\u001b[0m\u001b[90m━━━━━━━━━━━━━━━━━━━━━━━━━━━━━━━━━━━\u001b[0m \u001b[32m10.2/98.8 kB\u001b[0m \u001b[31m?\u001b[0m eta \u001b[36m-:--:--\u001b[0m\r",
      "\u001b[2K     \u001b[91m━━━━━━━━━━━━\u001b[0m\u001b[90m╺\u001b[0m\u001b[90m━━━━━━━━━━━━━━━━━━━━━━━━━━\u001b[0m \u001b[32m30.7/98.8 kB\u001b[0m \u001b[31m434.1 kB/s\u001b[0m eta \u001b[36m0:00:01\u001b[0m\r",
      "\u001b[2K     \u001b[91m━━━━━━━━━━━━━━━━━━━━━━━━\u001b[0m\u001b[90m╺\u001b[0m\u001b[90m━━━━━━━━━━━━━━\u001b[0m \u001b[32m61.4/98.8 kB\u001b[0m \u001b[31m633.8 kB/s\u001b[0m eta \u001b[36m0:00:01\u001b[0m\r",
      "\u001b[2K     \u001b[90m━━━━━━━━━━━━━━━━━━━━━━━━━━━━━━━━━━━━━━━\u001b[0m \u001b[32m98.8/98.8 kB\u001b[0m \u001b[31m836.3 kB/s\u001b[0m eta \u001b[36m0:00:00\u001b[0m\n",
      "\u001b[?25hRequirement already satisfied: numpy in /usr/local/lib/python3.10/dist-packages (from sails) (1.23.5)\n",
      "Requirement already satisfied: scipy in /usr/local/lib/python3.10/dist-packages (from sails) (1.11.2)\n",
      "Requirement already satisfied: matplotlib in /usr/local/lib/python3.10/dist-packages (from sails) (3.7.1)\n",
      "Requirement already satisfied: h5py in /usr/local/lib/python3.10/dist-packages (from sails) (3.9.0)\n",
      "Requirement already satisfied: scikit-learn in /usr/local/lib/python3.10/dist-packages (from sails) (1.2.2)\n",
      "Collecting importlib-metadata<5.0.0 (from sails)\n",
      "  Downloading importlib_metadata-4.13.0-py3-none-any.whl (23 kB)\n",
      "Requirement already satisfied: zipp>=0.5 in /usr/local/lib/python3.10/dist-packages (from importlib-metadata<5.0.0->sails) (3.16.2)\n",
      "Requirement already satisfied: contourpy>=1.0.1 in /usr/local/lib/python3.10/dist-packages (from matplotlib->sails) (1.1.0)\n",
      "Requirement already satisfied: cycler>=0.10 in /usr/local/lib/python3.10/dist-packages (from matplotlib->sails) (0.11.0)\n",
      "Requirement already satisfied: fonttools>=4.22.0 in /usr/local/lib/python3.10/dist-packages (from matplotlib->sails) (4.42.1)\n",
      "Requirement already satisfied: kiwisolver>=1.0.1 in /usr/local/lib/python3.10/dist-packages (from matplotlib->sails) (1.4.5)\n",
      "Requirement already satisfied: packaging>=20.0 in /usr/local/lib/python3.10/dist-packages (from matplotlib->sails) (23.1)\n",
      "Requirement already satisfied: pillow>=6.2.0 in /usr/local/lib/python3.10/dist-packages (from matplotlib->sails) (9.4.0)\n",
      "Requirement already satisfied: pyparsing>=2.3.1 in /usr/local/lib/python3.10/dist-packages (from matplotlib->sails) (3.1.1)\n",
      "Requirement already satisfied: python-dateutil>=2.7 in /usr/local/lib/python3.10/dist-packages (from matplotlib->sails) (2.8.2)\n",
      "Requirement already satisfied: joblib>=1.1.1 in /usr/local/lib/python3.10/dist-packages (from scikit-learn->sails) (1.3.2)\n",
      "Requirement already satisfied: threadpoolctl>=2.0.0 in /usr/local/lib/python3.10/dist-packages (from scikit-learn->sails) (3.2.0)\n",
      "Requirement already satisfied: six>=1.5 in /usr/local/lib/python3.10/dist-packages (from python-dateutil>=2.7->matplotlib->sails) (1.16.0)\n",
      "Installing collected packages: importlib-metadata, sails\n",
      "  Attempting uninstall: importlib-metadata\n",
      "    Found existing installation: importlib-metadata 6.8.0\n",
      "    Uninstalling importlib-metadata-6.8.0:\n",
      "      Successfully uninstalled importlib-metadata-6.8.0\n",
      "Successfully installed importlib-metadata-4.13.0 sails-1.4.0\n"
     ]
    },
    {
     "data": {
      "application/vnd.colab-display-data+json": {
       "pip_warning": {
        "packages": [
         "importlib_metadata"
        ]
       }
      }
     },
     "metadata": {},
     "output_type": "display_data"
    }
   ],
   "source": [
    "pip install sails"
   ]
  },
  {
   "cell_type": "code",
   "execution_count": 49,
   "metadata": {
    "id": "f19_BiIQp40O"
   },
   "outputs": [],
   "source": [
    "import emd.sift as sift\n",
    "import emd.spectra as spectra\n",
    "import numpy as np\n",
    "import pingouin as pg\n",
    "import sails\n",
    "import scipy.io as sio\n",
    "from scipy.stats import zscore\n",
    "from scipy.signal import convolve2d\n",
    "from scipy.stats import zscore, binned_statistic\n",
    "import matplotlib.pyplot as plt"
   ]
  },
  {
   "cell_type": "markdown",
   "metadata": {
    "id": "fkGISB1vokt6"
   },
   "source": [
    "## Extracting data"
   ]
  },
  {
   "cell_type": "code",
   "execution_count": 9,
   "metadata": {
    "id": "dwzXX7Efoqit"
   },
   "outputs": [],
   "source": [
    "lfp=sio.loadmat(r'/content/drive/MyDrive/ThetaGamma/Rat/5/2021-07-06_15-49-34_posttrial5/HPC_100_CH14_0.continuous.mat')['HPC']\n",
    "states=sio.loadmat(r'/content/drive/MyDrive/ThetaGamma/Rat/5/2021-07-06_15-49-34_posttrial5/2021-07-06_15-49-34_posttrial5-states_ES.mat')['states']"
   ]
  },
  {
   "cell_type": "code",
   "execution_count": 12,
   "metadata": {
    "colab": {
     "base_uri": "https://localhost:8080/"
    },
    "id": "f5ba6bUcqgbf",
    "outputId": "0889d80e-f2f9-456a-a046-d29fd009de97"
   },
   "outputs": [
    {
     "name": "stdout",
     "output_type": "stream",
     "text": [
      "(27004246, 1)\n",
      "(1, 10801)\n"
     ]
    }
   ],
   "source": [
    "print(lfp.shape)\n",
    "print(states.shape)"
   ]
  },
  {
   "cell_type": "markdown",
   "metadata": {
    "id": "tCQaAde-q7A6"
   },
   "source": [
    "## Function definitions"
   ]
  },
  {
   "cell_type": "code",
   "execution_count": 13,
   "metadata": {
    "id": "kvHi5Pyqq6kK"
   },
   "outputs": [],
   "source": [
    "import emd.sift as sift\n",
    "import emd.spectra as spectra\n",
    "import numpy as np\n",
    "import pingouin as pg\n",
    "import sails\n",
    "from scipy.signal import convolve2d\n",
    "from scipy.stats import zscore, binned_statistic\n",
    "from scipy.ndimage import center_of_mass\n",
    "from skimage.feature import peak_local_max\n",
    "\n",
    "\n",
    "def get_rem_states(states, sample_rate):\n",
    "    states = np.squeeze(states)\n",
    "    rem_state_indices = np.where(states == 5)[0]\n",
    "    rem_state_changes = np.diff(rem_state_indices)\n",
    "    split_indices = np.where(rem_state_changes != 1)[0] + 1\n",
    "    split_indices = np.concatenate(([0], split_indices, [len(rem_state_indices)]))\n",
    "    consecutive_rem_states = np.empty((len(split_indices) - 1, 2))\n",
    "    for i, (start, end) in enumerate(zip(split_indices, split_indices[1:])):\n",
    "        start = rem_state_indices[start] * int(sample_rate)\n",
    "        end = rem_state_indices[end - 1] * int(sample_rate)\n",
    "        consecutive_rem_states[i] = np.array([start, end])\n",
    "    consecutive_rem_states = np.array(consecutive_rem_states)\n",
    "    null_states_mask = np.squeeze(np.diff(consecutive_rem_states) > 0)\n",
    "    consecutive_rem_states = consecutive_rem_states[null_states_mask]\n",
    "    return consecutive_rem_states\n",
    "\n",
    "\n",
    "def morlet_wt(x, sample_rate, frequencies=np.arange(1, 200, 1), n=5, mode='complex'):\n",
    "    wavelet_transform = sails.wavelet.morlet(x, freqs=frequencies, sample_rate=sample_rate, ncycles=n,\n",
    "                                             ret_mode=mode, normalise=None)\n",
    "    return wavelet_transform\n",
    "\n",
    "\n",
    "def tg_split(mask_freq, theta_range=(5, 12)):\n",
    "    lower = np.min(theta_range)\n",
    "    upper = np.max(theta_range)\n",
    "    mask_index = np.logical_and(mask_freq >= lower, mask_freq < upper)\n",
    "    sub_mask_index = mask_freq < lower\n",
    "    supra_mask_index = mask_freq > upper\n",
    "    sub = sub_mask_index\n",
    "    theta = mask_index\n",
    "    supra = supra_mask_index\n",
    "\n",
    "    return sub, theta, supra\n",
    "\n",
    "\n",
    "def zero_cross(x):\n",
    "    decay = np.logical_and((x > 0)[1:], ~(x > 0)[:-1]).nonzero()[0]\n",
    "    rise = np.logical_and((x <= 0)[1:], ~(x <= 0)[:-1]).nonzero()[0]\n",
    "    zero_xs = np.sort(np.append(rise, decay))\n",
    "    return zero_xs\n",
    "\n",
    "\n",
    "def extrema(x):\n",
    "    zero_xs = zero_cross(x)\n",
    "    peaks = np.empty((0,)).astype(int)\n",
    "    troughs = np.empty((0,)).astype(int)\n",
    "    for t1, t2 in zip(zero_xs, zero_xs[1:]):\n",
    "        extrema0 = np.argmax(np.abs(x[t1:t2])).astype(int) + t1\n",
    "        if bool(x[extrema0] > 0):\n",
    "            peaks = np.append(peaks, extrema0)\n",
    "        else:\n",
    "            troughs = np.append(troughs, extrema0)\n",
    "    return zero_xs, troughs, peaks\n",
    "\n",
    "\n",
    "def get_cycles_data(x, rem_states, sample_rate, theta_range=(5, 12)):\n",
    "    consecutive_rem_states = get_rem_states(rem_states, sample_rate)\n",
    "    rem_imf = []\n",
    "    rem_mask_freq = []\n",
    "    instantaneous_phase = []\n",
    "    instantaneous_freq = []\n",
    "    instantaneous_amp = []\n",
    "    sub_theta_sig = np.empty((0,))\n",
    "    theta_peak_sig = np.empty((0,))\n",
    "    cycles = np.empty((0, 5)).astype(int)\n",
    "    rem_dict = {}\n",
    "    sub_dict = rem_dict\n",
    "\n",
    "    for i, rem in enumerate(consecutive_rem_states, start=1):\n",
    "        sub_dict.setdefault(f'REM {i}', {})\n",
    "        start = int(rem[0])\n",
    "        end = int(rem[1])\n",
    "        signal = x[start:end]\n",
    "        imf, mask_freq = sift.iterated_mask_sift(signal,\n",
    "                                                 mask_0='zc',\n",
    "                                                 sample_rate=sample_rate,\n",
    "                                                 ret_mask_freq=True)\n",
    "        IP, IF, IA = spectra.frequency_transform(imf, sample_rate, 'nht')\n",
    "        sub_theta, theta, _ = tg_split(mask_freq, theta_range)\n",
    "\n",
    "        rem_imf.append(imf)\n",
    "        rem_mask_freq.append(mask_freq)\n",
    "        instantaneous_phase.append(IP)\n",
    "        instantaneous_freq.append(IF)\n",
    "        instantaneous_amp.append(IA)\n",
    "\n",
    "        theta_sig = np.sum(imf.T[theta], axis=0)\n",
    "        sub_theta_sig = np.append(sub_theta_sig, np.sum(imf.T[sub_theta], axis=0))\n",
    "\n",
    "        zero_x, trough, peak = extrema(np.sum(imf.T[theta], axis=0))\n",
    "\n",
    "        zero_x = np.vstack((zero_x[:-2:2], zero_x[1:-1:2], zero_x[2::2])).T\n",
    "\n",
    "        size_adjust = np.min([trough.shape[0], zero_x.shape[0], peak.shape[0]])\n",
    "        zero_x = zero_x[:size_adjust]\n",
    "        cycle = np.empty((size_adjust, 5)).astype(int)\n",
    "        cycle[:, [0, 2, 4]] = zero_x\n",
    "        if trough[0] < peak[0]:\n",
    "            cycle[:, 1] = trough[:zero_x.shape[0]]\n",
    "            cycle[:, 3] = peak[:zero_x.shape[0]]\n",
    "        else:\n",
    "            cycle[:, 3] = trough[:zero_x.shape[0]]\n",
    "            cycle[:, 1] = peak[:zero_x.shape[0]]\n",
    "\n",
    "        broken_cycle = cycle[~np.all(np.diff(cycle, axis=1) > 0, axis=1)]\n",
    "        broken_cycle_mask = np.diff(broken_cycle, axis=1) > 0\n",
    "\n",
    "        adjust_condition = np.all(np.all(broken_cycle_mask[1:] == [True, False, False, True],\n",
    "                                         axis=0) == True)\n",
    "        adjust_loc = np.where(np.all(np.diff(cycle, axis=1) > 0, axis=1) == False)[0][1:-1]\n",
    "\n",
    "        fixed_cycle = broken_cycle[1:-1]\n",
    "        if adjust_condition:\n",
    "            fixed_cycle[:, 1] = cycle[adjust_loc - 1, 1]\n",
    "            fixed_cycle[:, 3] = cycle[adjust_loc + 1, 3]\n",
    "        else:\n",
    "            fixed_cycle[:, 3] = cycle[adjust_loc - 1, 3]\n",
    "            fixed_cycle[:, 1] = cycle[adjust_loc + 1, 1]\n",
    "\n",
    "        cycle = cycle[np.all(np.diff(cycle, axis=1) > 0, axis=1)]\n",
    "        cycle = np.vstack((cycle, fixed_cycle))\n",
    "        if trough[0] < peak[0]:\n",
    "            cycle = np.hstack((cycle[:-1, 1:-1], cycle[1:, :2]))\n",
    "        else:\n",
    "            cycle = np.hstack((cycle[:-1, 3].reshape((-1, 1)), cycle[1:, :-1]))\n",
    "\n",
    "        theta_peak_sig = np.append(theta_peak_sig, theta_sig[cycle[:, 2]])\n",
    "        cycles = np.vstack((cycles, cycle + start))\n",
    "\n",
    "    min_peak_amp = 2 * sub_theta_sig.std()\n",
    "    peak_mask = theta_peak_sig > min_peak_amp\n",
    "    upper_diff = np.floor(1000 / np.min(theta_range))\n",
    "    lower_diff = np.floor(1000 / np.max(theta_range))\n",
    "    diff_mask = np.logical_and(np.diff(cycles[:, [0, -1]], axis=1) * (1000 / sample_rate) > lower_diff,\n",
    "                               np.diff(cycles[:, [0, -1]], axis=1) * (1000 / sample_rate) <= upper_diff)\n",
    "\n",
    "    extrema_mask = np.logical_and(np.squeeze(diff_mask), peak_mask)\n",
    "\n",
    "    cycles = cycles[extrema_mask]\n",
    "\n",
    "    for j, rem in enumerate(rem_dict.values()):\n",
    "        rem['start-end'] = consecutive_rem_states[j]\n",
    "        rem['IMFs'] = rem_imf[j]\n",
    "        rem['IMF_Frequencies'] = rem_mask_freq[j]\n",
    "        rem['Instantaneous Phases'] = instantaneous_phase[j]\n",
    "        rem['Instantaneous Frequencies'] = instantaneous_freq[j]\n",
    "        rem['Instantaneous Amplitudes'] = instantaneous_amp[j]\n",
    "        cycles_mask = (cycles > consecutive_rem_states[j, 0]) & (cycles < consecutive_rem_states[j, 1])\n",
    "        cycles_mask = np.all(cycles_mask == True, axis=1)\n",
    "        rem_cycles = cycles[cycles_mask]\n",
    "        rem['Cycles'] = rem_cycles\n",
    "    return rem_dict\n",
    "\n",
    "\n",
    "def bin_tf_to_fpp(x, power, bin_count):\n",
    "    if x.ndim == 1:  # Handle the case when x is of size (2)\n",
    "        bin_ranges = np.arange(x[0], x[1], 1)\n",
    "        fpp = binned_statistic(bin_ranges, power[:, x[0]:x[1]], 'mean', bins=bin_count)[0]\n",
    "        fpp = np.expand_dims(fpp, axis=0)  # Add an extra dimension to match the desired output shape\n",
    "    elif x.ndim == 2:  # Handle the case when x is of size (n, 2)\n",
    "        fpp = []\n",
    "        for i in range(x.shape[0]):\n",
    "            bin_ranges = np.arange(x[i, 0], x[i, 1], 1)\n",
    "            fpp_row = binned_statistic(bin_ranges, power[:, x[i, 0]:x[i, 1]], 'mean', bins=bin_count)[0]\n",
    "            fpp.append(fpp_row)\n",
    "        fpp = np.array(fpp)\n",
    "    else:\n",
    "        raise ValueError(\"Invalid size for x\")\n",
    "\n",
    "    return fpp\n",
    "\n",
    "\n",
    "def calculate_cog(frequencies, angles, amplitudes, ratio):\n",
    "    angles = np.deg2rad(angles)\n",
    "    cog = np.empty((0, 2))\n",
    "    if amplitudes.ndim == 2:\n",
    "        numerator = np.sum(frequencies * np.sum(amplitudes, axis=1))\n",
    "        denominator = np.sum(amplitudes)\n",
    "        cog_f = numerator / denominator\n",
    "        floor = np.floor(cog_f).astype(int) - frequencies[0]\n",
    "        ceil = np.ceil(cog_f).astype(int) - frequencies[0]\n",
    "        new_fpp = np.where(amplitudes >= np.max(amplitudes[[floor, ceil], :]) * ratio, amplitudes, 0)\n",
    "        cog_ph = np.rad2deg(pg.circ_mean(angles, w=np.sum(new_fpp, axis=0)))\n",
    "        cog = np.array([cog_f, cog_ph])\n",
    "    elif amplitudes.ndim == 3:\n",
    "        indices_to_subset = np.empty((amplitudes.shape[0], 2)).astype(int)\n",
    "        cog = np.empty((amplitudes.shape[0], 2))\n",
    "        numerator = np.sum(frequencies * np.sum(amplitudes, axis=2), axis=1)\n",
    "        denominator = np.sum(amplitudes, axis=(1, 2))\n",
    "        cog_f = (numerator / denominator)\n",
    "        vectorized_floor = np.vectorize(np.floor)\n",
    "        vectorized_ceil = np.vectorize(np.ceil)\n",
    "        indices_to_subset[:, 0] = vectorized_floor(cog_f) - frequencies[0]\n",
    "        indices_to_subset[:, 1] = vectorized_ceil(cog_f) - frequencies[0]\n",
    "        max_amps = np.max(amplitudes[np.arange(amplitudes.shape[0])[:, np.newaxis], indices_to_subset, :], axis=(1, 2))\n",
    "        print(max_amps.shape)\n",
    "        for i, max_amp in enumerate(max_amps):\n",
    "            new_fpp = np.where(amplitudes[i] >= max_amp * ratio, amplitudes[i], 0)\n",
    "            cog[i, 1] = np.rad2deg(pg.circ_mean(angles, w=np.sum(new_fpp, axis=0)))\n",
    "        cog[:, 0] = cog_f\n",
    "    return cog\n",
    "\n",
    "\n",
    "def boxcar_smooth(x, boxcar_window):\n",
    "    if x.ndim == 1:\n",
    "        if boxcar_window % 2 == 0:\n",
    "            boxcar_window += 1\n",
    "        window = np.ones((1, boxcar_window)) / boxcar_window\n",
    "        x_spectrum = np.convolve(x, window, mode='same')\n",
    "    else:\n",
    "        bool_window = np.where(~boxcar_window % 2 == 0, boxcar_window, boxcar_window + 1)\n",
    "        window_t = np.ones((1, bool_window[0])) / bool_window[0]\n",
    "        window_f = np.ones((1, bool_window[1])) / bool_window[1]\n",
    "        x_spectrum_t = convolve2d(x, window_t, mode='same')\n",
    "        x_spectrum = convolve2d(x_spectrum_t, window_f.T, mode='same')\n",
    "\n",
    "    return x_spectrum\n",
    "\n",
    "\n",
    "# def peak_cog(frequencies, angles, amplitudes, ratio):\n",
    "#     def nearest_peaks(frequency, angle, amplitude, ratio):\n",
    "#         peak_indices = peak_local_max(amplitude, min_distance=1, threshold_abs=0)\n",
    "#         cog_f = calculate_cog(frequency, angle, amplitude, ratio)\n",
    "\n",
    "#         if peak_indices.shape[0] == 0:\n",
    "#             cog_peak = cog_f\n",
    "#         else:\n",
    "#             cog_fx = np.array([cog_f[0], cog_f[0] * np.cos(np.deg2rad(cog_f[1] - angle[0])),\n",
    "#                                cog_f[0] * np.sin(np.deg2rad(cog_f[1] - angle[0]))])\n",
    "#             peak_loc = peak_loc = np.empty((peak_indices.shape[0], 4))\n",
    "#             peak_loc[:, [0, 1]] = np.array([frequency[peak_indices.T[0]], angle[peak_indices.T[1]]]).T\n",
    "#             peak_loc[:, 2] = peak_loc[:, 0] * np.cos(np.deg2rad(peak_loc[:, 1] - angle[0]))\n",
    "#             peak_loc[:, 3] = peak_loc[:, 0] * np.sin(np.deg2rad(peak_loc[:, 1] - angle[0]))\n",
    "#             peak_loc = peak_loc[:, [0, 2, 3]]\n",
    "#             distances = np.abs(peak_loc - cog_fx)\n",
    "\n",
    "#             cog_pos = peak_indices[np.argmin(np.linalg.norm(distances, axis=1))]\n",
    "\n",
    "#             cog_peak = np.array([frequency[cog_pos[0]], angle[cog_pos[1]]])\n",
    "\n",
    "#         return cog_peak\n",
    "\n",
    "#     if amplitudes.ndim == 2:\n",
    "#         cog = nearest_peaks(frequencies, angles, amplitudes, ratio)\n",
    "#     elif amplitudes.ndim == 3:\n",
    "#         cog = np.empty((amplitudes.shape[0], 2))\n",
    "#         for i, fpp in enumerate(amplitudes):\n",
    "#             cog[i] = nearest_peaks(frequencies, angles, fpp, ratio)\n",
    "#     return cog\n",
    "\n",
    "\n",
    "# def max_peaks(amplitudes):\n",
    "#     new_fpp = np.zeros(amplitudes.shape)\n",
    "#     if amplitudes.ndim == 2:\n",
    "#         peak_indices = peak_local_max(amplitudes, min_distance=1, threshold_abs=0)\n",
    "#         if peak_indices.shape[0] == 0:\n",
    "#             new_fpp = np.where(amplitudes > 0, amplitudes, 0)\n",
    "#         else:\n",
    "#             new_fpp[peak_indices.T[0], peak_indices.T[1]] = amplitudes[peak_indices.T[0], peak_indices.T[1]]\n",
    "#     elif amplitudes.ndim == 3:\n",
    "#         for i, fpp in enumerate(amplitudes):\n",
    "#             peak_indices = peak_local_max(fpp, min_distance=1, threshold_abs=0)\n",
    "#             if peak_indices.shape[0] == 0:\n",
    "#                 new_fpp[i] = np.where(fpp > 0, fpp, 0)\n",
    "#             else:\n",
    "#                 new_fpp[i, peak_indices.T[0], peak_indices.T[1]] = fpp[peak_indices.T[0], peak_indices.T[1]]\n",
    "#     return new_fpp\n",
    "\n",
    "\n",
    "# def boundary_peaks(amplitudes):\n",
    "#     adjusted_fpp = np.zeros(amplitudes.shape)\n",
    "#     if amplitudes.ndim == 2:\n",
    "#         peak_indices = peak_local_max(amplitudes, min_distance=1, threshold_abs=0)\n",
    "#         if peak_indices.shape[0] == 0:\n",
    "#             adjusted_fpp = np.where(amplitudes > 0, amplitudes, 0)\n",
    "#         else:\n",
    "#             new_fpp = amplitudes[peak_indices.T[0], peak_indices.T[1]]\n",
    "#             maximum = np.max(new_fpp)\n",
    "#             minimum = np.min(new_fpp)\n",
    "#             adjusted_fpp = np.where((amplitudes <= maximum) & (amplitudes >= 0.95*minimum), amplitudes, 0)\n",
    "#     elif amplitudes.ndim == 3:\n",
    "#         for i, fpp in enumerate(amplitudes):\n",
    "#             peak_indices = peak_local_max(fpp, min_distance=1, threshold_abs=0)\n",
    "#             print(peak_indices.shape)\n",
    "#             if peak_indices.shape[0] == 0:\n",
    "#                 adjusted_fpp[i] = np.where(fpp > 0, fpp, 0)\n",
    "#             else:\n",
    "#                 maximum = np.max(fpp[peak_indices.T[0], peak_indices.T[1]])\n",
    "#                 minimum = np.min(fpp[peak_indices.T[0], peak_indices.T[1]])\n",
    "#                 adjusted_fpp[i] = np.where((fpp <= maximum) & (fpp >= 0.95*minimum), fpp, 0)\n",
    "#     return adjusted_fpp\n",
    "\n",
    "\n",
    "def rem_fpp_gen(rem_dict, x, sample_rate, frequencies, angles, ratio, boxcar_window=None, norm='', fpp_method='',\n",
    "                cog_method=''):\n",
    "    x = np.squeeze(x)\n",
    "    cycles_dict = rem_dict\n",
    "    rem_dict = {}\n",
    "    sub_dict = rem_dict\n",
    "    for key, value in cycles_dict.items():\n",
    "        print(key)\n",
    "        if 'Cycles' in value.keys():\n",
    "            sub_dict.setdefault(key, {})\n",
    "            t = value['start-end'].astype(int)\n",
    "            print(t, t[0], t[1])\n",
    "            sig = x[t[0]:t[1]]\n",
    "            print(sig.shape)\n",
    "            power = morlet_wt(sig, sample_rate, frequencies, mode='power')\n",
    "            cycles = value['Cycles'][:, [0, -1]] - t[0]\n",
    "            # if boxcar_window is not None:\n",
    "            #     power = boxcar_smooth(power, boxcar_window)\n",
    "            # if norm == 'simple_x':\n",
    "            #     power = power / np.sum(power, axis=0)\n",
    "            # elif norm == 'simple_y':\n",
    "            #     power = power / np.sum(power, axis=1)[:, np.newaxis]\n",
    "            # elif norm == 'zscore_y':\n",
    "            #     power = zscore(power, axis=0)\n",
    "            # elif norm == 'zscore_x':\n",
    "            #     power = zscore(power, axis=1)\n",
    "            fpp_plots = bin_tf_to_fpp(cycles, power, 19)\n",
    "            sub_dict[key]['FPP_cycles'] = fpp_plots\n",
    "            # if fpp_method == 'max_peaks':\n",
    "            #     fpp_plots = max_peaks(fpp_plots)\n",
    "            #     print(fpp_plots.shape)\n",
    "            # elif fpp_method == 'boundary_peaks':\n",
    "            #     fpp_plots = boundary_peaks(fpp_plots)\n",
    "            # if cog_method == 'nearest':\n",
    "            #     cog = peak_cog(frequencies, angles, fpp_plots,ratio)\n",
    "            # else:\n",
    "            #     cog = calculate_cog(frequencies, angles, fpp_plots, ratio)\n",
    "            # sub_dict[key]['CoG'] = cog\n",
    "        else:\n",
    "            continue\n",
    "    return rem_dict"
   ]
  },
  {
   "cell_type": "markdown",
   "metadata": {
    "id": "hRxgnN9EosQ0"
   },
   "source": [
    "## Calculate Signal Features"
   ]
  },
  {
   "cell_type": "code",
   "execution_count": 14,
   "metadata": {
    "id": "EZKxwiuZovXc"
   },
   "outputs": [],
   "source": [
    "rem_dict=get_cycles_data(lfp,states,2500,(5,12))"
   ]
  },
  {
   "cell_type": "code",
   "execution_count": 24,
   "metadata": {
    "colab": {
     "base_uri": "https://localhost:8080/"
    },
    "id": "8lYWkUyZpvRi",
    "outputId": "e6c3f816-5a24-4920-ce13-cfa14428a11f"
   },
   "outputs": [
    {
     "data": {
      "text/plain": [
       "(112, 5)"
      ]
     },
     "execution_count": 24,
     "metadata": {},
     "output_type": "execute_result"
    }
   ],
   "source": [
    "rem_dict['REM 2']['Cycles'].shape"
   ]
  },
  {
   "cell_type": "markdown",
   "metadata": {
    "id": "Un3jRpBApwA9"
   },
   "source": [
    "## Calculating morelet wavelet transforms"
   ]
  },
  {
   "cell_type": "code",
   "execution_count": 29,
   "metadata": {
    "colab": {
     "base_uri": "https://localhost:8080/"
    },
    "id": "v471VPgForyz",
    "outputId": "ed04d4b7-c6a5-41eb-d76c-909c1044ea23"
   },
   "outputs": [
    {
     "name": "stdout",
     "output_type": "stream",
     "text": [
      "[[3817500 4115000]\n",
      " [5492500 5547500]\n",
      " [5895000 5997500]\n",
      " [6987500 7022500]\n",
      " [7177500 7472500]]\n"
     ]
    }
   ],
   "source": [
    "rem_periods= get_rem_states(states, 2500).astype(int)\n",
    "print(rem_periods)"
   ]
  },
  {
   "cell_type": "code",
   "execution_count": 40,
   "metadata": {
    "colab": {
     "base_uri": "https://localhost:8080/"
    },
    "id": "rlPrNCAUpGLI",
    "outputId": "5b9b0811-6758-4342-deb4-f11e1bd032ef"
   },
   "outputs": [
    {
     "name": "stdout",
     "output_type": "stream",
     "text": [
      "[3817500 4115000]\n",
      "[5492500 5547500]\n",
      "[5895000 5997500]\n",
      "[6987500 7022500]\n",
      "[7177500 7472500]\n",
      "5\n"
     ]
    }
   ],
   "source": [
    "rem_signals=[]\n",
    "for rem in rem_periods:\n",
    "  print(rem)\n",
    "  signal= lfp[rem[0]:rem[1]]\n",
    "  rem_signals.append(np.squeeze(signal))\n",
    "\n",
    "print (len(rem_signals))"
   ]
  },
  {
   "cell_type": "code",
   "execution_count": 41,
   "metadata": {
    "colab": {
     "base_uri": "https://localhost:8080/"
    },
    "id": "lwem1nj_vS4k",
    "outputId": "def224a7-f615-4a68-e6c5-810c5e508caf"
   },
   "outputs": [
    {
     "name": "stdout",
     "output_type": "stream",
     "text": [
      "(297500,)\n"
     ]
    }
   ],
   "source": [
    "print(rem_signals[0].shape)"
   ]
  },
  {
   "cell_type": "code",
   "execution_count": 70,
   "metadata": {
    "id": "BVK2X4-40mAi"
   },
   "outputs": [],
   "source": [
    "frequencies = np.arange(20,140,1)\n",
    "angles=np.linspace(-180,180,19)\n",
    "t=np.linspace(rem_periods[1,0],rem_periods[1,1],len(rem_signals[1]))/2500"
   ]
  },
  {
   "cell_type": "code",
   "execution_count": 42,
   "metadata": {
    "colab": {
     "base_uri": "https://localhost:8080/"
    },
    "id": "gAe3UezotgtV",
    "outputId": "356dab00-e33f-4ac3-cb5d-bbf27264afb7"
   },
   "outputs": [
    {
     "name": "stdout",
     "output_type": "stream",
     "text": [
      "5\n"
     ]
    }
   ],
   "source": [
    "rem_tf_power=[]\n",
    "\n",
    "for sig in rem_signals:\n",
    "  power=morlet_wt(sig,2500,frequencies,mode='power')\n",
    "\n",
    "  rem_tf_power.append(power)\n",
    "\n",
    "print(len(rem_tf_power))"
   ]
  },
  {
   "cell_type": "code",
   "execution_count": 44,
   "metadata": {
    "id": "a_fqzQetwgtM"
   },
   "outputs": [],
   "source": []
  },
  {
   "cell_type": "code",
   "execution_count": 47,
   "metadata": {
    "colab": {
     "base_uri": "https://localhost:8080/",
     "height": 802
    },
    "id": "rQd2Y4rwogIL",
    "outputId": "6e4d5fcf-e292-4fcd-cb59-2b1e9cd1a720"
   },
   "outputs": [
    {
     "data": {
      "text/plain": [
       "Text(0, 0.5, 'Frequency (Hz)')"
      ]
     },
     "execution_count": 47,
     "metadata": {},
     "output_type": "execute_result"
    },
    {
     "data": {
      "image/png": "[encoded data removed]",
      "text/plain": [
       "<Figure size 2000x1000 with 1 Axes>"
      ]
     },
     "metadata": {},
     "output_type": "display_data"
    }
   ],
   "source": [
    "plt.gcf().set_size_inches(20, 10)\n",
    "plt.contourf(t,np.arange(20,140,1),rem_tf_power[1])\n",
    "plt.xlabel(r'Time (seconds)')\n",
    "plt.ylabel(r'Frequency (Hz)')"
   ]
  },
  {
   "cell_type": "code",
   "execution_count": 53,
   "metadata": {
    "colab": {
     "base_uri": "https://localhost:8080/",
     "height": 802
    },
    "id": "rHG5PQx-w9JR",
    "outputId": "7347c4eb-18f8-4d89-9743-7aa41726a29a"
   },
   "outputs": [
    {
     "data": {
      "text/plain": [
       "Text(0, 0.5, 'Frequency (Hz)')"
      ]
     },
     "execution_count": 53,
     "metadata": {},
     "output_type": "execute_result"
    },
    {
     "data": {
      "image/png": "[encoded data removed]",
      "text/plain": [
       "<Figure size 2000x1000 with 1 Axes>"
      ]
     },
     "metadata": {},
     "output_type": "display_data"
    }
   ],
   "source": [
    "plt.gcf().set_size_inches(20, 10)\n",
    "plt.contourf(t,np.arange(20,140,1),zscore(rem_tf_power[1],axis=0))\n",
    "plt.xlabel(r'Time (seconds)')\n",
    "plt.ylabel(r'Frequency (Hz)')"
   ]
  },
  {
   "cell_type": "code",
   "execution_count": 71,
   "metadata": {
    "colab": {
     "base_uri": "https://localhost:8080/"
    },
    "id": "fBFvTMVSyP4U",
    "outputId": "b7023d4d-2082-482d-9971-e7f3fe112284"
   },
   "outputs": [
    {
     "name": "stdout",
     "output_type": "stream",
     "text": [
      "(112, 5)\n",
      "[[5492953 5493010 5493095 5493218 5493281]\n",
      " [5493281 5493362 5493525 5493569 5493604]\n",
      " [5493604 5493724 5493878 5493919 5493973]\n",
      " [5493973 5494058 5494184 5494225 5494273]\n",
      " [5494637 5494656 5494817 5494870 5494937]\n",
      " [5494937 5495006 5495074 5495123 5495175]]\n"
     ]
    }
   ],
   "source": [
    "rem_two_cycles= rem_dict['REM 2']['Cycles'].astype(int)\n",
    "rem_two_power= rem_tf_power[1]\n",
    "\n",
    "print(rem_two_cycles.shape)\n",
    "print(rem_two_cycles[0:6])\n"
   ]
  },
  {
   "cell_type": "code",
   "execution_count": 72,
   "metadata": {
    "colab": {
     "base_uri": "https://localhost:8080/"
    },
    "id": "q2Mw5HUyypJ_",
    "outputId": "209b134f-1e51-4fa3-b195-a03d548e5077"
   },
   "outputs": [
    {
     "name": "stdout",
     "output_type": "stream",
     "text": [
      "(112, 2)\n",
      "[[ 453  781]\n",
      " [ 781 1104]\n",
      " [1104 1473]\n",
      " [1473 1773]\n",
      " [2137 2437]\n",
      " [2437 2675]]\n"
     ]
    }
   ],
   "source": [
    "new_cycles_var=rem_two_cycles[:,[0,-1]]-rem_periods[1,0]\n",
    "print(new_cycles_var.shape)\n",
    "print(new_cycles_var[0:6])\n",
    "\n"
   ]
  },
  {
   "cell_type": "code",
   "execution_count": 73,
   "metadata": {
    "id": "p2qmbkhLy_MH"
   },
   "outputs": [],
   "source": [
    "fpp_plots=bin_tf_to_fpp(new_cycles_var,zscore(rem_tf_power[1]),bin_count=19)"
   ]
  },
  {
   "cell_type": "code",
   "execution_count": 74,
   "metadata": {
    "colab": {
     "base_uri": "https://localhost:8080/",
     "height": 1000
    },
    "id": "pD7JyINs0doT",
    "outputId": "d64acba5-1b0f-41aa-d43a-c616ef1a22bb"
   },
   "outputs": [
    {
     "data": {
      "text/plain": [
       "Text(0, 0.5, 'Frequency (Hz)')"
      ]
     },
     "execution_count": 74,
     "metadata": {},
     "output_type": "execute_result"
    },
    {
     "data": {
      "image/png": "[encoded data removed]",
      "text/plain": [
       "<Figure size 1000x1500 with 1 Axes>"
      ]
     },
     "metadata": {},
     "output_type": "display_data"
    }
   ],
   "source": [
    "plt.gcf().set_size_inches(10, 15)\n",
    "plt.contourf(angles,frequencies,fpp_plots[100])\n",
    "plt.xlabel(r'Phase(°)')\n",
    "plt.ylabel(r'Frequency (Hz)')"
   ]
  }
 ],
 "metadata": {
  "colab": {
   "provenance": []
  },
  "kernelspec": {
   "display_name": "Python 3 (ipykernel)",
   "language": "python",
   "name": "python3"
  },
  "language_info": {
   "codemirror_mode": {
    "name": "ipython",
    "version": 3
   },
   "file_extension": ".py",
   "mimetype": "text/x-python",
   "name": "python",
   "nbconvert_exporter": "python",
   "pygments_lexer": "ipython3",
   "version": "3.10.5"
  }
 },
 "nbformat": 4,
 "nbformat_minor": 1
}
