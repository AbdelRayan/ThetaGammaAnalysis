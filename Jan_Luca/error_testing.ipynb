{
 "cells": [
  {
   "cell_type": "code",
   "execution_count": 14,
   "id": "d8a5a1c1",
   "metadata": {},
   "outputs": [],
   "source": [
    "import scipy.io as sio\n",
    "import numpy as np\n",
    "import emd\n"
   ]
  },
  {
   "cell_type": "code",
   "execution_count": 38,
   "id": "7de25e95",
   "metadata": {},
   "outputs": [],
   "source": [
    "signal=sio.loadmat(r\"E:\\Donders\\0_rem_test\\raw\\CN\\Post_trial5_2018-02-22_13-22-10\\post_trial5_HPC_merged.mat\")['HPC']\n",
    "states=sio.loadmat(r\"E:\\Donders\\0_rem_test\\raw\\CN\\Post_trial5_2018-02-22_13-22-10\\post_trial5_states_merged.mat\")['states']"
   ]
  },
  {
   "cell_type": "code",
   "execution_count": 6,
   "id": "aa379af2",
   "metadata": {},
   "outputs": [],
   "source": [
    "def get_rem_states(states, sample_rate):\n",
    "    try:\n",
    "        states = np.squeeze(states)\n",
    "        rem_state_indices = np.where(states == 5)[0]\n",
    "        \n",
    "        # Check if there are any REM states\n",
    "        if len(rem_state_indices) == 0:\n",
    "            return np.array([])\n",
    "\n",
    "        rem_state_changes = np.diff(rem_state_indices)\n",
    "        split_indices = np.where(rem_state_changes != 1)[0] + 1\n",
    "        split_indices = np.concatenate(([0], split_indices, [len(rem_state_indices)]))\n",
    "        consecutive_rem_states = np.empty((len(split_indices) - 1, 2))\n",
    "        for i, (start, end) in enumerate(zip(split_indices, split_indices[1:])):\n",
    "            start = rem_state_indices[start] * int(sample_rate)\n",
    "            end = rem_state_indices[end - 1] * int(sample_rate)\n",
    "            consecutive_rem_states[i] = np.array([start, end])\n",
    "        consecutive_rem_states = np.array(consecutive_rem_states)\n",
    "        null_states_mask = np.squeeze(np.diff(consecutive_rem_states) > 0)\n",
    "        consecutive_rem_states = consecutive_rem_states[null_states_mask]\n",
    "        return consecutive_rem_states\n",
    "    except IndexError as e:\n",
    "        print(f\"An IndexError occurred in get_rem_states: {e}\")\n",
    "        return np.array([])  # or any default value you want\n",
    "    "
   ]
  },
  {
   "cell_type": "code",
   "execution_count": 39,
   "id": "03b77307",
   "metadata": {},
   "outputs": [],
   "source": [
    "rem_state_8 = get_rem_states(states, 2500)[7].astype(int)"
   ]
  },
  {
   "cell_type": "code",
   "execution_count": 40,
   "id": "979aa02b",
   "metadata": {},
   "outputs": [
    {
     "name": "stdout",
     "output_type": "stream",
     "text": [
      "(2,)\n"
     ]
    }
   ],
   "source": [
    "print(rem_state_8.shape)"
   ]
  },
  {
   "cell_type": "code",
   "execution_count": 41,
   "id": "511ee606",
   "metadata": {},
   "outputs": [],
   "source": [
    "x=np.squeeze(signal[rem_state_8[0]:rem_state_8[1]])"
   ]
  },
  {
   "cell_type": "code",
   "execution_count": 42,
   "id": "50c2fe4d",
   "metadata": {},
   "outputs": [
    {
     "name": "stdout",
     "output_type": "stream",
     "text": [
      "(180000,)\n"
     ]
    }
   ],
   "source": [
    "print(x.shape)"
   ]
  },
  {
   "cell_type": "code",
   "execution_count": 44,
   "id": "e1748cc2",
   "metadata": {},
   "outputs": [],
   "source": [
    "y=emd.sift.iterated_mask_sift(x,mask_0='zc',sample_rate=2500,ret_mask_freq=True)"
   ]
  },
  {
   "cell_type": "code",
   "execution_count": 19,
   "id": "ad1d8dbb",
   "metadata": {},
   "outputs": [],
   "source": [
    "def tg_split(mask_freq, theta_range=(5, 12)):\n",
    "    \"\"\"\n",
    "        Split a frequency vector into sub-theta, theta, and supra-theta components.\n",
    "\n",
    "        Parameters:\n",
    "        mask_freq (numpy.ndarray): A frequency vector or array of frequency values.\n",
    "        theta_range (tuple, optional): A tuple defining the theta frequency range (lower, upper).\n",
    "            Default is (5, 12).\n",
    "\n",
    "        Returns:\n",
    "        tuple: A tuple containing boolean masks for sub-theta, theta, and supra-theta frequency components.\n",
    "\n",
    "        Notes: - This function splits a frequency mask into three components based on a specified theta frequency\n",
    "        range. - The theta frequency range is defined by the 'theta_range' parameter. - The resulting masks 'sub',\n",
    "        'theta', and 'supra' represent sub-theta, theta, and supra-theta frequency components.\n",
    "    \"\"\"\n",
    "    lower = np.min(theta_range)\n",
    "    upper = np.max(theta_range)\n",
    "    mask_index = np.logical_and(mask_freq >= lower, mask_freq < upper)\n",
    "    sub_mask_index = mask_freq < lower\n",
    "    supra_mask_index = mask_freq > upper\n",
    "    sub = sub_mask_index\n",
    "    theta = mask_index\n",
    "    supra = supra_mask_index\n",
    "\n",
    "    return sub, theta, supra"
   ]
  },
  {
   "cell_type": "code",
   "execution_count": 33,
   "id": "06290fe1",
   "metadata": {},
   "outputs": [],
   "source": [
    "def extrema(x):\n",
    "    \"\"\"\n",
    "    Find extrema (peaks, troughs) and zero crossings in a 1D signal.\n",
    "\n",
    "    Parameters:\n",
    "    x (numpy.ndarray): The input 1D signal.\n",
    "\n",
    "    Returns:\n",
    "    tuple: A tuple containing:\n",
    "        - numpy.ndarray: Indices of zero-crossings in the input signal.\n",
    "        - numpy.ndarray: Indices of troughs in the input signal.\n",
    "        - numpy.ndarray: Indices of peaks in the input signal.\n",
    "\n",
    "    Notes:\n",
    "    - This function identifies and returns the indices of zero-crossings, troughs, and peaks in a given 1D signal.\n",
    "    - Zero-crossings are points where the signal crosses the zero axis.\n",
    "    - Troughs are local minima, and peaks are local maxima in the signal.\n",
    "    \"\"\"\n",
    "    zero_xs = zero_cross(x)\n",
    "    peaks = np.empty((0,)).astype(int)\n",
    "    troughs = np.empty((0,)).astype(int)\n",
    "    for t1, t2 in zip(zero_xs, zero_xs[1:]):\n",
    "        extrema0 = np.argmax(np.abs(x[t1:t2])).astype(int) + t1\n",
    "        if bool(x[extrema0] > 0):\n",
    "            peaks = np.append(peaks, extrema0)\n",
    "        else:\n",
    "            troughs = np.append(troughs, extrema0)\n",
    "    return zero_xs, troughs, peaks\n",
    "def zero_cross(x):\n",
    "    \"\"\"\n",
    "    Find the indices of zero-crossings in a 1D signal.\n",
    "\n",
    "    Parameters:\n",
    "    x (numpy.ndarray): The input 1D signal.\n",
    "\n",
    "    Returns:\n",
    "    numpy.ndarray: An array of indices where zero-crossings occur in the input signal.\n",
    "\n",
    "    Notes:\n",
    "    - This function identifies the indices where zero-crossings occur in a given 1D signal.\n",
    "    - It detects both rising and falling zero-crossings.\n",
    "    \"\"\"\n",
    "    decay = np.logical_and((x > 0)[1:], ~(x > 0)[:-1]).nonzero()[0]\n",
    "    rise = np.logical_and((x <= 0)[1:], ~(x <= 0)[:-1]).nonzero()[0]\n",
    "    zero_xs = np.sort(np.append(rise, decay))\n",
    "    return zero_xs"
   ]
  },
  {
   "cell_type": "code",
   "execution_count": 45,
   "id": "3fa12c29",
   "metadata": {},
   "outputs": [
    {
     "name": "stdout",
     "output_type": "stream",
     "text": [
      "[0.15888998 0.01026717 0.00600468 0.00269528 0.00082731 0.00028074]\n"
     ]
    }
   ],
   "source": [
    "print(y[1])"
   ]
  },
  {
   "cell_type": "code",
   "execution_count": 46,
   "id": "a40dafee",
   "metadata": {},
   "outputs": [],
   "source": [
    "_,theta,_=tg_split(y[1],theta_range=(5, 12))"
   ]
  },
  {
   "cell_type": "code",
   "execution_count": 47,
   "id": "bfe3b427",
   "metadata": {},
   "outputs": [
    {
     "name": "stdout",
     "output_type": "stream",
     "text": [
      "[False False False False False False]\n"
     ]
    }
   ],
   "source": [
    "print(theta)"
   ]
  },
  {
   "cell_type": "code",
   "execution_count": 48,
   "id": "6c8bb69a",
   "metadata": {},
   "outputs": [],
   "source": [
    "IMF=y[0].T\n",
    "theta_IMF=IMF[theta]\n"
   ]
  },
  {
   "cell_type": "code",
   "execution_count": 49,
   "id": "99f76bc3",
   "metadata": {},
   "outputs": [
    {
     "name": "stdout",
     "output_type": "stream",
     "text": [
      "(0, 180000)\n"
     ]
    }
   ],
   "source": [
    "print(theta_IMF.shape)"
   ]
  },
  {
   "cell_type": "code",
   "execution_count": 50,
   "id": "26f79d97",
   "metadata": {},
   "outputs": [],
   "source": [
    "theta_signal=np.sum(theta_IMF,axis=0) "
   ]
  },
  {
   "cell_type": "code",
   "execution_count": 51,
   "id": "c634fd9e",
   "metadata": {},
   "outputs": [
    {
     "name": "stdout",
     "output_type": "stream",
     "text": [
      "(180000,)\n"
     ]
    }
   ],
   "source": [
    "print(theta_signal.shape)"
   ]
  },
  {
   "cell_type": "code",
   "execution_count": 52,
   "id": "23f4dc69",
   "metadata": {},
   "outputs": [],
   "source": [
    "zero_x=zero_cross(theta_signal)"
   ]
  },
  {
   "cell_type": "code",
   "execution_count": 53,
   "id": "446e0bfd",
   "metadata": {},
   "outputs": [
    {
     "name": "stdout",
     "output_type": "stream",
     "text": [
      "(0,)\n"
     ]
    }
   ],
   "source": [
    "print(zero_x.shape)"
   ]
  },
  {
   "cell_type": "code",
   "execution_count": 54,
   "id": "56e7a9e0",
   "metadata": {},
   "outputs": [],
   "source": [
    "zero_x, troughs, peaks=extrema(theta_signal)"
   ]
  },
  {
   "cell_type": "code",
   "execution_count": 55,
   "id": "ffa1cef1",
   "metadata": {},
   "outputs": [
    {
     "name": "stdout",
     "output_type": "stream",
     "text": [
      "(0,)\n",
      "(0,)\n",
      "(0,)\n"
     ]
    }
   ],
   "source": [
    "print(zero_x.shape)\n",
    "print(troughs.shape)\n",
    "print(peaks.shape)"
   ]
  },
  {
   "cell_type": "code",
   "execution_count": null,
   "id": "237399cc",
   "metadata": {},
   "outputs": [],
   "source": []
  }
 ],
 "metadata": {
  "kernelspec": {
   "display_name": "Python 3 (ipykernel)",
   "language": "python",
   "name": "python3"
  },
  "language_info": {
   "codemirror_mode": {
    "name": "ipython",
    "version": 3
   },
   "file_extension": ".py",
   "mimetype": "text/x-python",
   "name": "python",
   "nbconvert_exporter": "python",
   "pygments_lexer": "ipython3",
   "version": "3.10.5"
  }
 },
 "nbformat": 4,
 "nbformat_minor": 5
}
