{
 "cells": [
  {
   "cell_type": "code",
   "execution_count": 1,
   "outputs": [],
   "source": [
    "# Importing packages\n",
    "from src.utils import *\n",
    "from src.functions import *\n",
    "from src.process_functions import *\n",
    "import os\n",
    "import numpy as np\n",
    "import pandas as pd"
   ],
   "metadata": {
    "collapsed": false,
    "ExecuteTime": {
     "end_time": "2023-09-22T12:24:03.019301500Z",
     "start_time": "2023-09-22T12:23:16.647828100Z"
    }
   }
  },
  {
   "cell_type": "markdown",
   "source": [
    "# Configuration\n",
    "## Building the path\n",
    "\n",
    "- Identify the path to the location of your configs\n",
    "- Set path into a variable in this case ``cwd_path``"
   ],
   "metadata": {
    "collapsed": false
   }
  },
  {
   "cell_type": "code",
   "execution_count": 2,
   "outputs": [],
   "source": [
    "cwd_path=r'C:\\Python Working Directory\\Genzel_Lab_Projects\\ThetaGammaAnalysis'\n"
   ],
   "metadata": {
    "collapsed": false,
    "ExecuteTime": {
     "end_time": "2023-09-22T12:24:03.140303700Z",
     "start_time": "2023-09-22T12:24:03.023301900Z"
    }
   }
  },
  {
   "cell_type": "markdown",
   "source": [
    "### Extract config parameters"
   ],
   "metadata": {
    "collapsed": false
   }
  },
  {
   "cell_type": "code",
   "execution_count": 8,
   "outputs": [
    {
     "name": "stdout",
     "output_type": "stream",
     "text": [
      "{'folder_root': 'C:\\\\Users\\\\Abu Mohammed\\\\Dropbox\\\\CBD_dataset_Personal_Copy\\\\Dataset\\\\LFP_CBD_chronic_downsampled', 'sample_rate': 2500, 'theta_range': '(5,12)'}\n",
      "C:\\Users\\Abu Mohammed\\Dropbox\\CBD_dataset_Personal_Copy\\Dataset\\LFP_CBD_chronic_downsampled\n"
     ]
    }
   ],
   "source": [
    "# Load the configuration settings based on the environment\n",
    "ENVIRONMENT = os.environ.get(\"ENVIRONMENT\", \"CBD_test\")\n",
    "config_path = os.path.join(cwd_path, \"configs\", f\"{ENVIRONMENT}.yaml\")\n",
    "config=load_config(config_path)\n",
    "\n",
    "print(config)\n",
    "print(f\"{config['folder_root']}\")"
   ],
   "metadata": {
    "collapsed": false,
    "ExecuteTime": {
     "end_time": "2023-09-22T12:30:54.751861200Z",
     "start_time": "2023-09-22T12:30:54.544858200Z"
    }
   }
  },
  {
   "cell_type": "markdown",
   "source": [
    "### Parse your config parameters into a dictionary into a variable in this case ``cycles_kwargs``\n",
    "This dictionary will be used to pass a keyword arguments when extracting theta cycles"
   ],
   "metadata": {
    "collapsed": false
   }
  },
  {
   "cell_type": "code",
   "execution_count": 9,
   "outputs": [],
   "source": [
    "cycles_kwargs={'folder_root':config['folder_root'],\n",
    "             'sample_rate':config['sample_rate'],\n",
    "             'theta_range':tuple(config['theta_range'])] #change string to tuple}"
   ],
   "metadata": {
    "collapsed": false,
    "ExecuteTime": {
     "end_time": "2023-09-22T12:34:23.730828700Z",
     "start_time": "2023-09-22T12:34:23.546108200Z"
    }
   }
  },
  {
   "cell_type": "markdown",
   "source": [
    "# Search all possible HPC and state pairs\n",
    "\n",
    "- We search for all viable pairs, as well as extract any relevant metadata such as the rat number, study day, condition and recorded trial."
   ],
   "metadata": {
    "collapsed": false
   }
  },
  {
   "cell_type": "code",
   "execution_count": 14,
   "outputs": [],
   "source": [
    "folder_path = r\"C:\\Users\\Abu Mohammed\\Dropbox\\CBD_dataset_Personal_Copy\\Dataset\\LFP_CBD_chronic_downsampled\"\n",
    "files_list = get_files_dict(folder_path)"
   ],
   "metadata": {
    "collapsed": false,
    "ExecuteTime": {
     "end_time": "2023-09-22T12:49:30.443847600Z",
     "start_time": "2023-09-22T12:49:30.223572800Z"
    }
   }
  },
  {
   "cell_type": "markdown",
   "source": [
    "- In this tutorial we shall focus on a single rat.\n",
    "- The nested dictionary structure follows the folder structure in the Genzel Lab Databases, ending the branch on our desired HPC, states file pairs."
   ],
   "metadata": {
    "collapsed": false
   }
  },
  {
   "cell_type": "code",
   "execution_count": 15,
   "outputs": [
    {
     "name": "stdout",
     "output_type": "stream",
     "text": [
      "{'5': {'Rat_OS_Ephys_cbd_chronic_Rat5_411358_SD14_OR_20210729': {'2021-07-29_10-16-10_presleep': {'rat': 5, 'study_day': 14, 'condition': 'OR', 'trial': 'presleep', 'HPC': 'HPC_100_CH14_0.continuous.mat', 'states': '2021-07-29_10-16-10_presleep-states_ES.mat'}, '2021-07-29_12-35-48_posttrial1': {'rat': 5, 'study_day': 14, 'condition': 'OR', 'trial': 'posttrial1', 'HPC': 'HPC_100_CH14_0.continuous.mat', 'states': '2021-07-29_12-35-48_posttrial1-states_ES.mat'}, '2021-07-29_13-26-22_posttrial2': {'rat': 5, 'study_day': 14, 'condition': 'OR', 'trial': 'posttrial2', 'HPC': 'HPC_100_CH14_0.continuous.mat', 'states': '2021-07-29_13-26-22_posttrial2-states_ES.mat'}, '2021-07-29_14-17-13_posttrial3': {'rat': 5, 'study_day': 14, 'condition': 'OR', 'trial': 'posttrial3', 'HPC': 'HPC_100_CH14_0.continuous.mat', 'states': '2021-07-29_14-17-13_posttrial3-states_ES.mat'}, '2021-07-29_15-08-48_posttrial4': {'rat': 5, 'study_day': 14, 'condition': 'OR', 'trial': 'posttrial4', 'HPC': 'HPC_100_CH14_0.continuous.mat', 'states': '2021-07-29_15-08-48_posttrial4-states_ES.mat'}, '2021-07-29_16-00-16_posttrial5': {'rat': 5, 'study_day': 14, 'condition': 'OR', 'trial': 'posttrial5', 'HPC': 'HPC_100_CH14_0.continuous.mat', 'states': '2021-07-29_16-00-16_posttrial5-states_ES.mat'}}, 'Rat_OS_Ephys_cbd_chronic_Rat5_411358_SD15_HC_20210801': {'2021-08-01_11-09-48_presleep': {'rat': 5, 'study_day': 15, 'condition': 'HC', 'trial': 'presleep', 'HPC': 'HPC_100_CH14_0.continuous.mat', 'states': '2021-08-01_11-09-48_presleep-states_ES.mat'}, '2021-08-01_12-05-33_posttrial1': {'rat': 5, 'study_day': 15, 'condition': 'HC', 'trial': 'posttrial1', 'HPC': 'HPC_100_CH14_0.continuous.mat', 'states': '2021-08-01_12-05-33_posttrial1-states_ES.mat'}, '2021-08-01_12-56-21_posttrial2': {'rat': 5, 'study_day': 15, 'condition': 'HC', 'trial': 'posttrial2', 'HPC': 'HPC_100_CH14_0.continuous.mat', 'states': '2021-08-01_12-56-21_posttrial2-states_ES.mat'}, '2021-08-01_13-57-48_posttrial3': {'rat': 5, 'study_day': 15, 'condition': 'HC', 'trial': 'posttrial3', 'HPC': 'HPC_100_CH14_0.continuous.mat', 'states': '2021-08-01_13-57-48_posttrial3-states_ES.mat'}, '2021-08-01_15-00-02_posttrial4': {'rat': 5, 'study_day': 15, 'condition': 'HC', 'trial': 'posttrial4', 'HPC': 'HPC_100_CH14_0.continuous.mat', 'states': '2021-08-01_15-00-02_posttrial4-states_ES.mat'}, '2021-08-01_15-51-31_posttrial5': {'rat': 5, 'study_day': 15, 'condition': 'HC', 'trial': 'posttrial5', 'HPC': 'HPC_100_CH14_0.continuous.mat', 'states': '2021-08-01_15-51-31_posttrial5-states_ES.mat'}}, 'Rat_OS_Ephys_cbd_chronic_Rat5_411358_SD16_OR_20210802': {'2021-08-02_10-01-29_presleep': {'rat': 5, 'study_day': 16, 'condition': 'OR', 'trial': 'presleep', 'HPC': 'HPC_100_CH14_0.continuous.mat', 'states': '2021-08-02_10-01-29_presleep-states_ES.mat'}, '2021-08-02_11-14-06_posttrial1': {'rat': 5, 'study_day': 16, 'condition': 'OR', 'trial': 'posttrial1', 'HPC': 'HPC_100_CH14_0.continuous.mat', 'states': '2021-08-02_11-14-06_posttrial1-states_ES.mat'}, '2021-08-02_12-04-52_posttrial2': {'rat': 5, 'study_day': 16, 'condition': 'OR', 'trial': 'posttrial2', 'HPC': 'HPC_100_CH14_0.continuous.mat', 'states': '2021-08-02_12-04-52_posttrial2-states_ES.mat'}, '2021-08-02_13-14-15_posttrial3': {'rat': 5, 'study_day': 16, 'condition': 'OR', 'trial': 'posttrial3', 'HPC': 'HPC_100_CH14_0.continuous.mat', 'states': '2021-08-02_13-14-15_posttrial3-states_part2_ES.mat'}, '2021-08-02_14-21-32_posttrial4': {'rat': 5, 'study_day': 16, 'condition': 'OR', 'trial': 'posttrial4', 'HPC': 'HPC_100_CH14_0.continuous.mat', 'states': '2021-08-02_14-21-32_posttrial4-states_ES.mat'}, '2021-08-02_15-12-21_posttrial5': {'rat': 5, 'study_day': 16, 'condition': 'OR', 'trial': 'posttrial5', 'HPC': 'HPC_100_CH14_0.continuous.mat', 'states': '2021-08-02_15-12-21_posttrial5-states_ES.mat'}}, 'Rat_OS_Ephys_cbd_chronic_Rat5_411358_SD17_HC_20210804': {'2021-08-04_09-38-13_presleep': {'rat': 5, 'study_day': 17, 'condition': 'HC', 'trial': 'presleep', 'HPC': 'HPC_100_CH14_0.continuous.mat', 'states': '2021-08-04_09-38-13_presleep-states_ES.mat'}, '2021-08-04_10-42-36_posttrial1': {'rat': 5, 'study_day': 17, 'condition': 'HC', 'trial': 'posttrial1', 'HPC': 'HPC_100_CH14_0.continuous.mat', 'states': '2021-08-04_10-42-36_posttrial1-states_ES.mat'}, '2021-08-04_11-33-35_posttrial2': {'rat': 5, 'study_day': 17, 'condition': 'HC', 'trial': 'posttrial2', 'HPC': 'HPC_100_CH14_0.continuous.mat', 'states': '2021-08-04_11-33-35_posttrial2-states_ES.mat'}, '2021-08-04_12-24-29_posttrial3': {'rat': 5, 'study_day': 17, 'condition': 'HC', 'trial': 'posttrial3', 'HPC': 'HPC_100_CH14_0.continuous.mat', 'states': '2021-08-04_12-24-29_posttrial3-states_ES.mat'}, '2021-08-04_13-14-51_posttrial4': {'rat': 5, 'study_day': 17, 'condition': 'HC', 'trial': 'posttrial4', 'HPC': 'HPC_100_CH14_0.continuous.mat', 'states': '2021-08-04_13-14-51_posttrial4-states_ES.mat'}, '2021-08-04_14-05-15_posttrial5': {'rat': 5, 'study_day': 17, 'condition': 'HC', 'trial': 'posttrial5', 'HPC': 'HPC_100_CH14_0.continuous.mat', 'states': '2021-08-04_14-05-15_posttrial5-states_ES.mat'}}, 'Rat_OS_Ephys_cbd_chronic_Rat5_411358_SD1_OR_6_07_2021': {'2021-07-06_11-32-14_presleep': {'rat': 5, 'study_day': 1, 'condition': 'OR', 'trial': 'presleep', 'HPC': 'HPC_100_CH14_0.continuous.mat', 'states': '2021-07-06_11-32-14_presleep-states_ES.mat'}, '2021-07-06_12-25-59_posttrial1': {'rat': 5, 'study_day': 1, 'condition': 'OR', 'trial': 'posttrial1', 'HPC': 'HPC_100_CH14_0.continuous.mat', 'states': '2021-07-06_12-25-59_posttrial1-states_ES.mat'}, '2021-07-06_13-16-37_posttrial2': {'rat': 5, 'study_day': 1, 'condition': 'OR', 'trial': 'posttrial2', 'HPC': 'HPC_100_CH14_0.continuous.mat', 'states': '2021-07-06_13-16-37_posttrial2-states_ES.mat'}, '2021-07-06_14-07-30_posttrial3': {'rat': 5, 'study_day': 1, 'condition': 'OR', 'trial': 'posttrial3', 'HPC': 'HPC_100_CH14_0.continuous.mat', 'states': '2021-07-06_14-07-30_posttrial3-states_ES.mat'}, '2021-07-06_14-58-28_posttrial4': {'rat': 5, 'study_day': 1, 'condition': 'OR', 'trial': 'posttrial4', 'HPC': 'HPC_100_CH14_0.continuous.mat', 'states': '2021-07-06_14-58-28_posttrial4-states_ES.mat'}, '2021-07-06_15-49-34_posttrial5': {'rat': 5, 'study_day': 1, 'condition': 'OR', 'trial': 'posttrial5', 'HPC': 'HPC_100_CH14_0.continuous.mat', 'states': '2021-07-06_15-49-34_posttrial5-states_ES.mat'}}, 'Rat_OS_Ephys_cbd_chronic_Rat5_411358_SD2_OR_9_07_2021': {'2021-07-09_11-50-27_presleep': {'rat': 5, 'study_day': 2, 'condition': 'OR', 'trial': 'presleep', 'HPC': 'HPC_100_CH14_0.continuous.mat', 'states': '2021-07-09_11-50-27_presleep-states_ES.mat'}, '2021-07-09_12-41-42_posttrial1': {'rat': 5, 'study_day': 2, 'condition': 'OR', 'trial': 'posttrial1', 'HPC': 'HPC_100_CH14_0.continuous.mat', 'states': '2021-07-09_12-41-42_posttrial1-states_ES.mat'}, '2021-07-09_13-44-23_posttrial2': {'rat': 5, 'study_day': 2, 'condition': 'OR', 'trial': 'posttrial2', 'HPC': 'HPC_100_CH14_0.continuous.mat', 'states': '2021-07-09_13-44-23_posttrial2-states_ES_TS.mat'}, '2021-07-09_14-35-12_posttrial3': {'rat': 5, 'study_day': 2, 'condition': 'OR', 'trial': 'posttrial3', 'HPC': 'HPC_100_CH14_0.continuous.mat', 'states': '2021-07-09_14-35-12_posttrial3-states_ES.mat'}, '2021-07-09_15-37-26_posttrial4': {'rat': 5, 'study_day': 2, 'condition': 'OR', 'trial': 'posttrial4', 'HPC': 'HPC_100_CH14_0.continuous.mat', 'states': '2021-07-09_15-37-26_posttrial4-states_ES.mat'}, '2021-07-09_16-28-31_posttrial5': {'rat': 5, 'study_day': 2, 'condition': 'OR', 'trial': 'posttrial5', 'HPC': 'HPC_100_CH14_0.continuous.mat', 'states': '2021-07-09_16-28-31_posttrial5-states_ES.mat'}}, 'Rat_OS_Ephys_cbd_chronic_Rat5_411358_SD3_OD_14-15_07_2021': {'2021-07-14_11-54-05_presleep': {'rat': 5, 'study_day': 3, 'condition': 'OD', 'trial': 'presleep', 'HPC': 'HPC_100_CH14_2_0.continuous.mat', 'states': '2021-07-14_11-54-05_presleep-states_AS.mat'}, '2021-07-14_12-53-09_posttrial1': {'rat': 5, 'study_day': 3, 'condition': 'OD', 'trial': 'posttrial1', 'HPC': 'HPC_100_CH14_0.continuous.mat', 'states': '2021-07-14_12-53-09_posttrial1-states_ES.mat'}, '2021-07-14_13-43-51_posttrial2': {'rat': 5, 'study_day': 3, 'condition': 'OD', 'trial': 'posttrial2', 'HPC': 'HPC_100_CH14_0.continuous.mat', 'states': '2021-07-14_13-43-51_posttrial2-states_ES.mat'}, '2021-07-14_14-34-53_posttrial3': {'rat': 5, 'study_day': 3, 'condition': 'OD', 'trial': 'posttrial3', 'HPC': 'HPC_100_CH14_0.continuous.mat', 'states': '2021-07-14_14-34-53_posttrial3-states_ES.mat'}, '2021-07-14_15-25-54_posttrial4': {'rat': 5, 'study_day': 3, 'condition': 'OD', 'trial': 'posttrial4', 'HPC': 'HPC_100_CH14_0.continuous.mat', 'states': '2021-07-14_15-25-54_posttrial4-states_ES.mat'}, '2021-07-14_16-17-11_posttrial5': {'rat': 5, 'study_day': 3, 'condition': 'OD', 'trial': 'posttrial5', 'HPC': 'HPC_100_CH14_0.continuous.mat', 'states': '2021-07-14_16-17-11_posttrial5-states_ES.mat'}}, 'Rat_OS_Ephys_cbd_chronic_Rat5_411358_SD4_HC_16_07_2021': {'2021-07-16_10-23-17_presleep': {'rat': 5, 'study_day': 4, 'condition': 'HC', 'trial': 'presleep', 'HPC': 'HPC_100_CH14_0.continuous.mat', 'states': '2021-07-16_10-23-17_presleep-states_ES.mat'}, '2021-07-16_11-23-25_posttrial1': {'rat': 5, 'study_day': 4, 'condition': 'HC', 'trial': 'posttrial1', 'HPC': 'HPC_100_CH14_0.continuous.mat', 'states': '2021-07-16_11-23-25_posttrial1-states_ES.mat'}, '2021-07-16_12-13-39_posttrial2': {'rat': 5, 'study_day': 4, 'condition': 'HC', 'trial': 'posttrial2', 'HPC': 'HPC_100_CH14_0.continuous.mat', 'states': '2021-07-16_12-13-39_posttrial2-states_ES.mat'}, '2021-07-16_13-09-26_posttrial3': {'rat': 5, 'study_day': 4, 'condition': 'HC', 'trial': 'posttrial3', 'HPC': 'HPC_100_CH14_0.continuous.mat', 'states': '2021-07-16_13-09-26_posttrial3-states_ES.mat'}, '2021-07-16_13-59-43_posttrial4': {'rat': 5, 'study_day': 4, 'condition': 'HC', 'trial': 'posttrial4', 'HPC': 'HPC_100_CH14_0.continuous.mat', 'states': '2021-07-16_13-59-43_posttrial4-states_ES.mat'}, '2021-07-16_14-49-56_posttrial5': {'rat': 5, 'study_day': 4, 'condition': 'HC', 'trial': 'posttrial5', 'HPC': 'HPC_100_CH14_0.continuous.mat', 'states': '2021-07-16_14-49-56_posttrial5-states_ES.mat'}}, 'Rat_OS_Ephys_cbd_chronic_Rat5_411358_SD5_OD_20210717': {'2021-07-17_11-07-12_presleep': {'rat': 5, 'study_day': 5, 'condition': 'OD', 'trial': 'presleep', 'HPC': 'HPC_100_CH14_0.continuous.mat', 'states': '2021-07-17_11-07-12_presleep-states_ES.mat'}, '2021-07-17_12-10-34_posttrial1': {'rat': 5, 'study_day': 5, 'condition': 'OD', 'trial': 'posttrial1', 'HPC': 'HPC_100_CH14_0.continuous.mat', 'states': '2021-07-17_12-10-34_posttrial1-states_ES.mat'}, '2021-07-17_13-01-39_posttrial2': {'rat': 5, 'study_day': 5, 'condition': 'OD', 'trial': 'posttrial2', 'HPC': 'HPC_100_CH14_0.continuous.mat', 'states': '2021-07-17_13-01-39_posttrial2-states_ES.mat'}, '2021-07-17_13-52-48_posttrial3': {'rat': 5, 'study_day': 5, 'condition': 'OD', 'trial': 'posttrial3', 'HPC': 'HPC_100_CH14_0.continuous.mat', 'states': '2021-07-17_13-52-48_posttrial3-states_ES.mat'}, '2021-07-17_14-43-53_posttrial4': {'rat': 5, 'study_day': 5, 'condition': 'OD', 'trial': 'posttrial4', 'HPC': 'HPC_100_CH14_0.continuous.mat', 'states': '2021-07-17_14-43-53_posttrial4-states_ES.mat'}, '2021-07-17_15-34-48_posttrial5': {'rat': 5, 'study_day': 5, 'condition': 'OD', 'trial': 'posttrial5', 'HPC': 'HPC_100_CH14_0.continuous.mat', 'states': '2021-07-17_15-34-48_posttrial5-states_ES.mat'}}, 'Rat_OS_Ephys_cbd_chronic_Rat5_411358_SD6_HC_20210719': {'2021-07-19_10-10-04_presleep': {'rat': 5, 'study_day': 6, 'condition': 'HC', 'trial': 'presleep', 'HPC': 'HPC_100_CH14_0.continuous.mat', 'states': '2021-07-19_10-10-04_presleep-states_ES.mat'}, '2021-07-19_11-22-20_posttrial1': {'rat': 5, 'study_day': 6, 'condition': 'HC', 'trial': 'posttrial1', 'HPC': 'HPC_100_CH14_0.continuous.mat', 'states': '2021-07-19_11-22-20_posttrial1-states_ES.mat'}, '2021-07-19_12-14-30_posttrial2': {'rat': 5, 'study_day': 6, 'condition': 'HC', 'trial': 'posttrial2', 'HPC': 'HPC_100_CH14_0.continuous.mat', 'states': '2021-07-19_12-14-30_posttrial2-states_ES.mat'}, '2021-07-19_13-04-46_posttrial3': {'rat': 5, 'study_day': 6, 'condition': 'HC', 'trial': 'posttrial3', 'HPC': 'HPC_100_CH14_0.continuous.mat', 'states': '2021-07-19_13-04-46_posttrial3-states_ES.mat'}, '2021-07-19_13-55-07_posttrial4': {'rat': 5, 'study_day': 6, 'condition': 'HC', 'trial': 'posttrial4', 'HPC': 'HPC_100_CH14_0.continuous.mat', 'states': '2021-07-19_13-55-07_posttrial4-states_ES.mat'}, '2021-07-19_14-48-05_posttrial5': {'rat': 5, 'study_day': 6, 'condition': 'HC', 'trial': 'posttrial5', 'HPC': 'HPC_100_CH14_0.continuous.mat', 'states': '2021-07-19_14-48-05_posttrial5-states_ES.mat'}}, 'Rat_OS_Ephys_cbd_chronic_Rat5_411358_SD7_HC_20210720': {'2021-07-20_10-27-40_presleep': {'rat': 5, 'study_day': 7, 'condition': 'HC', 'trial': 'presleep', 'HPC': 'HPC_100_CH14_0.continuous.mat', 'states': '2021-07-20_10-27-40_presleep-states_ES.mat'}, '2021-07-20_11-18-01_posttrial1': {'rat': 5, 'study_day': 7, 'condition': 'HC', 'trial': 'posttrial1', 'HPC': 'HPC_100_CH14_0.continuous.mat', 'states': '2021-07-20_11-18-01_posttrial1-states_ES.mat'}, '2021-07-20_12-08-26_posttrial2': {'rat': 5, 'study_day': 7, 'condition': 'HC', 'trial': 'posttrial2', 'HPC': 'HPC_100_CH14_0.continuous.mat', 'states': '2021-07-20_12-08-26_posttrial2-states_ES.mat'}, '2021-07-20_12-58-43_posttrial3': {'rat': 5, 'study_day': 7, 'condition': 'HC', 'trial': 'posttrial3', 'HPC': 'HPC_100_CH14_0.continuous.mat', 'states': '2021-07-20_12-58-43_posttrial3-states_ES.mat'}, '2021-07-20_13-49-50_posttrial4': {'rat': 5, 'study_day': 7, 'condition': 'HC', 'trial': 'posttrial4', 'HPC': 'HPC_100_CH14_0.continuous.mat', 'states': '2021-07-20_13-49-50_posttrial4-states_ES.mat'}, '2021-07-20_14-40-05_posttrial5': {'rat': 5, 'study_day': 7, 'condition': 'HC', 'trial': 'posttrial5', 'HPC': 'HPC_100_CH14_0.continuous.mat', 'states': '2021-07-20_14-40-05_posttrial5-states_ES.mat'}}, 'Rat_OS_Ephys_cbd_chronic_Rat5_411358_SD8_HC_20210721': {'2021-07-21_10-55-25_presleep': {'rat': 5, 'study_day': 8, 'condition': 'HC', 'trial': 'presleep', 'HPC': 'HPC_100_CH14_0.continuous.mat', 'states': '2021-07-21_10-55-25_presleep-states_ES.mat'}, '2021-07-21_11-50-58_posttrial1': {'rat': 5, 'study_day': 8, 'condition': 'HC', 'trial': 'posttrial1', 'HPC': 'HPC_100_CH14_0.continuous.mat', 'states': '2021-07-21_11-50-58_posttrial1-states_ES.mat'}, '2021-07-21_12-41-46_posttrial2': {'rat': 5, 'study_day': 8, 'condition': 'HC', 'trial': 'posttrial2', 'HPC': 'HPC_100_CH14_0.continuous.mat', 'states': '2021-07-21_12-41-46_posttrial2-states_ES.mat'}, '2021-07-21_13-33-49_posttrial3': {'rat': 5, 'study_day': 8, 'condition': 'HC', 'trial': 'posttrial3', 'HPC': 'HPC_100_CH14_0.continuous.mat', 'states': '2021-07-21_13-33-49_posttrial3-states_ES.mat'}, '2021-07-21_14-24-19_posttrial4': {'rat': 5, 'study_day': 8, 'condition': 'HC', 'trial': 'posttrial4', 'HPC': 'HPC_100_CH14_0.continuous.mat', 'states': '2021-07-21_14-24-19_posttrial4-states_ES.mat'}, '2021-07-21_15-14-50_posttrial5': {'rat': 5, 'study_day': 8, 'condition': 'HC', 'trial': 'posttrial5', 'HPC': 'HPC_100_CH14_0.continuous.mat', 'states': '2021-07-21_15-14-50_posttrial5-states_ES.mat'}}}}\n"
     ]
    }
   ],
   "source": [
    "single_rat = r\"C:\\Users\\Abu Mohammed\\Dropbox\\CBD_dataset_Personal_Copy\\Dataset\\LFP_CBD_chronic_downsampled\\5\"\n",
    "single_rat = get_files_dict(single_rat)\n",
    "print(single_rat)"
   ],
   "metadata": {
    "collapsed": false,
    "ExecuteTime": {
     "end_time": "2023-09-22T12:49:32.327181100Z",
     "start_time": "2023-09-22T12:49:32.126579200Z"
    }
   }
  },
  {
   "cell_type": "markdown",
   "source": [
    "# Running the analysis\n",
    "\n",
    "## Extracting good Theta cycles\n",
    "\n",
    "- Depending on the scope and depth of the folders you have selected, the analysis will take a while.\n",
    "- The ``dict_walk`` function combs over every file and folder in your desired path when generating the ``get_files_dict`` output.\n",
    "- The ``dict_walk`` function operates with the process functions passing through, if you have chosen only one pair of HPC and states file, you can set your output as a variable when generating cycles data.\n",
    "- Whereas if the ``dict_walk`` is iterating over HPC/states pairs over through multiple folder locations, then it would be best to end the operation with a terminating function in the ``process_functions.py`` file.\n",
    "- In this example we will be generating cycles and writing our outputs into .h5py files at their respective locations with ``_cycles`` suffix in their file names"
   ],
   "metadata": {
    "collapsed": false
   }
  },
  {
   "cell_type": "code",
   "execution_count": null,
   "outputs": [],
   "source": [
    "dict_walk(single_rat, folder_path, '', '_cycles', get_cycles_data, dict_write, **cycles_kwargs)"
   ],
   "metadata": {
    "collapsed": false
   }
  }
 ],
 "metadata": {
  "kernelspec": {
   "display_name": "Python 3",
   "language": "python",
   "name": "python3"
  },
  "language_info": {
   "codemirror_mode": {
    "name": "ipython",
    "version": 2
   },
   "file_extension": ".py",
   "mimetype": "text/x-python",
   "name": "python",
   "nbconvert_exporter": "python",
   "pygments_lexer": "ipython2",
   "version": "2.7.6"
  }
 },
 "nbformat": 4,
 "nbformat_minor": 0
}
