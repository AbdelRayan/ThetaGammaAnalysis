{
 "cells": [
  {
   "cell_type": "code",
   "execution_count": null,
   "outputs": [],
   "source": [
    "# Importing packages\n",
    "from src.utils import *\n",
    "from src.functions import *\n",
    "from src.process_functions import *\n",
    "import os\n",
    "import numpy as np\n",
    "import ast\n",
    "import pandas as pd"
   ],
   "metadata": {
    "collapsed": false
   }
  },
  {
   "cell_type": "markdown",
   "source": [
    "# Configuration\n",
    "## Building the path\n",
    "\n",
    "- Identify the path to the location of your configs\n",
    "- Set path into a variable in this case ``cwd_path``"
   ],
   "metadata": {
    "collapsed": false
   }
  },
  {
   "cell_type": "code",
   "execution_count": null,
   "outputs": [],
   "source": [
    "cwd_path=r'path/to/data/pipeline/analysis/directory'\n"
   ],
   "metadata": {
    "collapsed": false
   }
  },
  {
   "cell_type": "markdown",
   "source": [
    "### Extract config parameters"
   ],
   "metadata": {
    "collapsed": false
   }
  },
  {
   "cell_type": "code",
   "execution_count": null,
   "outputs": [],
   "source": [
    "# Load the configuration settings based on the environment\n",
    "## CBD Dataset\n",
    "ENVIRONMENT = os.environ.get(\"ENVIRONMENT\", \"CBD_test\")\n",
    "config_path = os.path.join(cwd_path, \"configs\", f\"{ENVIRONMENT}.yaml\")\n",
    "config=load_config(config_path)\n",
    "\n",
    "print(config)\n",
    "print(f\"{config['folder_root']}\")"
   ],
   "metadata": {
    "collapsed": false
   }
  },
  {
   "cell_type": "markdown",
   "source": [
    "### Parse your config parameters into a dictionary into a variable in this case ``cycles_kwargs``\n",
    "This dictionary will be used to pass a keyword arguments when extracting theta cycles"
   ],
   "metadata": {
    "collapsed": false
   }
  },
  {
   "cell_type": "code",
   "execution_count": null,
   "outputs": [],
   "source": [
    "cycles_kwargs={'sample_rate':config['sample_rate'],\n",
    "               'frequencies' : np.arange(20,141,1),\n",
    "               'theta_range':ast.literal_eval(config['theta_range'])} #change string to tuple"
   ],
   "metadata": {
    "collapsed": false
   }
  },
  {
   "cell_type": "markdown",
   "source": [
    "# Search all possible HPC and state pairs\n",
    "\n",
    "- We search for all viable pairs, as well as extract any relevant metadata such as the rat number, study day, condition and recorded trial."
   ],
   "metadata": {
    "collapsed": false
   }
  },
  {
   "cell_type": "code",
   "execution_count": null,
   "outputs": [],
   "source": [
    "folder_path = r\"/path/to/directory\"\n",
    "files_list = get_files_dict(folder_path)"
   ],
   "metadata": {
    "collapsed": false
   }
  },
  {
   "cell_type": "markdown",
   "source": [
    "- In this tutorial we shall focus on a single rat.\n",
    "- The nested dictionary structure follows the folder structure in the Genzel Lab Databases, ending the branch on our desired HPC, states file pairs."
   ],
   "metadata": {
    "collapsed": false
   }
  },
  {
   "cell_type": "markdown",
   "source": [
    "## Single Trial Path Example"
   ],
   "metadata": {
    "collapsed": false
   }
  },
  {
   "cell_type": "code",
   "execution_count": null,
   "outputs": [],
   "source": [
    "single_rat = r\"/path/to/trial\"\n",
    "single_rat_trial = get_files_dict(single_rat)\n",
    "print(single_rat)"
   ],
   "metadata": {
    "collapsed": false
   }
  },
  {
   "cell_type": "markdown",
   "source": [
    "# Running the analysis\n",
    "\n",
    "## Extracting good Theta cycles\n",
    "\n",
    "- Depending on the scope and depth of the folders you have selected, the analysis will take a while.\n",
    "- The ``dict_walk`` function combs over every file and folder in your desired path files list generated from the ``get_files_dict`` output.\n",
    "- The ``dict_walk`` function operates with the process functions passing through, if you have chosen only one pair of HPC and states file, you can set your output as a variable when generating cycles data.\n",
    "- Whereas if the ``dict_walk`` is iterating over HPC/states pairs over through multiple folder locations, then it would be best to end the operation with a terminating function in the ``process_functions.py`` file.\n",
    "- In this example we will be generating cycles and writing our outputs into .h5py files at their respective locations with ``_cycles`` suffix in their file names"
   ],
   "metadata": {
    "collapsed": false
   }
  },
  {
   "cell_type": "code",
   "execution_count": null,
   "outputs": [],
   "source": [
    "dict_walk(files_list, folder_path, '', '_cycles', get_cycles_data, dict_write, **cycles_kwargs)"
   ],
   "metadata": {
    "collapsed": false
   }
  }
 ],
 "metadata": {
  "kernelspec": {
   "display_name": "Python 3",
   "language": "python",
   "name": "python3"
  },
  "language_info": {
   "codemirror_mode": {
    "name": "ipython",
    "version": 2
   },
   "file_extension": ".py",
   "mimetype": "text/x-python",
   "name": "python",
   "nbconvert_exporter": "python",
   "pygments_lexer": "ipython2",
   "version": "2.7.6"
  }
 },
 "nbformat": 4,
 "nbformat_minor": 0
}
