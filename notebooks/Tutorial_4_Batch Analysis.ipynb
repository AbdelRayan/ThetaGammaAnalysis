{
 "cells": [
  {
   "cell_type": "code",
   "execution_count": 1,
   "outputs": [],
   "source": [
    "# Importing packages\n",
    "from src.utils import *\n",
    "from src.functions import *\n",
    "from src.process_functions import *\n",
    "import os\n",
    "import numpy as np\n",
    "import ast\n",
    "import pandas as pd"
   ],
   "metadata": {
    "collapsed": false,
    "ExecuteTime": {
     "end_time": "2023-12-06T18:18:17.782576100Z",
     "start_time": "2023-12-06T18:18:04.424670100Z"
    }
   }
  },
  {
   "cell_type": "markdown",
   "source": [
    "# Configuration\n",
    "## Building the path\n",
    "\n",
    "- Identify the path to the location of your configs\n",
    "- Set path into a variable in this case ``cwd_path``"
   ],
   "metadata": {
    "collapsed": false
   }
  },
  {
   "cell_type": "code",
   "execution_count": 2,
   "outputs": [],
   "source": [
    "cwd_path=r'C:\\Python Working Directory\\Genzel_Lab_Projects\\ThetaGammaAnalysis'\n"
   ],
   "metadata": {
    "collapsed": false,
    "ExecuteTime": {
     "end_time": "2023-12-06T18:18:17.798155300Z",
     "start_time": "2023-12-06T18:18:17.782576100Z"
    }
   }
  },
  {
   "cell_type": "markdown",
   "source": [
    "### Extract config parameters"
   ],
   "metadata": {
    "collapsed": false
   }
  },
  {
   "cell_type": "code",
   "execution_count": 3,
   "outputs": [
    {
     "name": "stdout",
     "output_type": "stream",
     "text": [
      "{'folder_root': 'C:\\\\Users\\\\Abu Mohammed\\\\Dropbox\\\\CBD_dataset_Personal_Copy\\\\Dataset\\\\LFP_CBD_chronic_downsampled', 'sample_rate': 2500, 'theta_range': '(5,12)'}\n",
      "C:\\Users\\Abu Mohammed\\Dropbox\\CBD_dataset_Personal_Copy\\Dataset\\LFP_CBD_chronic_downsampled\n"
     ]
    }
   ],
   "source": [
    "# Load the configuration settings based on the environment\n",
    "## CBD Dataset\n",
    "ENVIRONMENT = os.environ.get(\"ENVIRONMENT\", \"CBD_test\")\n",
    "config_path = os.path.join(cwd_path, \"configs\", f\"{ENVIRONMENT}.yaml\")\n",
    "config=load_config(config_path)\n",
    "\n",
    "print(config)\n",
    "print(f\"{config['folder_root']}\")"
   ],
   "metadata": {
    "collapsed": false,
    "ExecuteTime": {
     "end_time": "2023-12-06T18:18:18.083562800Z",
     "start_time": "2023-12-06T18:18:17.798155300Z"
    }
   }
  },
  {
   "cell_type": "markdown",
   "source": [
    "### Parse your config parameters into a dictionary into a variable in this case ``cycles_kwargs``\n",
    "This dictionary will be used to pass a keyword arguments when extracting theta cycles"
   ],
   "metadata": {
    "collapsed": false
   }
  },
  {
   "cell_type": "code",
   "execution_count": 4,
   "outputs": [],
   "source": [
    "cycles_kwargs={'sample_rate':config['sample_rate'],\n",
    "               'frequencies' : np.arange(20,141,1),\n",
    "               'theta_range':ast.literal_eval(config['theta_range'])} #change string to tuple"
   ],
   "metadata": {
    "collapsed": false,
    "ExecuteTime": {
     "end_time": "2023-12-06T18:18:18.083562800Z",
     "start_time": "2023-12-06T18:18:18.083562800Z"
    }
   }
  },
  {
   "cell_type": "markdown",
   "source": [
    "# Search all possible HPC and state pairs\n",
    "\n",
    "- We search for all viable pairs, as well as extract any relevant metadata such as the rat number, study day, condition and recorded trial."
   ],
   "metadata": {
    "collapsed": false
   }
  },
  {
   "cell_type": "code",
   "execution_count": 5,
   "outputs": [],
   "source": [
    "folder_path = r\"C:\\Users\\Abu Mohammed\\Dropbox\\CBD_dataset_Personal_Copy\\Dataset\\LFP_CBD_chronic_downsampled\"\n",
    "files_list = get_files_dict(folder_path)"
   ],
   "metadata": {
    "collapsed": false,
    "ExecuteTime": {
     "end_time": "2023-12-06T18:18:21.970756500Z",
     "start_time": "2023-12-06T18:18:18.083562800Z"
    }
   }
  },
  {
   "cell_type": "markdown",
   "source": [
    "- In this tutorial we shall focus on a single rat.\n",
    "- The nested dictionary structure follows the folder structure in the Genzel Lab Databases, ending the branch on our desired HPC, states file pairs."
   ],
   "metadata": {
    "collapsed": false
   }
  },
  {
   "cell_type": "markdown",
   "source": [
    "## Single Trial Path Example"
   ],
   "metadata": {
    "collapsed": false
   }
  },
  {
   "cell_type": "code",
   "execution_count": 6,
   "outputs": [
    {
     "name": "stdout",
     "output_type": "stream",
     "text": [
      "C:\\Users\\Abu Mohammed\\Dropbox\\CBD_dataset_Personal_Copy\\Dataset\\LFP_CBD_chronic_downsampled/3\n"
     ]
    }
   ],
   "source": [
    "single_rat = r\"C:\\Users\\Abu Mohammed\\Dropbox\\CBD_dataset_Personal_Copy\\Dataset\\LFP_CBD_chronic_downsampled/3\"\n",
    "single_rat_trial = get_files_dict(single_rat)\n",
    "print(single_rat)"
   ],
   "metadata": {
    "collapsed": false,
    "ExecuteTime": {
     "end_time": "2023-12-06T18:18:22.055523700Z",
     "start_time": "2023-12-06T18:18:21.970756500Z"
    }
   }
  },
  {
   "cell_type": "markdown",
   "source": [
    "# Running the analysis\n",
    "\n",
    "## Extracting good Theta cycles\n",
    "\n",
    "- Depending on the scope and depth of the folders you have selected, the analysis will take a while.\n",
    "- The ``dict_walk`` function combs over every file and folder in your desired path files list generated from the ``get_files_dict`` output.\n",
    "- The ``dict_walk`` function operates with the process functions passing through, if you have chosen only one pair of HPC and states file, you can set your output as a variable when generating cycles data.\n",
    "- Whereas if the ``dict_walk`` is iterating over HPC/states pairs over through multiple folder locations, then it would be best to end the operation with a terminating function in the ``process_functions.py`` file.\n",
    "- In this example we will be generating cycles and writing our outputs into .h5py files at their respective locations with ``_cycles`` suffix in their file names"
   ],
   "metadata": {
    "collapsed": false
   }
  },
  {
   "cell_type": "code",
   "execution_count": null,
   "outputs": [
    {
     "name": "stdout",
     "output_type": "stream",
     "text": [
      "    rat  study_day condition  treatment\n",
      "0     3          1        OR          1\n",
      "1     3          2        HC          0\n",
      "2     3          3        OR          0\n",
      "3     3          4        OD          0\n",
      "4     3          5        HC          0\n",
      "5     3          6        OD          1\n",
      "6     3          7        HC          1\n",
      "7     3          8        HC          0\n",
      "8     3          9        HC          1\n",
      "9     3         16        OR          1\n",
      "10    3         17        HC          0\n",
      "11    4          1        OR          0\n",
      "12    4          2        HC          0\n",
      "13    4          3        OR          1\n",
      "14    4          4        OD          1\n",
      "15    4          5        HC          0\n",
      "16    4          6        OD          0\n",
      "17    4          7        HC          1\n",
      "18    4          8        HC          1\n",
      "19    4          9        HC          0\n",
      "20    4         16        OR          0\n",
      "21    4         17        HC          0\n",
      "22    5          1        OR          1\n",
      "23    5          2        OR          0\n",
      "24    5          3        OD          0\n",
      "25    5          4        HC          0\n",
      "26    5          5        OD          1\n",
      "27    5          6        HC          1\n",
      "28    5          7        HC          1\n",
      "29    5          8        HC          0\n",
      "30    5         14        OR          0\n",
      "31    5         15        HC          0\n",
      "32    5         16        OR          1\n",
      "33    5         17        HC          1\n",
      "34    6          1        OR          0\n",
      "35    6          2        OR          1\n",
      "36    6          3        OD          1\n",
      "37    6          4        HC          0\n",
      "38    6          5        OD          0\n",
      "39    6          6        HC          1\n",
      "40    6          7        HC          0\n",
      "41    6          8        HC          1\n",
      "42    6         14        OR          1\n"
     ]
    },
    {
     "name": "stderr",
     "output_type": "stream",
     "text": [
      "ERROR:root:Error processing item: C:\\Users\\Abu Mohammed\\Dropbox\\CBD_dataset_Personal_Copy\\Dataset\\LFP_CBD_chronic_downsampled\\3\\Rat_OS_Ephys_cbd_chronic_Rat3_407698_SD16_OR_20210701\\2021-07-02_09-05-42_presleep\\2021-07-02_09-05-42_presleep-states_ES.mat. index 0 is out of bounds for axis 0 with size 0\n"
     ]
    },
    {
     "name": "stdout",
     "output_type": "stream",
     "text": [
      "{'header_info': {'rat': 3, 'study_day': 16, 'condition': 'OR', 'trial': 'presleep', 'treatment': 'CBD'}}\n",
      "(6752427,)\n",
      "(2700,)\n"
     ]
    },
    {
     "name": "stderr",
     "output_type": "stream",
     "text": [
      "ERROR:root:Error processing item: C:\\Users\\Abu Mohammed\\Dropbox\\CBD_dataset_Personal_Copy\\Dataset\\LFP_CBD_chronic_downsampled\\3\\Rat_OS_Ephys_cbd_chronic_Rat3_407698_SD16_OR_20210701\\2021-07-02_09-56-43_posttrial1\\2021-07-02_09-56-43_posttrial1-states_ES.mat. index 0 is out of bounds for axis 0 with size 0\n"
     ]
    },
    {
     "name": "stdout",
     "output_type": "stream",
     "text": [
      "{'header_info': {'rat': 3, 'study_day': 16, 'condition': 'OR', 'trial': 'posttrial1', 'treatment': 'CBD'}}\n",
      "(6751574,)\n",
      "(2700,)\n"
     ]
    },
    {
     "name": "stderr",
     "output_type": "stream",
     "text": [
      "ERROR:root:Error processing item: C:\\Users\\Abu Mohammed\\Dropbox\\CBD_dataset_Personal_Copy\\Dataset\\LFP_CBD_chronic_downsampled\\3\\Rat_OS_Ephys_cbd_chronic_Rat3_407698_SD16_OR_20210701\\2021-07-02_10-47-21_posttrial2\\2021-07-02_10-47-21_posttrial2-states_ES.mat. index 0 is out of bounds for axis 0 with size 0\n"
     ]
    },
    {
     "name": "stdout",
     "output_type": "stream",
     "text": [
      "{'header_info': {'rat': 3, 'study_day': 16, 'condition': 'OR', 'trial': 'posttrial2', 'treatment': 'CBD'}}\n",
      "(6751403,)\n",
      "(2700,)\n",
      "Filename already exists\n",
      "Filename already exists\n",
      "Filename already exists\n"
     ]
    },
    {
     "name": "stderr",
     "output_type": "stream",
     "text": [
      "ERROR:root:Error processing item: C:\\Users\\Abu Mohammed\\Dropbox\\CBD_dataset_Personal_Copy\\Dataset\\LFP_CBD_chronic_downsampled\\3\\Rat_OS_Ephys_cbd_chronic_Rat3_407698_SD17_HC_20210704\\2021-07-04_10-53-35_presleep\\2021-07-04_10-53-35_presleep-states_ES.mat. index 0 is out of bounds for axis 0 with size 0\n"
     ]
    },
    {
     "name": "stdout",
     "output_type": "stream",
     "text": [
      "{'header_info': {'rat': 3, 'study_day': 17, 'condition': 'HC', 'trial': 'presleep', 'treatment': 'VEH'}}\n",
      "(6752768,)\n",
      "(2700,)\n"
     ]
    },
    {
     "name": "stderr",
     "output_type": "stream",
     "text": [
      "ERROR:root:Error processing item: C:\\Users\\Abu Mohammed\\Dropbox\\CBD_dataset_Personal_Copy\\Dataset\\LFP_CBD_chronic_downsampled\\3\\Rat_OS_Ephys_cbd_chronic_Rat3_407698_SD17_HC_20210704\\2021-07-04_11-45-37_posttrial1\\2021-07-04_11-45-37_posttrial1-states_ES.mat. index 0 is out of bounds for axis 0 with size 0\n"
     ]
    },
    {
     "name": "stdout",
     "output_type": "stream",
     "text": [
      "{'header_info': {'rat': 3, 'study_day': 17, 'condition': 'HC', 'trial': 'posttrial1', 'treatment': 'VEH'}}\n",
      "(6759766,)\n",
      "(2703,)\n"
     ]
    },
    {
     "name": "stderr",
     "output_type": "stream",
     "text": [
      "ERROR:root:Error processing item: C:\\Users\\Abu Mohammed\\Dropbox\\CBD_dataset_Personal_Copy\\Dataset\\LFP_CBD_chronic_downsampled\\3\\Rat_OS_Ephys_cbd_chronic_Rat3_407698_SD17_HC_20210704\\2021-07-04_12-35-59_posttrial2\\2021-07-04_12-35-59_posttrial2-states_ES.mat. index 0 is out of bounds for axis 0 with size 0\n"
     ]
    },
    {
     "name": "stdout",
     "output_type": "stream",
     "text": [
      "{'header_info': {'rat': 3, 'study_day': 17, 'condition': 'HC', 'trial': 'posttrial2', 'treatment': 'VEH'}}\n",
      "(6752086,)\n",
      "(2700,)\n",
      "Filename already exists\n",
      "Filename already exists\n",
      "Filename already exists\n"
     ]
    },
    {
     "name": "stderr",
     "output_type": "stream",
     "text": [
      "ERROR:root:Error processing item: C:\\Users\\Abu Mohammed\\Dropbox\\CBD_dataset_Personal_Copy\\Dataset\\LFP_CBD_chronic_downsampled\\3\\Rat_OS_Ephys_cbd_chronic_Rat3_407698_SD1_OR_20210601\\2021-06-01_07-17-03_presleep\\2021-06-01_07-17-03_presleep-states_ES2.mat. index 0 is out of bounds for axis 0 with size 0\n"
     ]
    },
    {
     "name": "stdout",
     "output_type": "stream",
     "text": [
      "{'header_info': {'rat': 3, 'study_day': 1, 'condition': 'OR', 'trial': 'presleep', 'treatment': 'CBD'}}\n",
      "(6751403,)\n",
      "(2700,)\n"
     ]
    },
    {
     "name": "stderr",
     "output_type": "stream",
     "text": [
      "ERROR:root:Error processing item: C:\\Users\\Abu Mohammed\\Dropbox\\CBD_dataset_Personal_Copy\\Dataset\\LFP_CBD_chronic_downsampled\\3\\Rat_OS_Ephys_cbd_chronic_Rat3_407698_SD1_OR_20210601\\2021-06-01_08-19-20_posttrial1\\2021-06-01_08-19-20_posttrial1-states_ES2.mat. index 0 is out of bounds for axis 0 with size 0\n"
     ]
    },
    {
     "name": "stdout",
     "output_type": "stream",
     "text": [
      "{'header_info': {'rat': 3, 'study_day': 1, 'condition': 'OR', 'trial': 'posttrial1', 'treatment': 'CBD'}}\n",
      "(6751232,)\n",
      "(2699,)\n"
     ]
    },
    {
     "name": "stderr",
     "output_type": "stream",
     "text": [
      "ERROR:root:Error processing item: C:\\Users\\Abu Mohammed\\Dropbox\\CBD_dataset_Personal_Copy\\Dataset\\LFP_CBD_chronic_downsampled\\3\\Rat_OS_Ephys_cbd_chronic_Rat3_407698_SD1_OR_20210601\\2021-06-01_09-10-28_posttrial2\\2021-06-01_09-10-28_posttrial2-states_ES2.mat. index 0 is out of bounds for axis 0 with size 0\n"
     ]
    },
    {
     "name": "stdout",
     "output_type": "stream",
     "text": [
      "{'header_info': {'rat': 3, 'study_day': 1, 'condition': 'OR', 'trial': 'posttrial2', 'treatment': 'CBD'}}\n",
      "(6750806,)\n",
      "(2699,)\n"
     ]
    },
    {
     "name": "stderr",
     "output_type": "stream",
     "text": [
      "ERROR:root:Error processing item: C:\\Users\\Abu Mohammed\\Dropbox\\CBD_dataset_Personal_Copy\\Dataset\\LFP_CBD_chronic_downsampled\\3\\Rat_OS_Ephys_cbd_chronic_Rat3_407698_SD1_OR_20210601\\2021-06-01_10-02-21_posttrial3\\2021-06-01_10-02-21_posttrial3-states_ES2.mat. index 0 is out of bounds for axis 0 with size 0\n"
     ]
    },
    {
     "name": "stdout",
     "output_type": "stream",
     "text": [
      "{'header_info': {'rat': 3, 'study_day': 1, 'condition': 'OR', 'trial': 'posttrial3', 'treatment': 'CBD'}}\n",
      "(6751403,)\n",
      "(2700,)\n",
      "Filename already exists\n",
      "Filename already exists\n"
     ]
    },
    {
     "name": "stderr",
     "output_type": "stream",
     "text": [
      "ERROR:root:Error processing item: C:\\Users\\Abu Mohammed\\Dropbox\\CBD_dataset_Personal_Copy\\Dataset\\LFP_CBD_chronic_downsampled\\3\\Rat_OS_Ephys_cbd_chronic_Rat3_407698_SD2_HC_20210603\\2021-06-03_09-06-26_presleep\\2021-06-03_09-06-26_presleep-states_ES2.mat. index 0 is out of bounds for axis 0 with size 0\n"
     ]
    },
    {
     "name": "stdout",
     "output_type": "stream",
     "text": [
      "{'header_info': {'rat': 3, 'study_day': 2, 'condition': 'HC', 'trial': 'presleep', 'treatment': 'VEH'}}\n",
      "(6754902,)\n",
      "(2701,)\n"
     ]
    },
    {
     "name": "stderr",
     "output_type": "stream",
     "text": [
      "ERROR:root:Error processing item: C:\\Users\\Abu Mohammed\\Dropbox\\CBD_dataset_Personal_Copy\\Dataset\\LFP_CBD_chronic_downsampled\\3\\Rat_OS_Ephys_cbd_chronic_Rat3_407698_SD2_HC_20210603\\2021-06-03_10-12-28_posttrial1\\2021-06-03_10-12-28_posttrial1-states_ES2.mat. index 0 is out of bounds for axis 0 with size 0\n"
     ]
    },
    {
     "name": "stdout",
     "output_type": "stream",
     "text": [
      "{'header_info': {'rat': 3, 'study_day': 2, 'condition': 'HC', 'trial': 'posttrial1', 'treatment': 'VEH'}}\n",
      "(6753622,)\n",
      "(2700,)\n"
     ]
    },
    {
     "name": "stderr",
     "output_type": "stream",
     "text": [
      "ERROR:root:Error processing item: C:\\Users\\Abu Mohammed\\Dropbox\\CBD_dataset_Personal_Copy\\Dataset\\LFP_CBD_chronic_downsampled\\3\\Rat_OS_Ephys_cbd_chronic_Rat3_407698_SD2_HC_20210603\\2021-06-03_11-02-55_posttrial2\\2021-06-03_11-02-55_posttrial2-states_ES2.mat. index 0 is out of bounds for axis 0 with size 0\n"
     ]
    },
    {
     "name": "stdout",
     "output_type": "stream",
     "text": [
      "{'header_info': {'rat': 3, 'study_day': 2, 'condition': 'HC', 'trial': 'posttrial2', 'treatment': 'VEH'}}\n",
      "(6756438,)\n",
      "(2702,)\n",
      "Filename already exists\n",
      "Filename already exists\n",
      "Filename already exists\n"
     ]
    },
    {
     "name": "stderr",
     "output_type": "stream",
     "text": [
      "ERROR:root:Error processing item: C:\\Users\\Abu Mohammed\\Dropbox\\CBD_dataset_Personal_Copy\\Dataset\\LFP_CBD_chronic_downsampled\\3\\Rat_OS_Ephys_cbd_chronic_Rat3_407698_SD3_OR_4_06_2021\\2021-06-04_09-17-28_presleep\\2021-06-04_09-17-28_presleep-states_ES2.mat. index 0 is out of bounds for axis 0 with size 0\n"
     ]
    },
    {
     "name": "stdout",
     "output_type": "stream",
     "text": [
      "{'header_info': {'rat': 3, 'study_day': 3, 'condition': 'OR', 'trial': 'presleep', 'treatment': 'VEH'}}\n",
      "(6750806,)\n",
      "(2699,)\n"
     ]
    },
    {
     "name": "stderr",
     "output_type": "stream",
     "text": [
      "ERROR:root:Error processing item: C:\\Users\\Abu Mohammed\\Dropbox\\CBD_dataset_Personal_Copy\\Dataset\\LFP_CBD_chronic_downsampled\\3\\Rat_OS_Ephys_cbd_chronic_Rat3_407698_SD3_OR_4_06_2021\\2021-06-04_10-20-45_posttrial1\\2021-06-04_10-20-45_posttrial1-states_ES2.mat. index 0 is out of bounds for axis 0 with size 0\n"
     ]
    },
    {
     "name": "stdout",
     "output_type": "stream",
     "text": [
      "{'header_info': {'rat': 3, 'study_day': 3, 'condition': 'OR', 'trial': 'posttrial1', 'treatment': 'VEH'}}\n",
      "(6759851,)\n",
      "(2703,)\n",
      "Filename already exists\n",
      "Filename already exists\n",
      "Filename already exists\n",
      "Filename already exists\n"
     ]
    },
    {
     "name": "stderr",
     "output_type": "stream",
     "text": [
      "ERROR:root:Error processing item: C:\\Users\\Abu Mohammed\\Dropbox\\CBD_dataset_Personal_Copy\\Dataset\\LFP_CBD_chronic_downsampled\\3\\Rat_OS_Ephys_cbd_chronic_Rat3_407698_SD4_OD_20210607\\2021-06-07_09-57-49_presleep\\2021-06-07_09-57-49_presleep-states_ES2.mat. index 0 is out of bounds for axis 0 with size 0\n"
     ]
    },
    {
     "name": "stdout",
     "output_type": "stream",
     "text": [
      "{'header_info': {'rat': 3, 'study_day': 4, 'condition': 'OD', 'trial': 'presleep', 'treatment': 'VEH'}}\n",
      "(6753792,)\n",
      "(2701,)\n"
     ]
    },
    {
     "name": "stderr",
     "output_type": "stream",
     "text": [
      "ERROR:root:Error processing item: C:\\Users\\Abu Mohammed\\Dropbox\\CBD_dataset_Personal_Copy\\Dataset\\LFP_CBD_chronic_downsampled\\3\\Rat_OS_Ephys_cbd_chronic_Rat3_407698_SD4_OD_20210607\\2021-06-07_11-01-04_posttrial1\\2021-06-07_11-01-04_posttrial1-states_ES.mat. index 0 is out of bounds for axis 0 with size 0\n"
     ]
    },
    {
     "name": "stdout",
     "output_type": "stream",
     "text": [
      "{'header_info': {'rat': 3, 'study_day': 4, 'condition': 'OD', 'trial': 'posttrial1', 'treatment': 'VEH'}}\n",
      "(6752427,)\n",
      "(2700,)\n"
     ]
    },
    {
     "name": "stderr",
     "output_type": "stream",
     "text": [
      "ERROR:root:Error processing item: C:\\Users\\Abu Mohammed\\Dropbox\\CBD_dataset_Personal_Copy\\Dataset\\LFP_CBD_chronic_downsampled\\3\\Rat_OS_Ephys_cbd_chronic_Rat3_407698_SD4_OD_20210607\\2021-06-07_11-51-47_posttrial2\\2021-06-07_11-51-47_posttrial2-states_ES.mat. index 0 is out of bounds for axis 0 with size 0\n"
     ]
    },
    {
     "name": "stdout",
     "output_type": "stream",
     "text": [
      "{'header_info': {'rat': 3, 'study_day': 4, 'condition': 'OD', 'trial': 'posttrial2', 'treatment': 'VEH'}}\n",
      "(6752598,)\n",
      "(2700,)\n",
      "Filename already exists\n",
      "Filename already exists\n",
      "Filename already exists\n"
     ]
    },
    {
     "name": "stderr",
     "output_type": "stream",
     "text": [
      "ERROR:root:Error processing item: C:\\Users\\Abu Mohammed\\Dropbox\\CBD_dataset_Personal_Copy\\Dataset\\LFP_CBD_chronic_downsampled\\3\\Rat_OS_Ephys_cbd_chronic_Rat3_407698_SD5_HC_20210609\\2021-06-09_09-25-08_presleep\\2021-06-09_09-25-08_presleep-states_ES.mat. index 0 is out of bounds for axis 0 with size 0\n"
     ]
    },
    {
     "name": "stdout",
     "output_type": "stream",
     "text": [
      "{'header_info': {'rat': 3, 'study_day': 5, 'condition': 'HC', 'trial': 'presleep', 'treatment': 'VEH'}}\n",
      "(6751403,)\n",
      "(2700,)\n",
      "Filename already exists\n"
     ]
    },
    {
     "name": "stderr",
     "output_type": "stream",
     "text": [
      "ERROR:root:Error processing item: C:\\Users\\Abu Mohammed\\Dropbox\\CBD_dataset_Personal_Copy\\Dataset\\LFP_CBD_chronic_downsampled\\3\\Rat_OS_Ephys_cbd_chronic_Rat3_407698_SD5_HC_20210609\\2021-06-09_11-05-36_posttrial2\\2021-06-09_11-05-36_posttrial2-states_ES.mat. index 0 is out of bounds for axis 0 with size 0\n"
     ]
    },
    {
     "name": "stdout",
     "output_type": "stream",
     "text": [
      "{'header_info': {'rat': 3, 'study_day': 5, 'condition': 'HC', 'trial': 'posttrial2', 'treatment': 'VEH'}}\n",
      "(6750806,)\n",
      "(2699,)\n"
     ]
    },
    {
     "name": "stderr",
     "output_type": "stream",
     "text": [
      "ERROR:root:Error processing item: C:\\Users\\Abu Mohammed\\Dropbox\\CBD_dataset_Personal_Copy\\Dataset\\LFP_CBD_chronic_downsampled\\3\\Rat_OS_Ephys_cbd_chronic_Rat3_407698_SD5_HC_20210609\\2021-06-09_11-56-08_posttrial3\\2021-06-09_11-56-08_postrial3-states_ES.mat. index 0 is out of bounds for axis 0 with size 0\n"
     ]
    },
    {
     "name": "stdout",
     "output_type": "stream",
     "text": [
      "{'header_info': {'rat': 3, 'study_day': 5, 'condition': 'HC', 'trial': 'posttrial3', 'treatment': 'VEH'}}\n",
      "(6752939,)\n",
      "(2700,)\n"
     ]
    },
    {
     "name": "stderr",
     "output_type": "stream",
     "text": [
      "ERROR:root:Error processing item: C:\\Users\\Abu Mohammed\\Dropbox\\CBD_dataset_Personal_Copy\\Dataset\\LFP_CBD_chronic_downsampled\\3\\Rat_OS_Ephys_cbd_chronic_Rat3_407698_SD5_HC_20210609\\2021-06-09_12-46-25_posttrial4\\2021-06-09_12-46-25_posttrial4-states_ES.mat. index 0 is out of bounds for axis 0 with size 0\n"
     ]
    },
    {
     "name": "stdout",
     "output_type": "stream",
     "text": [
      "{'header_info': {'rat': 3, 'study_day': 5, 'condition': 'HC', 'trial': 'posttrial4', 'treatment': 'VEH'}}\n",
      "(6752171,)\n",
      "(2700,)\n",
      "Filename already exists\n"
     ]
    },
    {
     "name": "stderr",
     "output_type": "stream",
     "text": [
      "ERROR:root:Error processing item: C:\\Users\\Abu Mohammed\\Dropbox\\CBD_dataset_Personal_Copy\\Dataset\\LFP_CBD_chronic_downsampled\\3\\Rat_OS_Ephys_cbd_chronic_Rat3_407698_SD6_OD_20210610\\2021-06-10_07-39-17_presleep\\2021-06-10_07-39-17_presleep-states_TS.mat. index 0 is out of bounds for axis 0 with size 0\n"
     ]
    },
    {
     "name": "stdout",
     "output_type": "stream",
     "text": [
      "{'header_info': {'rat': 3, 'study_day': 6, 'condition': 'OD', 'trial': 'presleep', 'treatment': 'CBD'}}\n",
      "(6753110,)\n",
      "(2700,)\n",
      "Filename already exists\n",
      "Filename already exists\n",
      "Filename already exists\n",
      "Filename already exists\n",
      "Filename already exists\n"
     ]
    },
    {
     "name": "stderr",
     "output_type": "stream",
     "text": [
      "ERROR:root:Error processing item: C:\\Users\\Abu Mohammed\\Dropbox\\CBD_dataset_Personal_Copy\\Dataset\\LFP_CBD_chronic_downsampled\\3\\Rat_OS_Ephys_cbd_chronic_Rat3_407698_SD7_HC_20210614\\2021-06-14_10-08-52_presleep\\2021-06-14_10-08-52_presleep-states_ES.mat. index 0 is out of bounds for axis 0 with size 0\n"
     ]
    },
    {
     "name": "stdout",
     "output_type": "stream",
     "text": [
      "{'header_info': {'rat': 3, 'study_day': 7, 'condition': 'HC', 'trial': 'presleep', 'treatment': 'CBD'}}\n",
      "(6751915,)\n",
      "(2700,)\n"
     ]
    },
    {
     "name": "stderr",
     "output_type": "stream",
     "text": [
      "ERROR:root:Error processing item: C:\\Users\\Abu Mohammed\\Dropbox\\CBD_dataset_Personal_Copy\\Dataset\\LFP_CBD_chronic_downsampled\\3\\Rat_OS_Ephys_cbd_chronic_Rat3_407698_SD7_HC_20210614\\2021-06-14_10-59-13_posttrial1\\2021-06-14_10-59-13_posttrial1-states_ES.mat. index 0 is out of bounds for axis 0 with size 0\n"
     ]
    },
    {
     "name": "stdout",
     "output_type": "stream",
     "text": [
      "{'header_info': {'rat': 3, 'study_day': 7, 'condition': 'HC', 'trial': 'posttrial1', 'treatment': 'CBD'}}\n",
      "(6752598,)\n",
      "(2700,)\n",
      "Filename already exists\n",
      "Filename already exists\n",
      "Filename already exists\n",
      "Filename already exists\n"
     ]
    },
    {
     "name": "stderr",
     "output_type": "stream",
     "text": [
      "ERROR:root:Error processing item: C:\\Users\\Abu Mohammed\\Dropbox\\CBD_dataset_Personal_Copy\\Dataset\\LFP_CBD_chronic_downsampled\\3\\Rat_OS_Ephys_cbd_chronic_Rat3_407698_SD8_HC_20210616\\2021-06-16_07-24-39_presleep\\2021-06-16_07-24-39_presleep-states_ES.mat. index 0 is out of bounds for axis 0 with size 0\n"
     ]
    },
    {
     "name": "stdout",
     "output_type": "stream",
     "text": [
      "{'header_info': {'rat': 3, 'study_day': 8, 'condition': 'HC', 'trial': 'presleep', 'treatment': 'VEH'}}\n",
      "(6754304,)\n",
      "(2701,)\n"
     ]
    },
    {
     "name": "stderr",
     "output_type": "stream",
     "text": [
      "ERROR:root:Error processing item: C:\\Users\\Abu Mohammed\\Dropbox\\CBD_dataset_Personal_Copy\\Dataset\\LFP_CBD_chronic_downsampled\\3\\Rat_OS_Ephys_cbd_chronic_Rat3_407698_SD8_HC_20210616\\2021-06-16_08-25-31_posttrial1\\2021-06-16_08-25-31_posttrial1-states_ES.mat. index 0 is out of bounds for axis 0 with size 0\n"
     ]
    },
    {
     "name": "stdout",
     "output_type": "stream",
     "text": [
      "{'header_info': {'rat': 3, 'study_day': 8, 'condition': 'HC', 'trial': 'posttrial1', 'treatment': 'VEH'}}\n",
      "(6752512,)\n",
      "(2700,)\n"
     ]
    },
    {
     "name": "stderr",
     "output_type": "stream",
     "text": [
      "ERROR:root:Error processing item: C:\\Users\\Abu Mohammed\\Dropbox\\CBD_dataset_Personal_Copy\\Dataset\\LFP_CBD_chronic_downsampled\\3\\Rat_OS_Ephys_cbd_chronic_Rat3_407698_SD8_HC_20210616\\2021-06-16_09-15-49_posttrial2\\2021-06-16_09-15-49_posttrial2-states_ES.mat. index 0 is out of bounds for axis 0 with size 0\n"
     ]
    },
    {
     "name": "stdout",
     "output_type": "stream",
     "text": [
      "{'header_info': {'rat': 3, 'study_day': 8, 'condition': 'HC', 'trial': 'posttrial2', 'treatment': 'VEH'}}\n",
      "(6752342,)\n",
      "(2700,)\n",
      "Filename already exists\n",
      "Filename already exists\n",
      "Filename already exists\n"
     ]
    },
    {
     "name": "stderr",
     "output_type": "stream",
     "text": [
      "ERROR:root:Error processing item: C:\\Users\\Abu Mohammed\\Dropbox\\CBD_dataset_Personal_Copy\\Dataset\\LFP_CBD_chronic_downsampled\\3\\Rat_OS_Ephys_cbd_chronic_Rat3_407698_SD9_HC_20210618\\2021-06-18_09-25-59_presleep\\2021-06-18_09-25-59_presleep-states_TS.mat. index 0 is out of bounds for axis 0 with size 0\n"
     ]
    },
    {
     "name": "stdout",
     "output_type": "stream",
     "text": [
      "{'header_info': {'rat': 3, 'study_day': 9, 'condition': 'HC', 'trial': 'presleep', 'treatment': 'CBD'}}\n",
      "(6757974,)\n",
      "(2702,)\n"
     ]
    },
    {
     "name": "stderr",
     "output_type": "stream",
     "text": [
      "ERROR:root:Error processing item: C:\\Users\\Abu Mohammed\\Dropbox\\CBD_dataset_Personal_Copy\\Dataset\\LFP_CBD_chronic_downsampled\\3\\Rat_OS_Ephys_cbd_chronic_Rat3_407698_SD9_HC_20210618\\2021-06-18_10-28-26_posttrial1\\2021-06-18_10-28-26_posttrial1-states_TS.mat. index 0 is out of bounds for axis 0 with size 0\n"
     ]
    },
    {
     "name": "stdout",
     "output_type": "stream",
     "text": [
      "{'header_info': {'rat': 3, 'study_day': 9, 'condition': 'HC', 'trial': 'posttrial1', 'treatment': 'CBD'}}\n",
      "(6752768,)\n",
      "(2700,)\n"
     ]
    },
    {
     "name": "stderr",
     "output_type": "stream",
     "text": [
      "ERROR:root:Error processing item: C:\\Users\\Abu Mohammed\\Dropbox\\CBD_dataset_Personal_Copy\\Dataset\\LFP_CBD_chronic_downsampled\\3\\Rat_OS_Ephys_cbd_chronic_Rat3_407698_SD9_HC_20210618\\2021-06-18_11-18-46_posttrial2\\2021-06-18_11-18-46_posttrial2-states_TS.mat. index 0 is out of bounds for axis 0 with size 0\n"
     ]
    },
    {
     "name": "stdout",
     "output_type": "stream",
     "text": [
      "{'header_info': {'rat': 3, 'study_day': 9, 'condition': 'HC', 'trial': 'posttrial2', 'treatment': 'CBD'}}\n",
      "(6754048,)\n",
      "(2701,)\n",
      "Filename already exists\n",
      "Filename already exists\n",
      "Filename already exists\n"
     ]
    },
    {
     "name": "stderr",
     "output_type": "stream",
     "text": [
      "ERROR:root:Error processing item: C:\\Users\\Abu Mohammed\\Dropbox\\CBD_dataset_Personal_Copy\\Dataset\\LFP_CBD_chronic_downsampled\\4\\Rat_OS_Ephys_cbd_chronic_Rat4_407699_SD16_OR_20210701\\2021-07-02_11-12-21_presleep\\2021-07-02_11-12-21_presleep-states_SM.mat. index 0 is out of bounds for axis 0 with size 0\n"
     ]
    },
    {
     "name": "stdout",
     "output_type": "stream",
     "text": [
      "{'header_info': {'rat': 4, 'study_day': 16, 'condition': 'OR', 'trial': 'presleep', 'treatment': 'VEH'}}\n",
      "(6756011,)\n",
      "(2701,)\n"
     ]
    },
    {
     "name": "stderr",
     "output_type": "stream",
     "text": [
      "ERROR:root:Error processing item: C:\\Users\\Abu Mohammed\\Dropbox\\CBD_dataset_Personal_Copy\\Dataset\\LFP_CBD_chronic_downsampled\\4\\Rat_OS_Ephys_cbd_chronic_Rat4_407699_SD16_OR_20210701\\2021-07-02_12-11-01_posttrial1\\2021-07-02_12-11-01_posttrial1-states_SM.mat. index 0 is out of bounds for axis 0 with size 0\n"
     ]
    },
    {
     "name": "stdout",
     "output_type": "stream",
     "text": [
      "{'header_info': {'rat': 4, 'study_day': 16, 'condition': 'OR', 'trial': 'posttrial1', 'treatment': 'VEH'}}\n",
      "(6751830,)\n",
      "(2700,)\n"
     ]
    },
    {
     "name": "stderr",
     "output_type": "stream",
     "text": [
      "ERROR:root:Error processing item: C:\\Users\\Abu Mohammed\\Dropbox\\CBD_dataset_Personal_Copy\\Dataset\\LFP_CBD_chronic_downsampled\\4\\Rat_OS_Ephys_cbd_chronic_Rat4_407699_SD16_OR_20210701\\2021-07-02_13-01-47_posttrial2\\2021-07-02_13-01-47_posttrial2-states_SM.mat. index 0 is out of bounds for axis 0 with size 0\n"
     ]
    },
    {
     "name": "stdout",
     "output_type": "stream",
     "text": [
      "{'header_info': {'rat': 4, 'study_day': 16, 'condition': 'OR', 'trial': 'posttrial2', 'treatment': 'VEH'}}\n",
      "(6752000,)\n",
      "(2700,)\n"
     ]
    },
    {
     "name": "stderr",
     "output_type": "stream",
     "text": [
      "ERROR:root:Error processing item: C:\\Users\\Abu Mohammed\\Dropbox\\CBD_dataset_Personal_Copy\\Dataset\\LFP_CBD_chronic_downsampled\\4\\Rat_OS_Ephys_cbd_chronic_Rat4_407699_SD16_OR_20210701\\2021-07-02_13-52-31_posttrial3\\2021-07-02_13-52-31_posttrial3-states_SM.mat. index 0 is out of bounds for axis 0 with size 0\n"
     ]
    },
    {
     "name": "stdout",
     "output_type": "stream",
     "text": [
      "{'header_info': {'rat': 4, 'study_day': 16, 'condition': 'OR', 'trial': 'posttrial3', 'treatment': 'VEH'}}\n",
      "(6752256,)\n",
      "(2700,)\n",
      "Filename already exists\n",
      "Filename already exists\n"
     ]
    },
    {
     "name": "stderr",
     "output_type": "stream",
     "text": [
      "ERROR:root:Error processing item: C:\\Users\\Abu Mohammed\\Dropbox\\CBD_dataset_Personal_Copy\\Dataset\\LFP_CBD_chronic_downsampled\\4\\Rat_OS_Ephys_cbd_chronic_Rat4_407699_SD17_HC_20210704\\2021-07-04_11-10-28_presleep\\2021-07-04_11-10-28_presleep-states_SM.mat. index 0 is out of bounds for axis 0 with size 0\n"
     ]
    },
    {
     "name": "stdout",
     "output_type": "stream",
     "text": [
      "{'header_info': {'rat': 4, 'study_day': 17, 'condition': 'HC', 'trial': 'presleep', 'treatment': 'VEH'}}\n",
      "(6752000,)\n",
      "(2700,)\n"
     ]
    },
    {
     "name": "stderr",
     "output_type": "stream",
     "text": [
      "ERROR:root:Error processing item: C:\\Users\\Abu Mohammed\\Dropbox\\CBD_dataset_Personal_Copy\\Dataset\\LFP_CBD_chronic_downsampled\\4\\Rat_OS_Ephys_cbd_chronic_Rat4_407699_SD17_HC_20210704\\2021-07-04_12-02-19_posttrial1\\2021-07-04_12-02-19_posttrial1-states_SM.mat. index 0 is out of bounds for axis 0 with size 0\n"
     ]
    },
    {
     "name": "stdout",
     "output_type": "stream",
     "text": [
      "{'header_info': {'rat': 4, 'study_day': 17, 'condition': 'HC', 'trial': 'posttrial1', 'treatment': 'VEH'}}\n",
      "(6752256,)\n",
      "(2700,)\n"
     ]
    },
    {
     "name": "stderr",
     "output_type": "stream",
     "text": [
      "ERROR:root:Error processing item: C:\\Users\\Abu Mohammed\\Dropbox\\CBD_dataset_Personal_Copy\\Dataset\\LFP_CBD_chronic_downsampled\\4\\Rat_OS_Ephys_cbd_chronic_Rat4_407699_SD17_HC_20210704\\2021-07-04_12-52-40_posttrial2\\2021-07-04_12-52-40_posttrial2-states_SM.mat. index 0 is out of bounds for axis 0 with size 0\n"
     ]
    },
    {
     "name": "stdout",
     "output_type": "stream",
     "text": [
      "{'header_info': {'rat': 4, 'study_day': 17, 'condition': 'HC', 'trial': 'posttrial2', 'treatment': 'VEH'}}\n",
      "(6754390,)\n",
      "(2701,)\n",
      "Filename already exists\n"
     ]
    },
    {
     "name": "stderr",
     "output_type": "stream",
     "text": [
      "ERROR:root:Error processing item: C:\\Users\\Abu Mohammed\\Dropbox\\CBD_dataset_Personal_Copy\\Dataset\\LFP_CBD_chronic_downsampled\\4\\Rat_OS_Ephys_cbd_chronic_Rat4_407699_SD17_HC_20210704\\2021-07-04_14-33-20_posttrial4\\2021-07-04_14-33-20_posttrial4-states_SM.mat. index 0 is out of bounds for axis 0 with size 0\n"
     ]
    },
    {
     "name": "stdout",
     "output_type": "stream",
     "text": [
      "{'header_info': {'rat': 4, 'study_day': 17, 'condition': 'HC', 'trial': 'posttrial4', 'treatment': 'VEH'}}\n",
      "(6751915,)\n",
      "(2700,)\n",
      "Filename already exists\n"
     ]
    },
    {
     "name": "stderr",
     "output_type": "stream",
     "text": [
      "ERROR:root:Error processing item: C:\\Users\\Abu Mohammed\\Dropbox\\CBD_dataset_Personal_Copy\\Dataset\\LFP_CBD_chronic_downsampled\\4\\Rat_OS_Ephys_cbd_chronic_Rat4_407699_SD1_OR_20210601\\2021-06-01_09-26-42_presleep\\2021-06-01_09-26-42_presleep-states_TS.mat. index 0 is out of bounds for axis 0 with size 0\n"
     ]
    },
    {
     "name": "stdout",
     "output_type": "stream",
     "text": [
      "{'header_info': {'rat': 4, 'study_day': 1, 'condition': 'OR', 'trial': 'presleep', 'treatment': 'VEH'}}\n",
      "(6817792,)\n",
      "(2726,)\n"
     ]
    },
    {
     "name": "stderr",
     "output_type": "stream",
     "text": [
      "ERROR:root:Error processing item: C:\\Users\\Abu Mohammed\\Dropbox\\CBD_dataset_Personal_Copy\\Dataset\\LFP_CBD_chronic_downsampled\\4\\Rat_OS_Ephys_cbd_chronic_Rat4_407699_SD1_OR_20210601\\2021-06-01_10-30-03_posttrial1\\2021-06-01_10-30-03_posttrial1-states_TS.mat. index 0 is out of bounds for axis 0 with size 0\n"
     ]
    },
    {
     "name": "stdout",
     "output_type": "stream",
     "text": [
      "{'header_info': {'rat': 4, 'study_day': 1, 'condition': 'OR', 'trial': 'posttrial1', 'treatment': 'VEH'}}\n",
      "(6751659,)\n",
      "(2700,)\n"
     ]
    },
    {
     "name": "stderr",
     "output_type": "stream",
     "text": [
      "ERROR:root:Error processing item: C:\\Users\\Abu Mohammed\\Dropbox\\CBD_dataset_Personal_Copy\\Dataset\\LFP_CBD_chronic_downsampled\\4\\Rat_OS_Ephys_cbd_chronic_Rat4_407699_SD1_OR_20210601\\2021-06-01_11-21-01_posttrial2\\2021-06-01_11-21-01_posttrial2-states_TS.mat. index 0 is out of bounds for axis 0 with size 0\n"
     ]
    },
    {
     "name": "stdout",
     "output_type": "stream",
     "text": [
      "{'header_info': {'rat': 4, 'study_day': 1, 'condition': 'OR', 'trial': 'posttrial2', 'treatment': 'VEH'}}\n",
      "(6751574,)\n",
      "(2700,)\n"
     ]
    },
    {
     "name": "stderr",
     "output_type": "stream",
     "text": [
      "ERROR:root:Error processing item: C:\\Users\\Abu Mohammed\\Dropbox\\CBD_dataset_Personal_Copy\\Dataset\\LFP_CBD_chronic_downsampled\\4\\Rat_OS_Ephys_cbd_chronic_Rat4_407699_SD1_OR_20210601\\2021-06-01_12-11-46_posttrial3\\2021-06-01_12-11-46_posttrial3-states_TS.mat. index 0 is out of bounds for axis 0 with size 0\n"
     ]
    },
    {
     "name": "stdout",
     "output_type": "stream",
     "text": [
      "{'header_info': {'rat': 4, 'study_day': 1, 'condition': 'OR', 'trial': 'posttrial3', 'treatment': 'VEH'}}\n",
      "(6750976,)\n",
      "(2699,)\n"
     ]
    },
    {
     "name": "stderr",
     "output_type": "stream",
     "text": [
      "ERROR:root:Error processing item: C:\\Users\\Abu Mohammed\\Dropbox\\CBD_dataset_Personal_Copy\\Dataset\\LFP_CBD_chronic_downsampled\\4\\Rat_OS_Ephys_cbd_chronic_Rat4_407699_SD1_OR_20210601\\2021-06-01_13-02-26_posttrial4\\2021-06-01_13-02-26_posttrial4-states_TS.mat. index 0 is out of bounds for axis 0 with size 0\n"
     ]
    },
    {
     "name": "stdout",
     "output_type": "stream",
     "text": [
      "{'header_info': {'rat': 4, 'study_day': 1, 'condition': 'OR', 'trial': 'posttrial4', 'treatment': 'VEH'}}\n",
      "(6751318,)\n",
      "(2700,)\n",
      "Filename already exists\n"
     ]
    },
    {
     "name": "stderr",
     "output_type": "stream",
     "text": [
      "ERROR:root:Error processing item: C:\\Users\\Abu Mohammed\\Dropbox\\CBD_dataset_Personal_Copy\\Dataset\\LFP_CBD_chronic_downsampled\\4\\Rat_OS_Ephys_cbd_chronic_Rat4_407699_SD2_HC_20210603\\2021-06-03_09-14-23_presleep\\2021-06-03_09-14-23_presleep-states_SM.mat. index 0 is out of bounds for axis 0 with size 0\n"
     ]
    },
    {
     "name": "stdout",
     "output_type": "stream",
     "text": [
      "{'header_info': {'rat': 4, 'study_day': 2, 'condition': 'HC', 'trial': 'presleep', 'treatment': 'VEH'}}\n",
      "(6753451,)\n",
      "(2700,)\n",
      "Filename already exists\n",
      "Filename already exists\n",
      "Filename already exists\n"
     ]
    },
    {
     "name": "stderr",
     "output_type": "stream",
     "text": [
      "ERROR:root:Error processing item: C:\\Users\\Abu Mohammed\\Dropbox\\CBD_dataset_Personal_Copy\\Dataset\\LFP_CBD_chronic_downsampled\\4\\Rat_OS_Ephys_cbd_chronic_Rat4_407699_SD2_HC_20210603\\2021-06-03_12-47-52_posttrial4\\2021-06-03_12-47-52_posttrial4-states_SM.mat. index 0 is out of bounds for axis 0 with size 0\n"
     ]
    },
    {
     "name": "stdout",
     "output_type": "stream",
     "text": [
      "{'header_info': {'rat': 4, 'study_day': 2, 'condition': 'HC', 'trial': 'posttrial4', 'treatment': 'VEH'}}\n",
      "(6754390,)\n",
      "(2701,)\n",
      "Filename already exists\n"
     ]
    },
    {
     "name": "stderr",
     "output_type": "stream",
     "text": [
      "ERROR:root:Error processing item: C:\\Users\\Abu Mohammed\\Dropbox\\CBD_dataset_Personal_Copy\\Dataset\\LFP_CBD_chronic_downsampled\\4\\Rat_OS_Ephys_cbd_chronic_Rat4_407699_SD3_OR_20210604\\2021-06-04_09-29-23_presleep\\2021-06-04_09-29-23_presleep-states_SM.mat. index 0 is out of bounds for axis 0 with size 0\n"
     ]
    },
    {
     "name": "stdout",
     "output_type": "stream",
     "text": [
      "{'header_info': {'rat': 4, 'study_day': 3, 'condition': 'OR', 'trial': 'presleep', 'treatment': 'CBD'}}\n",
      "(6753280,)\n",
      "(2700,)\n"
     ]
    },
    {
     "name": "stderr",
     "output_type": "stream",
     "text": [
      "ERROR:root:Error processing item: C:\\Users\\Abu Mohammed\\Dropbox\\CBD_dataset_Personal_Copy\\Dataset\\LFP_CBD_chronic_downsampled\\4\\Rat_OS_Ephys_cbd_chronic_Rat4_407699_SD3_OR_20210604\\2021-06-04_10-30-41_posttrial1\\2021-06-04_10-30-41_posttrial1-states_SM.mat. index 0 is out of bounds for axis 0 with size 0\n"
     ]
    },
    {
     "name": "stdout",
     "output_type": "stream",
     "text": [
      "{'header_info': {'rat': 4, 'study_day': 3, 'condition': 'OR', 'trial': 'posttrial1', 'treatment': 'CBD'}}\n",
      "(6751318,)\n",
      "(2700,)\n"
     ]
    },
    {
     "name": "stderr",
     "output_type": "stream",
     "text": [
      "ERROR:root:Error processing item: C:\\Users\\Abu Mohammed\\Dropbox\\CBD_dataset_Personal_Copy\\Dataset\\LFP_CBD_chronic_downsampled\\4\\Rat_OS_Ephys_cbd_chronic_Rat4_407699_SD3_OR_20210604\\2021-06-04_11-21-11_posttrial2\\2021-06-04_11-21-11_posttrial2-states_SM.mat. index 0 is out of bounds for axis 0 with size 0\n"
     ]
    },
    {
     "name": "stdout",
     "output_type": "stream",
     "text": [
      "{'header_info': {'rat': 4, 'study_day': 3, 'condition': 'OR', 'trial': 'posttrial2', 'treatment': 'CBD'}}\n",
      "(6751062,)\n",
      "(2699,)\n",
      "Filename already exists\n",
      "Filename already exists\n",
      "Filename already exists\n"
     ]
    },
    {
     "name": "stderr",
     "output_type": "stream",
     "text": [
      "ERROR:root:Error processing item: C:\\Users\\Abu Mohammed\\Dropbox\\CBD_dataset_Personal_Copy\\Dataset\\LFP_CBD_chronic_downsampled\\4\\Rat_OS_Ephys_cbd_chronic_Rat4_407699_SD4_OD_20210607\\2021-06-07_10-15-48_presleep\\2021-06-07_10-15-48_presleep-states_SM.mat. index 0 is out of bounds for axis 0 with size 0\n"
     ]
    },
    {
     "name": "stdout",
     "output_type": "stream",
     "text": [
      "{'header_info': {'rat': 4, 'study_day': 4, 'condition': 'OD', 'trial': 'presleep', 'treatment': 'CBD'}}\n",
      "(6753110,)\n",
      "(2700,)\n"
     ]
    },
    {
     "name": "stderr",
     "output_type": "stream",
     "text": [
      "ERROR:root:Error processing item: C:\\Users\\Abu Mohammed\\Dropbox\\CBD_dataset_Personal_Copy\\Dataset\\LFP_CBD_chronic_downsampled\\4\\Rat_OS_Ephys_cbd_chronic_Rat4_407699_SD4_OD_20210607\\2021-06-07_11-16-17_posttrial1\\2021-06-07_11-16-17_posttrial1-states_SM.mat. index 0 is out of bounds for axis 0 with size 0\n"
     ]
    },
    {
     "name": "stdout",
     "output_type": "stream",
     "text": [
      "{'header_info': {'rat': 4, 'study_day': 4, 'condition': 'OD', 'trial': 'posttrial1', 'treatment': 'CBD'}}\n",
      "(6752512,)\n",
      "(2700,)\n"
     ]
    },
    {
     "name": "stderr",
     "output_type": "stream",
     "text": [
      "ERROR:root:Error processing item: C:\\Users\\Abu Mohammed\\Dropbox\\CBD_dataset_Personal_Copy\\Dataset\\LFP_CBD_chronic_downsampled\\4\\Rat_OS_Ephys_cbd_chronic_Rat4_407699_SD4_OD_20210607\\2021-06-07_12-07-03_posttrial2\\2021-06-07_12-07-03_posttrial2-states_SM.mat. index 0 is out of bounds for axis 0 with size 0\n"
     ]
    },
    {
     "name": "stdout",
     "output_type": "stream",
     "text": [
      "{'header_info': {'rat': 4, 'study_day': 4, 'condition': 'OD', 'trial': 'posttrial2', 'treatment': 'CBD'}}\n",
      "(6752598,)\n",
      "(2700,)\n",
      "Filename already exists\n"
     ]
    },
    {
     "name": "stderr",
     "output_type": "stream",
     "text": [
      "ERROR:root:Error processing item: C:\\Users\\Abu Mohammed\\Dropbox\\CBD_dataset_Personal_Copy\\Dataset\\LFP_CBD_chronic_downsampled\\4\\Rat_OS_Ephys_cbd_chronic_Rat4_407699_SD4_OD_20210607\\2021-06-07_13-48-35_posttrial4\\2021-06-07_13-48-35_posttrial4-states_SM.mat. index 0 is out of bounds for axis 0 with size 0\n"
     ]
    },
    {
     "name": "stdout",
     "output_type": "stream",
     "text": [
      "{'header_info': {'rat': 4, 'study_day': 4, 'condition': 'OD', 'trial': 'posttrial4', 'treatment': 'CBD'}}\n",
      "(6752427,)\n",
      "(2700,)\n",
      "Filename already exists\n",
      "Filename already exists\n"
     ]
    },
    {
     "name": "stderr",
     "output_type": "stream",
     "text": [
      "ERROR:root:Error processing item: C:\\Users\\Abu Mohammed\\Dropbox\\CBD_dataset_Personal_Copy\\Dataset\\LFP_CBD_chronic_downsampled\\4\\Rat_OS_Ephys_cbd_chronic_Rat4_407699_SD5_HC_20210609\\2021-06-09_10-25-17_posttrial1\\2021-06-09_10-25-17_posttrial1-states_SM.mat. index 0 is out of bounds for axis 0 with size 0\n"
     ]
    },
    {
     "name": "stdout",
     "output_type": "stream",
     "text": [
      "{'header_info': {'rat': 4, 'study_day': 5, 'condition': 'HC', 'trial': 'posttrial1', 'treatment': 'VEH'}}\n",
      "(6758486,)\n",
      "(2702,)\n",
      "Filename already exists\n"
     ]
    },
    {
     "name": "stderr",
     "output_type": "stream",
     "text": [
      "ERROR:root:Error processing item: C:\\Users\\Abu Mohammed\\Dropbox\\CBD_dataset_Personal_Copy\\Dataset\\LFP_CBD_chronic_downsampled\\4\\Rat_OS_Ephys_cbd_chronic_Rat4_407699_SD5_HC_20210609\\2021-06-09_12-06-20_posttrial3\\2021-06-09_12-06-20_posttrial3-states_SM.mat. index 0 is out of bounds for axis 0 with size 0\n"
     ]
    },
    {
     "name": "stdout",
     "output_type": "stream",
     "text": [
      "{'header_info': {'rat': 4, 'study_day': 5, 'condition': 'HC', 'trial': 'posttrial3', 'treatment': 'VEH'}}\n",
      "(6816342,)\n",
      "(2726,)\n",
      "Filename already exists\n",
      "Filename already exists\n"
     ]
    },
    {
     "name": "stderr",
     "output_type": "stream",
     "text": [
      "ERROR:root:Error processing item: C:\\Users\\Abu Mohammed\\Dropbox\\CBD_dataset_Personal_Copy\\Dataset\\LFP_CBD_chronic_downsampled\\4\\Rat_OS_Ephys_cbd_chronic_Rat4_407699_SD6_OD_20210610\\2021-06-10_09-38-04_presleep\\2021-06-10_09-38-04_presleep-states_SM.mat. index 0 is out of bounds for axis 0 with size 0\n"
     ]
    },
    {
     "name": "stdout",
     "output_type": "stream",
     "text": [
      "{'header_info': {'rat': 4, 'study_day': 6, 'condition': 'OD', 'trial': 'presleep', 'treatment': 'VEH'}}\n",
      "(6853632,)\n",
      "(2740,)\n"
     ]
    },
    {
     "name": "stderr",
     "output_type": "stream",
     "text": [
      "ERROR:root:Error processing item: C:\\Users\\Abu Mohammed\\Dropbox\\CBD_dataset_Personal_Copy\\Dataset\\LFP_CBD_chronic_downsampled\\4\\Rat_OS_Ephys_cbd_chronic_Rat4_407699_SD6_OD_20210610\\2021-06-10_10-39-35_posttrial1\\2021-06-10_10-39-35_posttrial1-states_SM.mat. index 0 is out of bounds for axis 0 with size 0\n"
     ]
    },
    {
     "name": "stdout",
     "output_type": "stream",
     "text": [
      "{'header_info': {'rat': 4, 'study_day': 6, 'condition': 'OD', 'trial': 'posttrial1', 'treatment': 'VEH'}}\n",
      "(6752768,)\n",
      "(2700,)\n",
      "Filename already exists\n",
      "Filename already exists\n",
      "Filename already exists\n",
      "Filename already exists\n"
     ]
    },
    {
     "name": "stderr",
     "output_type": "stream",
     "text": [
      "ERROR:root:Error processing item: C:\\Users\\Abu Mohammed\\Dropbox\\CBD_dataset_Personal_Copy\\Dataset\\LFP_CBD_chronic_downsampled\\4\\Rat_OS_Ephys_cbd_chronic_Rat4_407699_SD7_HC_20210614\\2021-06-14_09-45-02_presleep\\2021-06-14_09-45-02_presleep-states_SM.mat. index 0 is out of bounds for axis 0 with size 0\n"
     ]
    },
    {
     "name": "stdout",
     "output_type": "stream",
     "text": [
      "{'header_info': {'rat': 4, 'study_day': 7, 'condition': 'HC', 'trial': 'presleep', 'treatment': 'CBD'}}\n",
      "(6751488,)\n",
      "(2700,)\n"
     ]
    },
    {
     "name": "stderr",
     "output_type": "stream",
     "text": [
      "ERROR:root:Error processing item: C:\\Users\\Abu Mohammed\\Dropbox\\CBD_dataset_Personal_Copy\\Dataset\\LFP_CBD_chronic_downsampled\\4\\Rat_OS_Ephys_cbd_chronic_Rat4_407699_SD7_HC_20210614\\2021-06-14_10-51-15_posttrial1\\2021-06-14_10-51-15_posttrial1-states_SM.mat. index 0 is out of bounds for axis 0 with size 0\n"
     ]
    },
    {
     "name": "stdout",
     "output_type": "stream",
     "text": [
      "{'header_info': {'rat': 4, 'study_day': 7, 'condition': 'HC', 'trial': 'posttrial1', 'treatment': 'CBD'}}\n",
      "(6752086,)\n",
      "(2700,)\n"
     ]
    },
    {
     "name": "stderr",
     "output_type": "stream",
     "text": [
      "ERROR:root:Error processing item: C:\\Users\\Abu Mohammed\\Dropbox\\CBD_dataset_Personal_Copy\\Dataset\\LFP_CBD_chronic_downsampled\\4\\Rat_OS_Ephys_cbd_chronic_Rat4_407699_SD7_HC_20210614\\2021-06-14_11-41-31_posttrial2\\2021-06-14_11-41-31_posttrial2-states_SM.mat. index 0 is out of bounds for axis 0 with size 0\n"
     ]
    },
    {
     "name": "stdout",
     "output_type": "stream",
     "text": [
      "{'header_info': {'rat': 4, 'study_day': 7, 'condition': 'HC', 'trial': 'posttrial2', 'treatment': 'CBD'}}\n",
      "(6753110,)\n",
      "(2700,)\n"
     ]
    },
    {
     "name": "stderr",
     "output_type": "stream",
     "text": [
      "ERROR:root:Error processing item: C:\\Users\\Abu Mohammed\\Dropbox\\CBD_dataset_Personal_Copy\\Dataset\\LFP_CBD_chronic_downsampled\\4\\Rat_OS_Ephys_cbd_chronic_Rat4_407699_SD7_HC_20210614\\2021-06-14_12-31-57_posttrial3\\2021-06-14_12-31-57_posttrial3-states_SM.mat. index 0 is out of bounds for axis 0 with size 0\n"
     ]
    },
    {
     "name": "stdout",
     "output_type": "stream",
     "text": [
      "{'header_info': {'rat': 4, 'study_day': 7, 'condition': 'HC', 'trial': 'posttrial3', 'treatment': 'CBD'}}\n",
      "(6753110,)\n",
      "(2700,)\n",
      "Filename already exists\n",
      "Filename already exists\n"
     ]
    },
    {
     "name": "stderr",
     "output_type": "stream",
     "text": [
      "ERROR:root:Error processing item: C:\\Users\\Abu Mohammed\\Dropbox\\CBD_dataset_Personal_Copy\\Dataset\\LFP_CBD_chronic_downsampled\\4\\Rat_OS_Ephys_cbd_chronic_Rat4_407699_SD8_HC_20210616\\2021-06-16_09-36-01_presleep\\2021-06-16_09-36-01_presleep-states_SM.mat. index 0 is out of bounds for axis 0 with size 0\n"
     ]
    },
    {
     "name": "stdout",
     "output_type": "stream",
     "text": [
      "{'header_info': {'rat': 4, 'study_day': 8, 'condition': 'HC', 'trial': 'presleep', 'treatment': 'CBD'}}\n",
      "(6751915,)\n",
      "(2700,)\n"
     ]
    },
    {
     "name": "stderr",
     "output_type": "stream",
     "text": [
      "ERROR:root:Error processing item: C:\\Users\\Abu Mohammed\\Dropbox\\CBD_dataset_Personal_Copy\\Dataset\\LFP_CBD_chronic_downsampled\\4\\Rat_OS_Ephys_cbd_chronic_Rat4_407699_SD8_HC_20210616\\2021-06-16_10-35-22_posttrial1\\2021-06-16_10-35-22_posttrial1-states_SM.mat. index 0 is out of bounds for axis 0 with size 0\n"
     ]
    },
    {
     "name": "stdout",
     "output_type": "stream",
     "text": [
      "{'header_info': {'rat': 4, 'study_day': 8, 'condition': 'HC', 'trial': 'posttrial1', 'treatment': 'CBD'}}\n",
      "(6752939,)\n",
      "(2700,)\n"
     ]
    },
    {
     "name": "stderr",
     "output_type": "stream",
     "text": [
      "ERROR:root:Error processing item: C:\\Users\\Abu Mohammed\\Dropbox\\CBD_dataset_Personal_Copy\\Dataset\\LFP_CBD_chronic_downsampled\\4\\Rat_OS_Ephys_cbd_chronic_Rat4_407699_SD8_HC_20210616\\2021-06-16_11-25-41_posttrial2\\2021-06-16_11-25-41_posttrial2-states_SM.mat. index 0 is out of bounds for axis 0 with size 0\n"
     ]
    },
    {
     "name": "stdout",
     "output_type": "stream",
     "text": [
      "{'header_info': {'rat': 4, 'study_day': 8, 'condition': 'HC', 'trial': 'posttrial2', 'treatment': 'CBD'}}\n",
      "(6752854,)\n",
      "(2700,)\n"
     ]
    },
    {
     "name": "stderr",
     "output_type": "stream",
     "text": [
      "ERROR:root:Error processing item: C:\\Users\\Abu Mohammed\\Dropbox\\CBD_dataset_Personal_Copy\\Dataset\\LFP_CBD_chronic_downsampled\\4\\Rat_OS_Ephys_cbd_chronic_Rat4_407699_SD8_HC_20210616\\2021-06-16_12-16-09_posttrial3\\2021-06-16_12-16-09_posttrial3-states_SM.mat. index 0 is out of bounds for axis 0 with size 0\n"
     ]
    },
    {
     "name": "stdout",
     "output_type": "stream",
     "text": [
      "{'header_info': {'rat': 4, 'study_day': 8, 'condition': 'HC', 'trial': 'posttrial3', 'treatment': 'CBD'}}\n",
      "(6752768,)\n",
      "(2700,)\n",
      "Filename already exists\n",
      "Filename already exists\n"
     ]
    },
    {
     "name": "stderr",
     "output_type": "stream",
     "text": [
      "ERROR:root:Error processing item: C:\\Users\\Abu Mohammed\\Dropbox\\CBD_dataset_Personal_Copy\\Dataset\\LFP_CBD_chronic_downsampled\\4\\Rat_OS_Ephys_cbd_chronic_Rat4_407699_SD9_HC_20210618\\2021-06-18_09-36-25_presleep\\2021-06-18_09-36-25_presleep-states_SM.mat. index 0 is out of bounds for axis 0 with size 0\n"
     ]
    },
    {
     "name": "stdout",
     "output_type": "stream",
     "text": [
      "{'header_info': {'rat': 4, 'study_day': 9, 'condition': 'HC', 'trial': 'presleep', 'treatment': 'VEH'}}\n",
      "(6752854,)\n",
      "(2700,)\n"
     ]
    },
    {
     "name": "stderr",
     "output_type": "stream",
     "text": [
      "ERROR:root:Error processing item: C:\\Users\\Abu Mohammed\\Dropbox\\CBD_dataset_Personal_Copy\\Dataset\\LFP_CBD_chronic_downsampled\\4\\Rat_OS_Ephys_cbd_chronic_Rat4_407699_SD9_HC_20210618\\2021-06-18_10-38-38_posttrial1\\2021-06-18_10-38-38_posttrial1-states_SM.mat. index 0 is out of bounds for axis 0 with size 0\n"
     ]
    },
    {
     "name": "stdout",
     "output_type": "stream",
     "text": [
      "{'header_info': {'rat': 4, 'study_day': 9, 'condition': 'HC', 'trial': 'posttrial1', 'treatment': 'VEH'}}\n",
      "(6753878,)\n",
      "(2701,)\n"
     ]
    },
    {
     "name": "stderr",
     "output_type": "stream",
     "text": [
      "ERROR:root:Error processing item: C:\\Users\\Abu Mohammed\\Dropbox\\CBD_dataset_Personal_Copy\\Dataset\\LFP_CBD_chronic_downsampled\\4\\Rat_OS_Ephys_cbd_chronic_Rat4_407699_SD9_HC_20210618\\2021-06-18_11-28-59_posttrial2\\2021-06-18_11-28-59_posttrial2-states_SM.mat. index 0 is out of bounds for axis 0 with size 0\n"
     ]
    },
    {
     "name": "stdout",
     "output_type": "stream",
     "text": [
      "{'header_info': {'rat': 4, 'study_day': 9, 'condition': 'HC', 'trial': 'posttrial2', 'treatment': 'VEH'}}\n",
      "(6769920,)\n",
      "(2707,)\n",
      "Filename already exists\n",
      "Filename already exists\n",
      "{'header_info': {'rat': 4, 'study_day': 9, 'condition': 'HC', 'trial': 'posttrial5', 'treatment': 'VEH'}}\n",
      "(27002027,)\n",
      "(10800,)\n",
      "(9, 2)\n",
      "Finding Intrinsic Mode Functions\n",
      "Extracting Instantaneous Phase, Frequencies and Amplitudes of each IMF\n",
      "Theta frequencies are valid\n",
      "Processing REM 1 \n",
      "Generating time-frequency matrix\n",
      "Number of zero crossings, (1319,)\n",
      "Number of cycles, (658, 5)\n",
      "Finding Intrinsic Mode Functions\n",
      "Extracting Instantaneous Phase, Frequencies and Amplitudes of each IMF\n",
      "Theta frequencies are valid\n",
      "Processing REM 2 \n",
      "Generating time-frequency matrix\n",
      "Number of zero crossings, (1882,)\n",
      "Number of cycles, (937, 5)\n",
      "Finding Intrinsic Mode Functions\n",
      "Extracting Instantaneous Phase, Frequencies and Amplitudes of each IMF\n",
      "Theta frequencies are valid\n",
      "Processing REM 3 \n",
      "Generating time-frequency matrix\n",
      "Number of zero crossings, (580,)\n",
      "Number of cycles, (288, 5)\n",
      "Finding Intrinsic Mode Functions\n",
      "Extracting Instantaneous Phase, Frequencies and Amplitudes of each IMF\n",
      "Theta frequencies are valid\n",
      "Processing REM 4 \n",
      "Generating time-frequency matrix\n",
      "Number of zero crossings, (2955,)\n",
      "Number of cycles, (1476, 5)\n",
      "Finding Intrinsic Mode Functions\n",
      "Extracting Instantaneous Phase, Frequencies and Amplitudes of each IMF\n",
      "Theta frequencies are valid\n",
      "Processing REM 5 \n",
      "Generating time-frequency matrix\n",
      "Number of zero crossings, (253,)\n",
      "Number of cycles, (125, 5)\n",
      "Finding Intrinsic Mode Functions\n",
      "Extracting Instantaneous Phase, Frequencies and Amplitudes of each IMF\n",
      "Theta frequencies are valid\n",
      "Processing REM 6 \n",
      "Generating time-frequency matrix\n",
      "Number of zero crossings, (1565,)\n",
      "Number of cycles, (779, 5)\n",
      "Finding Intrinsic Mode Functions\n",
      "Extracting Instantaneous Phase, Frequencies and Amplitudes of each IMF\n",
      "Theta frequencies are valid\n",
      "Processing REM 7 \n",
      "Generating time-frequency matrix\n",
      "Number of zero crossings, (918,)\n",
      "Number of cycles, (457, 5)\n",
      "Finding Intrinsic Mode Functions\n",
      "Extracting Instantaneous Phase, Frequencies and Amplitudes of each IMF\n",
      "Theta frequencies are valid\n",
      "Processing REM 8 \n",
      "Generating time-frequency matrix\n",
      "Number of zero crossings, (1860,)\n",
      "Number of cycles, (928, 5)\n",
      "Finding Intrinsic Mode Functions\n",
      "Extracting Instantaneous Phase, Frequencies and Amplitudes of each IMF\n",
      "Theta frequencies are valid\n",
      "Processing REM 9 \n",
      "Generating time-frequency matrix\n",
      "Number of zero crossings, (629,)\n",
      "Number of cycles, (313, 5)\n",
      "/header_info\n",
      "/REM 1\n",
      "/REM 2\n",
      "/REM 3\n",
      "/REM 4\n",
      "/REM 5\n",
      "/REM 6\n",
      "/REM 7\n",
      "/REM 8\n",
      "/REM 9\n"
     ]
    },
    {
     "name": "stderr",
     "output_type": "stream",
     "text": [
      "ERROR:root:Error processing item: C:\\Users\\Abu Mohammed\\Dropbox\\CBD_dataset_Personal_Copy\\Dataset\\LFP_CBD_chronic_downsampled\\5\\Rat_OS_Ephys_cbd_chronic_Rat5_411358_SD14_OR_20210729\\2021-07-29_10-16-10_presleep\\2021-07-29_10-16-10_presleep-states_ES.mat. index 0 is out of bounds for axis 0 with size 0\n"
     ]
    },
    {
     "name": "stdout",
     "output_type": "stream",
     "text": [
      "{'header_info': {'rat': 5, 'study_day': 14, 'condition': 'OR', 'trial': 'presleep', 'treatment': 'VEH'}}\n",
      "(6751830,)\n",
      "(2700,)\n"
     ]
    },
    {
     "name": "stderr",
     "output_type": "stream",
     "text": [
      "ERROR:root:Error processing item: C:\\Users\\Abu Mohammed\\Dropbox\\CBD_dataset_Personal_Copy\\Dataset\\LFP_CBD_chronic_downsampled\\5\\Rat_OS_Ephys_cbd_chronic_Rat5_411358_SD14_OR_20210729\\2021-07-29_12-35-48_posttrial1\\2021-07-29_12-35-48_posttrial1-states_ES.mat. index 0 is out of bounds for axis 0 with size 0\n"
     ]
    },
    {
     "name": "stdout",
     "output_type": "stream",
     "text": [
      "{'header_info': {'rat': 5, 'study_day': 14, 'condition': 'OR', 'trial': 'posttrial1', 'treatment': 'VEH'}}\n",
      "(6751915,)\n",
      "(2700,)\n",
      "Filename already exists\n",
      "Filename already exists\n",
      "Filename already exists\n",
      "{'header_info': {'rat': 5, 'study_day': 14, 'condition': 'OR', 'trial': 'posttrial5', 'treatment': 'VEH'}}\n",
      "(27021142,)\n",
      "(10807,)\n",
      "(1, 2)\n",
      "Finding Intrinsic Mode Functions\n",
      "Extracting Instantaneous Phase, Frequencies and Amplitudes of each IMF\n",
      "Theta frequencies are valid\n",
      "Processing REM 1 \n",
      "Generating time-frequency matrix\n",
      "Number of zero crossings, (1418,)\n",
      "Number of cycles, (705, 5)\n",
      "/header_info\n",
      "/REM 1\n"
     ]
    },
    {
     "name": "stderr",
     "output_type": "stream",
     "text": [
      "ERROR:root:Error processing item: C:\\Users\\Abu Mohammed\\Dropbox\\CBD_dataset_Personal_Copy\\Dataset\\LFP_CBD_chronic_downsampled\\5\\Rat_OS_Ephys_cbd_chronic_Rat5_411358_SD15_HC_20210801\\2021-08-01_11-09-48_presleep\\2021-08-01_11-09-48_presleep-states_ES.mat. index 0 is out of bounds for axis 0 with size 0\n"
     ]
    },
    {
     "name": "stdout",
     "output_type": "stream",
     "text": [
      "{'header_info': {'rat': 5, 'study_day': 15, 'condition': 'HC', 'trial': 'presleep', 'treatment': 'VEH'}}\n",
      "(6752342,)\n",
      "(2700,)\n"
     ]
    },
    {
     "name": "stderr",
     "output_type": "stream",
     "text": [
      "ERROR:root:Error processing item: C:\\Users\\Abu Mohammed\\Dropbox\\CBD_dataset_Personal_Copy\\Dataset\\LFP_CBD_chronic_downsampled\\5\\Rat_OS_Ephys_cbd_chronic_Rat5_411358_SD15_HC_20210801\\2021-08-01_12-05-33_posttrial1\\2021-08-01_12-05-33_posttrial1-states_ES.mat. index 0 is out of bounds for axis 0 with size 0\n"
     ]
    },
    {
     "name": "stdout",
     "output_type": "stream",
     "text": [
      "{'header_info': {'rat': 5, 'study_day': 15, 'condition': 'HC', 'trial': 'posttrial1', 'treatment': 'VEH'}}\n",
      "(6815147,)\n",
      "(2725,)\n"
     ]
    },
    {
     "name": "stderr",
     "output_type": "stream",
     "text": [
      "ERROR:root:Error processing item: C:\\Users\\Abu Mohammed\\Dropbox\\CBD_dataset_Personal_Copy\\Dataset\\LFP_CBD_chronic_downsampled\\5\\Rat_OS_Ephys_cbd_chronic_Rat5_411358_SD15_HC_20210801\\2021-08-01_12-56-21_posttrial2\\2021-08-01_12-56-21_posttrial2-states_ES.mat. index 0 is out of bounds for axis 0 with size 0\n"
     ]
    },
    {
     "name": "stdout",
     "output_type": "stream",
     "text": [
      "{'header_info': {'rat': 5, 'study_day': 15, 'condition': 'HC', 'trial': 'posttrial2', 'treatment': 'VEH'}}\n",
      "(6757888,)\n",
      "(2702,)\n"
     ]
    },
    {
     "name": "stderr",
     "output_type": "stream",
     "text": [
      "ERROR:root:Error processing item: C:\\Users\\Abu Mohammed\\Dropbox\\CBD_dataset_Personal_Copy\\Dataset\\LFP_CBD_chronic_downsampled\\5\\Rat_OS_Ephys_cbd_chronic_Rat5_411358_SD15_HC_20210801\\2021-08-01_13-57-48_posttrial3\\2021-08-01_13-57-48_posttrial3-states_ES.mat. index 0 is out of bounds for axis 0 with size 0\n"
     ]
    },
    {
     "name": "stdout",
     "output_type": "stream",
     "text": [
      "{'header_info': {'rat': 5, 'study_day': 15, 'condition': 'HC', 'trial': 'posttrial3', 'treatment': 'VEH'}}\n",
      "(6753280,)\n",
      "(2700,)\n"
     ]
    },
    {
     "name": "stderr",
     "output_type": "stream",
     "text": [
      "ERROR:root:Error processing item: C:\\Users\\Abu Mohammed\\Dropbox\\CBD_dataset_Personal_Copy\\Dataset\\LFP_CBD_chronic_downsampled\\5\\Rat_OS_Ephys_cbd_chronic_Rat5_411358_SD15_HC_20210801\\2021-08-01_15-00-02_posttrial4\\2021-08-01_15-00-02_posttrial4-states_ES.mat. index 0 is out of bounds for axis 0 with size 0\n"
     ]
    },
    {
     "name": "stdout",
     "output_type": "stream",
     "text": [
      "{'header_info': {'rat': 5, 'study_day': 15, 'condition': 'HC', 'trial': 'posttrial4', 'treatment': 'VEH'}}\n",
      "(6890070,)\n",
      "(2755,)\n"
     ]
    },
    {
     "name": "stderr",
     "output_type": "stream",
     "text": [
      "ERROR:root:Error processing item: C:\\Users\\Abu Mohammed\\Dropbox\\CBD_dataset_Personal_Copy\\Dataset\\LFP_CBD_chronic_downsampled\\5\\Rat_OS_Ephys_cbd_chronic_Rat5_411358_SD15_HC_20210801\\2021-08-01_15-51-31_posttrial5\\2021-08-01_15-51-31_posttrial5-states_ES.mat. index 0 is out of bounds for axis 0 with size 0\n"
     ]
    },
    {
     "name": "stdout",
     "output_type": "stream",
     "text": [
      "{'header_info': {'rat': 5, 'study_day': 15, 'condition': 'HC', 'trial': 'posttrial5', 'treatment': 'VEH'}}\n",
      "(3415040,)\n",
      "(1365,)\n"
     ]
    },
    {
     "name": "stderr",
     "output_type": "stream",
     "text": [
      "ERROR:root:Error processing item: C:\\Users\\Abu Mohammed\\Dropbox\\CBD_dataset_Personal_Copy\\Dataset\\LFP_CBD_chronic_downsampled\\5\\Rat_OS_Ephys_cbd_chronic_Rat5_411358_SD16_OR_20210802\\2021-08-02_10-01-29_presleep\\2021-08-02_10-01-29_presleep-states_ES.mat. index 0 is out of bounds for axis 0 with size 0\n"
     ]
    },
    {
     "name": "stdout",
     "output_type": "stream",
     "text": [
      "{'header_info': {'rat': 5, 'study_day': 16, 'condition': 'OR', 'trial': 'presleep', 'treatment': 'CBD'}}\n",
      "(6751318,)\n",
      "(2700,)\n"
     ]
    },
    {
     "name": "stderr",
     "output_type": "stream",
     "text": [
      "ERROR:root:Error processing item: C:\\Users\\Abu Mohammed\\Dropbox\\CBD_dataset_Personal_Copy\\Dataset\\LFP_CBD_chronic_downsampled\\5\\Rat_OS_Ephys_cbd_chronic_Rat5_411358_SD16_OR_20210802\\2021-08-02_11-14-06_posttrial1\\2021-08-02_11-14-06_posttrial1-states_ES.mat. index 0 is out of bounds for axis 0 with size 0\n"
     ]
    },
    {
     "name": "stdout",
     "output_type": "stream",
     "text": [
      "{'header_info': {'rat': 5, 'study_day': 16, 'condition': 'OR', 'trial': 'posttrial1', 'treatment': 'CBD'}}\n",
      "(6753963,)\n",
      "(2701,)\n"
     ]
    },
    {
     "name": "stderr",
     "output_type": "stream",
     "text": [
      "ERROR:root:Error processing item: C:\\Users\\Abu Mohammed\\Dropbox\\CBD_dataset_Personal_Copy\\Dataset\\LFP_CBD_chronic_downsampled\\5\\Rat_OS_Ephys_cbd_chronic_Rat5_411358_SD16_OR_20210802\\2021-08-02_12-04-52_posttrial2\\2021-08-02_12-04-52_posttrial2-states_ES.mat. index 0 is out of bounds for axis 0 with size 0\n"
     ]
    },
    {
     "name": "stdout",
     "output_type": "stream",
     "text": [
      "{'header_info': {'rat': 5, 'study_day': 16, 'condition': 'OR', 'trial': 'posttrial2', 'treatment': 'CBD'}}\n",
      "(6750464,)\n",
      "(2699,)\n"
     ]
    },
    {
     "name": "stderr",
     "output_type": "stream",
     "text": [
      "ERROR:root:Error processing item: C:\\Users\\Abu Mohammed\\Dropbox\\CBD_dataset_Personal_Copy\\Dataset\\LFP_CBD_chronic_downsampled\\5\\Rat_OS_Ephys_cbd_chronic_Rat5_411358_SD16_OR_20210802\\2021-08-02_13-14-15_posttrial3\\2021-08-02_13-14-15_posttrial3-states_part2_ES.mat. index 0 is out of bounds for axis 0 with size 0\n"
     ]
    },
    {
     "name": "stdout",
     "output_type": "stream",
     "text": [
      "{'header_info': {'rat': 5, 'study_day': 16, 'condition': 'OR', 'trial': 'posttrial3', 'treatment': 'CBD'}}\n",
      "(1752406,)\n",
      "(700,)\n",
      "{'header_info': {'rat': 5, 'study_day': 16, 'condition': 'OR', 'trial': 'posttrial4', 'treatment': 'CBD'}}\n",
      "(6750379,)\n",
      "(2699,)\n",
      "(1, 2)\n",
      "Finding Intrinsic Mode Functions\n",
      "Extracting Instantaneous Phase, Frequencies and Amplitudes of each IMF\n",
      "Theta frequencies are valid\n",
      "Processing REM 1 \n",
      "Generating time-frequency matrix\n",
      "Number of zero crossings, (1920,)\n",
      "Number of cycles, (958, 5)\n",
      "/header_info\n",
      "/REM 1\n",
      "{'header_info': {'rat': 5, 'study_day': 16, 'condition': 'OR', 'trial': 'posttrial5', 'treatment': 'CBD'}}\n",
      "(27347798,)\n",
      "(10938,)\n",
      "(8, 2)\n",
      "Finding Intrinsic Mode Functions\n",
      "Extracting Instantaneous Phase, Frequencies and Amplitudes of each IMF\n",
      "Theta frequencies are valid\n",
      "Processing REM 1 \n",
      "Generating time-frequency matrix\n",
      "Number of zero crossings, (2180,)\n",
      "Number of cycles, (1088, 5)\n",
      "Finding Intrinsic Mode Functions\n",
      "Extracting Instantaneous Phase, Frequencies and Amplitudes of each IMF\n",
      "Theta frequencies are valid\n",
      "Processing REM 2 \n",
      "Generating time-frequency matrix\n",
      "Number of zero crossings, (2446,)\n",
      "Number of cycles, (1221, 5)\n",
      "Finding Intrinsic Mode Functions\n",
      "Extracting Instantaneous Phase, Frequencies and Amplitudes of each IMF\n",
      "Theta frequencies are valid\n",
      "Processing REM 3 \n",
      "Generating time-frequency matrix\n",
      "Number of zero crossings, (1722,)\n",
      "Number of cycles, (859, 5)\n",
      "Finding Intrinsic Mode Functions\n",
      "Extracting Instantaneous Phase, Frequencies and Amplitudes of each IMF\n",
      "Theta frequencies are valid\n",
      "Processing REM 4 \n",
      "Generating time-frequency matrix\n",
      "Number of zero crossings, (3145,)\n",
      "Number of cycles, (1568, 5)\n",
      "Finding Intrinsic Mode Functions\n",
      "Extracting Instantaneous Phase, Frequencies and Amplitudes of each IMF\n",
      "Theta frequencies are valid\n",
      "Processing REM 5 \n",
      "Generating time-frequency matrix\n",
      "Number of zero crossings, (1887,)\n",
      "Number of cycles, (942, 5)\n",
      "Finding Intrinsic Mode Functions\n",
      "Extracting Instantaneous Phase, Frequencies and Amplitudes of each IMF\n",
      "Theta frequencies are valid\n",
      "Processing REM 6 \n",
      "Generating time-frequency matrix\n",
      "Number of zero crossings, (1247,)\n",
      "Number of cycles, (622, 5)\n",
      "Finding Intrinsic Mode Functions\n",
      "Extracting Instantaneous Phase, Frequencies and Amplitudes of each IMF\n",
      "Theta frequencies are valid\n",
      "Processing REM 7 \n",
      "Generating time-frequency matrix\n",
      "Number of zero crossings, (1248,)\n",
      "Number of cycles, (622, 5)\n",
      "Finding Intrinsic Mode Functions\n",
      "Extracting Instantaneous Phase, Frequencies and Amplitudes of each IMF\n",
      "Theta frequencies are valid\n",
      "Processing REM 8 \n",
      "Generating time-frequency matrix\n",
      "Number of zero crossings, (1768,)\n",
      "Number of cycles, (882, 5)\n",
      "/header_info\n",
      "/REM 1\n",
      "/REM 2\n",
      "/REM 3\n",
      "/REM 4\n",
      "/REM 5\n",
      "/REM 6\n",
      "/REM 7\n",
      "/REM 8\n",
      "{'header_info': {'rat': 5, 'study_day': 17, 'condition': 'HC', 'trial': 'presleep', 'treatment': 'CBD'}}\n",
      "(6761814,)\n",
      "(2704,)\n"
     ]
    },
    {
     "name": "stderr",
     "output_type": "stream",
     "text": [
      "ERROR:root:Error processing item: C:\\Users\\Abu Mohammed\\Dropbox\\CBD_dataset_Personal_Copy\\Dataset\\LFP_CBD_chronic_downsampled\\5\\Rat_OS_Ephys_cbd_chronic_Rat5_411358_SD17_HC_20210804\\2021-08-04_09-38-13_presleep\\2021-08-04_09-38-13_presleep-states_ES.mat. index 0 is out of bounds for axis 0 with size 0\n",
      "ERROR:root:Error processing item: C:\\Users\\Abu Mohammed\\Dropbox\\CBD_dataset_Personal_Copy\\Dataset\\LFP_CBD_chronic_downsampled\\5\\Rat_OS_Ephys_cbd_chronic_Rat5_411358_SD17_HC_20210804\\2021-08-04_10-42-36_posttrial1\\2021-08-04_10-42-36_posttrial1-states_ES.mat. index 0 is out of bounds for axis 0 with size 0\n"
     ]
    },
    {
     "name": "stdout",
     "output_type": "stream",
     "text": [
      "{'header_info': {'rat': 5, 'study_day': 17, 'condition': 'HC', 'trial': 'posttrial1', 'treatment': 'CBD'}}\n",
      "(6750635,)\n",
      "(2699,)\n"
     ]
    },
    {
     "name": "stderr",
     "output_type": "stream",
     "text": [
      "ERROR:root:Error processing item: C:\\Users\\Abu Mohammed\\Dropbox\\CBD_dataset_Personal_Copy\\Dataset\\LFP_CBD_chronic_downsampled\\5\\Rat_OS_Ephys_cbd_chronic_Rat5_411358_SD17_HC_20210804\\2021-08-04_11-33-35_posttrial2\\2021-08-04_11-33-35_posttrial2-states_ES.mat. index 0 is out of bounds for axis 0 with size 0\n"
     ]
    },
    {
     "name": "stdout",
     "output_type": "stream",
     "text": [
      "{'header_info': {'rat': 5, 'study_day': 17, 'condition': 'HC', 'trial': 'posttrial2', 'treatment': 'CBD'}}\n",
      "(6762070,)\n",
      "(2704,)\n"
     ]
    },
    {
     "name": "stderr",
     "output_type": "stream",
     "text": [
      "ERROR:root:Error processing item: C:\\Users\\Abu Mohammed\\Dropbox\\CBD_dataset_Personal_Copy\\Dataset\\LFP_CBD_chronic_downsampled\\5\\Rat_OS_Ephys_cbd_chronic_Rat5_411358_SD17_HC_20210804\\2021-08-04_12-24-29_posttrial3\\2021-08-04_12-24-29_posttrial3-states_ES.mat. index 0 is out of bounds for axis 0 with size 0\n"
     ]
    },
    {
     "name": "stdout",
     "output_type": "stream",
     "text": [
      "{'header_info': {'rat': 5, 'study_day': 17, 'condition': 'HC', 'trial': 'posttrial3', 'treatment': 'CBD'}}\n",
      "(6755243,)\n",
      "(2701,)\n"
     ]
    },
    {
     "name": "stderr",
     "output_type": "stream",
     "text": [
      "ERROR:root:Error processing item: C:\\Users\\Abu Mohammed\\Dropbox\\CBD_dataset_Personal_Copy\\Dataset\\LFP_CBD_chronic_downsampled\\5\\Rat_OS_Ephys_cbd_chronic_Rat5_411358_SD17_HC_20210804\\2021-08-04_13-14-51_posttrial4\\2021-08-04_13-14-51_posttrial4-states_ES.mat. index 0 is out of bounds for axis 0 with size 0\n"
     ]
    },
    {
     "name": "stdout",
     "output_type": "stream",
     "text": [
      "{'header_info': {'rat': 5, 'study_day': 17, 'condition': 'HC', 'trial': 'posttrial4', 'treatment': 'CBD'}}\n",
      "(6757974,)\n",
      "(2702,)\n",
      "{'header_info': {'rat': 5, 'study_day': 17, 'condition': 'HC', 'trial': 'posttrial5', 'treatment': 'CBD'}}\n",
      "(27002624,)\n",
      "(10800,)\n",
      "(7, 2)\n",
      "Finding Intrinsic Mode Functions\n",
      "Extracting Instantaneous Phase, Frequencies and Amplitudes of each IMF\n",
      "No valid theta frequencies for REM 0\n",
      "Finding Intrinsic Mode Functions\n",
      "Extracting Instantaneous Phase, Frequencies and Amplitudes of each IMF\n",
      "No valid theta frequencies for REM 1\n",
      "Finding Intrinsic Mode Functions\n",
      "Extracting Instantaneous Phase, Frequencies and Amplitudes of each IMF\n",
      "Theta frequencies are valid\n",
      "Processing REM 1 \n",
      "Generating time-frequency matrix\n",
      "Number of zero crossings, (2112,)\n",
      "Number of cycles, (1054, 5)\n",
      "Finding Intrinsic Mode Functions\n",
      "Extracting Instantaneous Phase, Frequencies and Amplitudes of each IMF\n",
      "Theta frequencies are valid\n",
      "Processing REM 2 \n",
      "Generating time-frequency matrix\n",
      "Number of zero crossings, (679,)\n",
      "Number of cycles, (338, 5)\n",
      "Finding Intrinsic Mode Functions\n",
      "Extracting Instantaneous Phase, Frequencies and Amplitudes of each IMF\n",
      "Theta frequencies are valid\n",
      "Processing REM 3 \n",
      "Generating time-frequency matrix\n",
      "Number of zero crossings, (675,)\n",
      "Number of cycles, (336, 5)\n",
      "Finding Intrinsic Mode Functions\n",
      "Extracting Instantaneous Phase, Frequencies and Amplitudes of each IMF\n",
      "Theta frequencies are valid\n",
      "Processing REM 4 \n",
      "Generating time-frequency matrix\n",
      "Number of zero crossings, (1617,)\n",
      "Number of cycles, (804, 5)\n",
      "Finding Intrinsic Mode Functions\n",
      "Extracting Instantaneous Phase, Frequencies and Amplitudes of each IMF\n",
      "Theta frequencies are valid\n",
      "Processing REM 5 \n",
      "Generating time-frequency matrix\n",
      "Number of zero crossings, (1615,)\n",
      "Number of cycles, (803, 5)\n",
      "/header_info\n",
      "/REM 1\n",
      "/REM 2\n",
      "/REM 3\n",
      "/REM 4\n",
      "/REM 5\n"
     ]
    },
    {
     "name": "stderr",
     "output_type": "stream",
     "text": [
      "ERROR:root:Error processing item: C:\\Users\\Abu Mohammed\\Dropbox\\CBD_dataset_Personal_Copy\\Dataset\\LFP_CBD_chronic_downsampled\\5\\Rat_OS_Ephys_cbd_chronic_Rat5_411358_SD1_OR_6_07_2021\\2021-07-06_11-32-14_presleep\\2021-07-06_11-32-14_presleep-states_ES.mat. index 0 is out of bounds for axis 0 with size 0\n"
     ]
    },
    {
     "name": "stdout",
     "output_type": "stream",
     "text": [
      "{'header_info': {'rat': 5, 'study_day': 1, 'condition': 'OR', 'trial': 'presleep', 'treatment': 'CBD'}}\n",
      "(6752342,)\n",
      "(2700,)\n"
     ]
    },
    {
     "name": "stderr",
     "output_type": "stream",
     "text": [
      "ERROR:root:Error processing item: C:\\Users\\Abu Mohammed\\Dropbox\\CBD_dataset_Personal_Copy\\Dataset\\LFP_CBD_chronic_downsampled\\5\\Rat_OS_Ephys_cbd_chronic_Rat5_411358_SD1_OR_6_07_2021\\2021-07-06_12-25-59_posttrial1\\2021-07-06_12-25-59_posttrial1-states_ES.mat. index 0 is out of bounds for axis 0 with size 0\n"
     ]
    },
    {
     "name": "stdout",
     "output_type": "stream",
     "text": [
      "{'header_info': {'rat': 5, 'study_day': 1, 'condition': 'OR', 'trial': 'posttrial1', 'treatment': 'CBD'}}\n",
      "(6755755,)\n",
      "(2701,)\n"
     ]
    },
    {
     "name": "stderr",
     "output_type": "stream",
     "text": [
      "ERROR:root:Error processing item: C:\\Users\\Abu Mohammed\\Dropbox\\CBD_dataset_Personal_Copy\\Dataset\\LFP_CBD_chronic_downsampled\\5\\Rat_OS_Ephys_cbd_chronic_Rat5_411358_SD1_OR_6_07_2021\\2021-07-06_13-16-37_posttrial2\\2021-07-06_13-16-37_posttrial2-states_ES.mat. index 0 is out of bounds for axis 0 with size 0\n"
     ]
    },
    {
     "name": "stdout",
     "output_type": "stream",
     "text": [
      "{'header_info': {'rat': 5, 'study_day': 1, 'condition': 'OR', 'trial': 'posttrial2', 'treatment': 'CBD'}}\n",
      "(6751574,)\n",
      "(2700,)\n",
      "{'header_info': {'rat': 5, 'study_day': 1, 'condition': 'OR', 'trial': 'posttrial3', 'treatment': 'CBD'}}\n",
      "(6750891,)\n",
      "(2699,)\n",
      "(2, 2)\n",
      "Finding Intrinsic Mode Functions\n",
      "Extracting Instantaneous Phase, Frequencies and Amplitudes of each IMF\n",
      "Theta frequencies are valid\n",
      "Processing REM 1 \n",
      "Generating time-frequency matrix\n",
      "Number of zero crossings, (202,)\n",
      "Number of cycles, (99, 5)\n",
      "Finding Intrinsic Mode Functions\n",
      "Extracting Instantaneous Phase, Frequencies and Amplitudes of each IMF\n",
      "Theta frequencies are valid\n",
      "Processing REM 2 \n",
      "Generating time-frequency matrix\n",
      "Number of zero crossings, (1007,)\n",
      "Number of cycles, (500, 5)\n",
      "/header_info\n",
      "/REM 1\n",
      "/REM 2\n",
      "{'header_info': {'rat': 5, 'study_day': 1, 'condition': 'OR', 'trial': 'posttrial4', 'treatment': 'CBD'}}\n",
      "(6750976,)\n",
      "(2699,)\n",
      "(4, 2)\n",
      "Finding Intrinsic Mode Functions\n",
      "Extracting Instantaneous Phase, Frequencies and Amplitudes of each IMF\n",
      "Theta frequencies are valid\n",
      "Processing REM 1 \n",
      "Generating time-frequency matrix\n",
      "Number of zero crossings, (2192,)\n",
      "Number of cycles, (1091, 5)\n",
      "Finding Intrinsic Mode Functions\n",
      "Extracting Instantaneous Phase, Frequencies and Amplitudes of each IMF\n",
      "Theta frequencies are valid\n",
      "Processing REM 2 \n",
      "Generating time-frequency matrix\n",
      "Number of zero crossings, (213,)\n",
      "Number of cycles, (105, 5)\n",
      "Finding Intrinsic Mode Functions\n",
      "Extracting Instantaneous Phase, Frequencies and Amplitudes of each IMF\n",
      "Theta frequencies are valid\n",
      "Processing REM 3 \n",
      "Generating time-frequency matrix\n",
      "Number of zero crossings, (766,)\n",
      "Number of cycles, (379, 5)\n",
      "Finding Intrinsic Mode Functions\n",
      "Extracting Instantaneous Phase, Frequencies and Amplitudes of each IMF\n",
      "Theta frequencies are valid\n",
      "Processing REM 4 \n",
      "Generating time-frequency matrix\n",
      "Number of zero crossings, (1237,)\n",
      "Number of cycles, (617, 5)\n",
      "/header_info\n",
      "/REM 1\n",
      "/REM 2\n",
      "/REM 3\n",
      "/REM 4\n",
      "{'header_info': {'rat': 5, 'study_day': 1, 'condition': 'OR', 'trial': 'posttrial5', 'treatment': 'CBD'}}\n",
      "(27004246,)\n",
      "(10801,)\n",
      "(5, 2)\n",
      "Finding Intrinsic Mode Functions\n",
      "Extracting Instantaneous Phase, Frequencies and Amplitudes of each IMF\n",
      "Theta frequencies are valid\n",
      "Processing REM 1 \n",
      "Generating time-frequency matrix\n",
      "Number of zero crossings, (2209,)\n",
      "Number of cycles, (1100, 5)\n",
      "Finding Intrinsic Mode Functions\n",
      "Extracting Instantaneous Phase, Frequencies and Amplitudes of each IMF\n",
      "Theta frequencies are valid\n",
      "Processing REM 2 \n",
      "Generating time-frequency matrix\n",
      "Number of zero crossings, (418,)\n",
      "Number of cycles, (207, 5)\n",
      "Finding Intrinsic Mode Functions\n",
      "Extracting Instantaneous Phase, Frequencies and Amplitudes of each IMF\n",
      "Theta frequencies are valid\n",
      "Processing REM 3 \n",
      "Generating time-frequency matrix\n",
      "Number of zero crossings, (1088,)\n",
      "Number of cycles, (539, 5)\n",
      "Finding Intrinsic Mode Functions\n",
      "Extracting Instantaneous Phase, Frequencies and Amplitudes of each IMF\n",
      "Theta frequencies are valid\n",
      "Processing REM 4 \n",
      "Generating time-frequency matrix\n",
      "Number of zero crossings, (290,)\n",
      "Number of cycles, (143, 5)\n",
      "Finding Intrinsic Mode Functions\n",
      "Extracting Instantaneous Phase, Frequencies and Amplitudes of each IMF\n",
      "Theta frequencies are valid\n",
      "Processing REM 5 \n",
      "Generating time-frequency matrix\n",
      "Number of zero crossings, (2588,)\n",
      "Number of cycles, (1292, 5)\n",
      "/header_info\n",
      "/REM 1\n",
      "/REM 2\n",
      "/REM 3\n",
      "/REM 4\n",
      "/REM 5\n"
     ]
    },
    {
     "name": "stderr",
     "output_type": "stream",
     "text": [
      "ERROR:root:Error processing item: C:\\Users\\Abu Mohammed\\Dropbox\\CBD_dataset_Personal_Copy\\Dataset\\LFP_CBD_chronic_downsampled\\5\\Rat_OS_Ephys_cbd_chronic_Rat5_411358_SD2_OR_9_07_2021\\2021-07-09_11-50-27_presleep\\2021-07-09_11-50-27_presleep-states_ES.mat. index 0 is out of bounds for axis 0 with size 0\n"
     ]
    },
    {
     "name": "stdout",
     "output_type": "stream",
     "text": [
      "{'header_info': {'rat': 5, 'study_day': 2, 'condition': 'OR', 'trial': 'presleep', 'treatment': 'VEH'}}\n",
      "(6751830,)\n",
      "(2700,)\n",
      "{'header_info': {'rat': 5, 'study_day': 2, 'condition': 'OR', 'trial': 'posttrial1', 'treatment': 'VEH'}}\n",
      "(6754816,)\n",
      "(2701,)\n",
      "(1, 2)\n",
      "Finding Intrinsic Mode Functions\n",
      "Extracting Instantaneous Phase, Frequencies and Amplitudes of each IMF\n",
      "Theta frequencies are valid\n",
      "Processing REM 1 \n",
      "Generating time-frequency matrix\n",
      "Number of zero crossings, (1582,)\n",
      "Number of cycles, (786, 5)\n",
      "/header_info\n",
      "/REM 1\n",
      "{'header_info': {'rat': 5, 'study_day': 2, 'condition': 'OR', 'trial': 'posttrial2', 'treatment': 'VEH'}}\n",
      "(6751318,)\n",
      "(2700,)\n",
      "(2, 2)\n",
      "Finding Intrinsic Mode Functions\n",
      "Extracting Instantaneous Phase, Frequencies and Amplitudes of each IMF\n",
      "Theta frequencies are valid\n",
      "Processing REM 1 \n",
      "Generating time-frequency matrix\n",
      "Number of zero crossings, (1816,)\n",
      "Number of cycles, (904, 5)\n",
      "Finding Intrinsic Mode Functions\n",
      "Extracting Instantaneous Phase, Frequencies and Amplitudes of each IMF\n",
      "Theta frequencies are valid\n",
      "Processing REM 2 \n",
      "Generating time-frequency matrix\n",
      "Number of zero crossings, (470,)\n",
      "Number of cycles, (233, 5)\n",
      "/header_info\n",
      "/REM 1\n",
      "/REM 2\n",
      "{'header_info': {'rat': 5, 'study_day': 2, 'condition': 'OR', 'trial': 'posttrial3', 'treatment': 'VEH'}}\n",
      "(6753707,)\n",
      "(2700,)\n",
      "(3, 2)\n",
      "Finding Intrinsic Mode Functions\n",
      "Extracting Instantaneous Phase, Frequencies and Amplitudes of each IMF\n",
      "Theta frequencies are valid\n",
      "Processing REM 1 \n",
      "Generating time-frequency matrix\n",
      "Number of zero crossings, (816,)\n",
      "Number of cycles, (406, 5)\n",
      "Finding Intrinsic Mode Functions\n",
      "Extracting Instantaneous Phase, Frequencies and Amplitudes of each IMF\n",
      "Theta frequencies are valid\n",
      "Processing REM 2 \n",
      "Generating time-frequency matrix\n",
      "Number of zero crossings, (2250,)\n",
      "Number of cycles, (1119, 5)\n",
      "Finding Intrinsic Mode Functions\n",
      "Extracting Instantaneous Phase, Frequencies and Amplitudes of each IMF\n",
      "No valid theta frequencies for REM 2\n",
      "/header_info\n",
      "/REM 1\n",
      "/REM 2\n",
      "{'header_info': {'rat': 5, 'study_day': 2, 'condition': 'OR', 'trial': 'posttrial4', 'treatment': 'VEH'}}\n",
      "(6751915,)\n",
      "(2700,)\n",
      "(2, 2)\n",
      "Finding Intrinsic Mode Functions\n",
      "Extracting Instantaneous Phase, Frequencies and Amplitudes of each IMF\n",
      "Theta frequencies are valid\n",
      "Processing REM 1 \n",
      "Generating time-frequency matrix\n",
      "Number of zero crossings, (745,)\n",
      "Number of cycles, (371, 5)\n",
      "Finding Intrinsic Mode Functions\n",
      "Extracting Instantaneous Phase, Frequencies and Amplitudes of each IMF\n",
      "Theta frequencies are valid\n",
      "Processing REM 2 \n",
      "Generating time-frequency matrix\n",
      "Number of zero crossings, (1539,)\n",
      "Number of cycles, (768, 5)\n",
      "/header_info\n",
      "/REM 1\n",
      "/REM 2\n",
      "{'header_info': {'rat': 5, 'study_day': 2, 'condition': 'OR', 'trial': 'posttrial5', 'treatment': 'VEH'}}\n",
      "(23706027,)\n",
      "(9481,)\n",
      "(3, 2)\n",
      "Finding Intrinsic Mode Functions\n",
      "Extracting Instantaneous Phase, Frequencies and Amplitudes of each IMF\n",
      "Theta frequencies are valid\n",
      "Processing REM 1 \n",
      "Generating time-frequency matrix\n",
      "Number of zero crossings, (4153,)\n",
      "Number of cycles, (2072, 5)\n",
      "Finding Intrinsic Mode Functions\n",
      "Extracting Instantaneous Phase, Frequencies and Amplitudes of each IMF\n",
      "Theta frequencies are valid\n",
      "Processing REM 2 \n",
      "Generating time-frequency matrix\n",
      "Number of zero crossings, (1170,)\n",
      "Number of cycles, (583, 5)\n",
      "Finding Intrinsic Mode Functions\n",
      "Extracting Instantaneous Phase, Frequencies and Amplitudes of each IMF\n",
      "Theta frequencies are valid\n",
      "Processing REM 3 \n",
      "Generating time-frequency matrix\n",
      "Number of zero crossings, (4907,)\n",
      "Number of cycles, (2449, 5)\n",
      "/header_info\n",
      "/REM 1\n",
      "/REM 2\n",
      "/REM 3\n"
     ]
    },
    {
     "name": "stderr",
     "output_type": "stream",
     "text": [
      "ERROR:root:Error processing item: C:\\Users\\Abu Mohammed\\Dropbox\\CBD_dataset_Personal_Copy\\Dataset\\LFP_CBD_chronic_downsampled\\5\\Rat_OS_Ephys_cbd_chronic_Rat5_411358_SD3_OD_14-15_07_2021\\2021-07-14_11-54-05_presleep\\2021-07-14_11-54-05_presleep-states_AS.mat. index 0 is out of bounds for axis 0 with size 0\n"
     ]
    },
    {
     "name": "stdout",
     "output_type": "stream",
     "text": [
      "{'header_info': {'rat': 5, 'study_day': 3, 'condition': 'OD', 'trial': 'presleep', 'treatment': 'VEH'}}\n",
      "(6751318,)\n",
      "(2700,)\n"
     ]
    },
    {
     "name": "stderr",
     "output_type": "stream",
     "text": [
      "ERROR:root:Error processing item: C:\\Users\\Abu Mohammed\\Dropbox\\CBD_dataset_Personal_Copy\\Dataset\\LFP_CBD_chronic_downsampled\\5\\Rat_OS_Ephys_cbd_chronic_Rat5_411358_SD3_OD_14-15_07_2021\\2021-07-14_12-53-09_posttrial1\\2021-07-14_12-53-09_posttrial1-states_ES.mat. index 0 is out of bounds for axis 0 with size 0\n"
     ]
    },
    {
     "name": "stdout",
     "output_type": "stream",
     "text": [
      "{'header_info': {'rat': 5, 'study_day': 3, 'condition': 'OD', 'trial': 'posttrial1', 'treatment': 'VEH'}}\n",
      "(6751488,)\n",
      "(3593,)\n"
     ]
    },
    {
     "name": "stderr",
     "output_type": "stream",
     "text": [
      "ERROR:root:Error processing item: C:\\Users\\Abu Mohammed\\Dropbox\\CBD_dataset_Personal_Copy\\Dataset\\LFP_CBD_chronic_downsampled\\5\\Rat_OS_Ephys_cbd_chronic_Rat5_411358_SD3_OD_14-15_07_2021\\2021-07-14_13-43-51_posttrial2\\2021-07-14_13-43-51_posttrial2-states_ES.mat. index 0 is out of bounds for axis 0 with size 0\n"
     ]
    },
    {
     "name": "stdout",
     "output_type": "stream",
     "text": [
      "{'header_info': {'rat': 5, 'study_day': 3, 'condition': 'OD', 'trial': 'posttrial2', 'treatment': 'VEH'}}\n",
      "(6767275,)\n",
      "(2706,)\n",
      "{'header_info': {'rat': 5, 'study_day': 3, 'condition': 'OD', 'trial': 'posttrial3', 'treatment': 'VEH'}}\n",
      "(6775382,)\n",
      "(2709,)\n",
      "(1, 2)\n",
      "Finding Intrinsic Mode Functions\n",
      "Extracting Instantaneous Phase, Frequencies and Amplitudes of each IMF\n",
      "Theta frequencies are valid\n",
      "Processing REM 1 \n",
      "Generating time-frequency matrix\n",
      "Number of zero crossings, (1916,)\n",
      "Number of cycles, (953, 5)\n",
      "/header_info\n",
      "/REM 1\n",
      "{'header_info': {'rat': 5, 'study_day': 3, 'condition': 'OD', 'trial': 'posttrial4', 'treatment': 'VEH'}}\n",
      "(6774187,)\n",
      "(2709,)\n",
      "(3, 2)\n",
      "Finding Intrinsic Mode Functions\n",
      "Extracting Instantaneous Phase, Frequencies and Amplitudes of each IMF\n",
      "Theta frequencies are valid\n",
      "Processing REM 1 \n",
      "Generating time-frequency matrix\n",
      "Number of zero crossings, (1792,)\n",
      "Number of cycles, (894, 5)\n",
      "Finding Intrinsic Mode Functions\n",
      "Extracting Instantaneous Phase, Frequencies and Amplitudes of each IMF\n",
      "Theta frequencies are valid\n",
      "Processing REM 2 \n",
      "Generating time-frequency matrix\n",
      "Number of zero crossings, (355,)\n",
      "Number of cycles, (176, 5)\n",
      "Finding Intrinsic Mode Functions\n",
      "Extracting Instantaneous Phase, Frequencies and Amplitudes of each IMF\n",
      "Theta frequencies are valid\n",
      "Processing REM 3 \n",
      "Generating time-frequency matrix\n",
      "Number of zero crossings, (1108,)\n",
      "Number of cycles, (552, 5)\n",
      "/header_info\n",
      "/REM 1\n",
      "/REM 2\n",
      "/REM 3\n",
      "{'header_info': {'rat': 5, 'study_day': 3, 'condition': 'OD', 'trial': 'posttrial5', 'treatment': 'VEH'}}\n",
      "(27003563,)\n",
      "(10800,)\n",
      "(1, 2)\n",
      "Finding Intrinsic Mode Functions\n",
      "Extracting Instantaneous Phase, Frequencies and Amplitudes of each IMF\n",
      "Theta frequencies are valid\n",
      "Processing REM 1 \n",
      "Generating time-frequency matrix\n",
      "Number of zero crossings, (2036,)\n",
      "Number of cycles, (1016, 5)\n",
      "/header_info\n",
      "/REM 1\n"
     ]
    },
    {
     "name": "stderr",
     "output_type": "stream",
     "text": [
      "ERROR:root:Error processing item: C:\\Users\\Abu Mohammed\\Dropbox\\CBD_dataset_Personal_Copy\\Dataset\\LFP_CBD_chronic_downsampled\\5\\Rat_OS_Ephys_cbd_chronic_Rat5_411358_SD4_HC_16_07_2021\\2021-07-16_10-23-17_presleep\\2021-07-16_10-23-17_presleep-states_ES.mat. index 0 is out of bounds for axis 0 with size 0\n"
     ]
    },
    {
     "name": "stdout",
     "output_type": "stream",
     "text": [
      "{'header_info': {'rat': 5, 'study_day': 4, 'condition': 'HC', 'trial': 'presleep', 'treatment': 'VEH'}}\n",
      "(6752512,)\n",
      "(2700,)\n",
      "{'header_info': {'rat': 5, 'study_day': 4, 'condition': 'HC', 'trial': 'posttrial1', 'treatment': 'VEH'}}\n",
      "(6751232,)\n",
      "(2699,)\n",
      "(2, 2)\n",
      "Finding Intrinsic Mode Functions\n",
      "Extracting Instantaneous Phase, Frequencies and Amplitudes of each IMF\n",
      "Theta frequencies are valid\n",
      "Processing REM 1 \n",
      "Generating time-frequency matrix\n",
      "Number of zero crossings, (817,)\n",
      "Number of cycles, (407, 5)\n",
      "Finding Intrinsic Mode Functions\n",
      "Extracting Instantaneous Phase, Frequencies and Amplitudes of each IMF\n",
      "Theta frequencies are valid\n",
      "Processing REM 2 \n",
      "Generating time-frequency matrix\n",
      "Number of zero crossings, (5234,)\n",
      "Number of cycles, (2613, 5)\n",
      "/header_info\n",
      "/REM 1\n",
      "/REM 2\n",
      "{'header_info': {'rat': 5, 'study_day': 4, 'condition': 'HC', 'trial': 'posttrial2', 'treatment': 'VEH'}}\n",
      "(7315030,)\n",
      "(2925,)\n",
      "(3, 2)\n",
      "Finding Intrinsic Mode Functions\n",
      "Extracting Instantaneous Phase, Frequencies and Amplitudes of each IMF\n",
      "No valid theta frequencies for REM 0\n",
      "Finding Intrinsic Mode Functions\n",
      "Extracting Instantaneous Phase, Frequencies and Amplitudes of each IMF\n",
      "Theta frequencies are valid\n",
      "Processing REM 1 \n",
      "Generating time-frequency matrix\n",
      "Number of zero crossings, (2106,)\n",
      "Number of cycles, (1051, 5)\n",
      "Finding Intrinsic Mode Functions\n",
      "Extracting Instantaneous Phase, Frequencies and Amplitudes of each IMF\n",
      "Theta frequencies are valid\n",
      "Processing REM 2 \n",
      "Generating time-frequency matrix\n",
      "Number of zero crossings, (621,)\n",
      "Number of cycles, (309, 5)\n",
      "/header_info\n",
      "/REM 1\n",
      "/REM 2\n",
      "{'header_info': {'rat': 5, 'study_day': 4, 'condition': 'HC', 'trial': 'posttrial3', 'treatment': 'VEH'}}\n",
      "(6756608,)\n",
      "(2702,)\n",
      "(3, 2)\n",
      "Finding Intrinsic Mode Functions\n",
      "Extracting Instantaneous Phase, Frequencies and Amplitudes of each IMF\n",
      "Theta frequencies are valid\n",
      "Processing REM 1 \n",
      "Generating time-frequency matrix\n",
      "Number of zero crossings, (4285,)\n",
      "Number of cycles, (2137, 5)\n",
      "Finding Intrinsic Mode Functions\n"
     ]
    }
   ],
   "source": [
    "dict_walk(files_list, folder_path, '', '_cycles', get_cycles_data, dict_write, **cycles_kwargs)"
   ],
   "metadata": {
    "collapsed": false,
    "is_executing": true,
    "ExecuteTime": {
     "start_time": "2023-12-06T18:18:22.008667200Z"
    }
   }
  }
 ],
 "metadata": {
  "kernelspec": {
   "display_name": "Python 3",
   "language": "python",
   "name": "python3"
  },
  "language_info": {
   "codemirror_mode": {
    "name": "ipython",
    "version": 2
   },
   "file_extension": ".py",
   "mimetype": "text/x-python",
   "name": "python",
   "nbconvert_exporter": "python",
   "pygments_lexer": "ipython2",
   "version": "2.7.6"
  }
 },
 "nbformat": 4,
 "nbformat_minor": 0
}
